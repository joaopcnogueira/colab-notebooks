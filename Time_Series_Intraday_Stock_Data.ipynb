{
  "nbformat": 4,
  "nbformat_minor": 0,
  "metadata": {
    "colab": {
      "name": "Time Series Intraday Stock Data.ipynb",
      "provenance": [],
      "collapsed_sections": [],
      "mount_file_id": "17o_33kqZ062EBnw4kZsU6DIn7aOvcoqy",
      "authorship_tag": "ABX9TyO5s3YiU5KQodQPDk8vkpvO",
      "include_colab_link": true
    },
    "kernelspec": {
      "name": "python3",
      "display_name": "Python 3"
    },
    "language_info": {
      "name": "python"
    }
  },
  "cells": [
    {
      "cell_type": "markdown",
      "metadata": {
        "id": "view-in-github",
        "colab_type": "text"
      },
      "source": [
        "<a href=\"https://colab.research.google.com/github/joaopcnogueira/colab-notebooks/blob/main/Time_Series_Intraday_Stock_Data.ipynb\" target=\"_parent\"><img src=\"https://colab.research.google.com/assets/colab-badge.svg\" alt=\"Open In Colab\"/></a>"
      ]
    },
    {
      "cell_type": "code",
      "metadata": {
        "id": "5_5QJ6JOvOpe"
      },
      "source": [
        "# https://github.com/ranaroussi/yfinance\n",
        "!pip install yfinance"
      ],
      "execution_count": null,
      "outputs": []
    },
    {
      "cell_type": "code",
      "metadata": {
        "id": "t51n4o1MvT55"
      },
      "source": [
        "import numpy as np\n",
        "import pandas as pd\n",
        "import yfinance as yf"
      ],
      "execution_count": 5,
      "outputs": []
    },
    {
      "cell_type": "code",
      "metadata": {
        "colab": {
          "base_uri": "https://localhost:8080/"
        },
        "id": "_pXN-U8UvXTI",
        "outputId": "b2866174-7d96-4218-e99a-9410708319aa"
      },
      "source": [
        "# Interval required 5 minutes\n",
        "data = yf.download(tickers='MGLU3.SA', period='60d', interval='5m')"
      ],
      "execution_count": 38,
      "outputs": [
        {
          "output_type": "stream",
          "name": "stdout",
          "text": [
            "\r[*********************100%***********************]  1 of 1 completed\n"
          ]
        }
      ]
    },
    {
      "cell_type": "code",
      "metadata": {
        "colab": {
          "base_uri": "https://localhost:8080/",
          "height": 238
        },
        "id": "OoP3hDJFv6fq",
        "outputId": "84478e17-df82-4f84-e0e5-cbdd8d2663c6"
      },
      "source": [
        "data.head()"
      ],
      "execution_count": 39,
      "outputs": [
        {
          "output_type": "execute_result",
          "data": {
            "text/html": [
              "<div>\n",
              "<style scoped>\n",
              "    .dataframe tbody tr th:only-of-type {\n",
              "        vertical-align: middle;\n",
              "    }\n",
              "\n",
              "    .dataframe tbody tr th {\n",
              "        vertical-align: top;\n",
              "    }\n",
              "\n",
              "    .dataframe thead th {\n",
              "        text-align: right;\n",
              "    }\n",
              "</style>\n",
              "<table border=\"1\" class=\"dataframe\">\n",
              "  <thead>\n",
              "    <tr style=\"text-align: right;\">\n",
              "      <th></th>\n",
              "      <th>Open</th>\n",
              "      <th>High</th>\n",
              "      <th>Low</th>\n",
              "      <th>Close</th>\n",
              "      <th>Adj Close</th>\n",
              "      <th>Volume</th>\n",
              "    </tr>\n",
              "    <tr>\n",
              "      <th>Datetime</th>\n",
              "      <th></th>\n",
              "      <th></th>\n",
              "      <th></th>\n",
              "      <th></th>\n",
              "      <th></th>\n",
              "      <th></th>\n",
              "    </tr>\n",
              "  </thead>\n",
              "  <tbody>\n",
              "    <tr>\n",
              "      <th>2021-07-13 10:05:00-03:00</th>\n",
              "      <td>21.969999</td>\n",
              "      <td>21.990000</td>\n",
              "      <td>21.870001</td>\n",
              "      <td>21.940001</td>\n",
              "      <td>21.940001</td>\n",
              "      <td>108300</td>\n",
              "    </tr>\n",
              "    <tr>\n",
              "      <th>2021-07-13 10:10:00-03:00</th>\n",
              "      <td>21.940001</td>\n",
              "      <td>21.969999</td>\n",
              "      <td>21.850000</td>\n",
              "      <td>21.959999</td>\n",
              "      <td>21.959999</td>\n",
              "      <td>195700</td>\n",
              "    </tr>\n",
              "    <tr>\n",
              "      <th>2021-07-13 10:15:00-03:00</th>\n",
              "      <td>21.959999</td>\n",
              "      <td>21.959999</td>\n",
              "      <td>21.830000</td>\n",
              "      <td>21.850000</td>\n",
              "      <td>21.850000</td>\n",
              "      <td>241100</td>\n",
              "    </tr>\n",
              "    <tr>\n",
              "      <th>2021-07-13 10:20:00-03:00</th>\n",
              "      <td>21.850000</td>\n",
              "      <td>21.850000</td>\n",
              "      <td>21.770000</td>\n",
              "      <td>21.840000</td>\n",
              "      <td>21.840000</td>\n",
              "      <td>289500</td>\n",
              "    </tr>\n",
              "    <tr>\n",
              "      <th>2021-07-13 10:25:00-03:00</th>\n",
              "      <td>21.840000</td>\n",
              "      <td>21.860001</td>\n",
              "      <td>21.770000</td>\n",
              "      <td>21.830000</td>\n",
              "      <td>21.830000</td>\n",
              "      <td>269800</td>\n",
              "    </tr>\n",
              "  </tbody>\n",
              "</table>\n",
              "</div>"
            ],
            "text/plain": [
              "                                Open       High  ...  Adj Close  Volume\n",
              "Datetime                                         ...                   \n",
              "2021-07-13 10:05:00-03:00  21.969999  21.990000  ...  21.940001  108300\n",
              "2021-07-13 10:10:00-03:00  21.940001  21.969999  ...  21.959999  195700\n",
              "2021-07-13 10:15:00-03:00  21.959999  21.959999  ...  21.850000  241100\n",
              "2021-07-13 10:20:00-03:00  21.850000  21.850000  ...  21.840000  289500\n",
              "2021-07-13 10:25:00-03:00  21.840000  21.860001  ...  21.830000  269800\n",
              "\n",
              "[5 rows x 6 columns]"
            ]
          },
          "metadata": {},
          "execution_count": 39
        }
      ]
    },
    {
      "cell_type": "code",
      "metadata": {
        "colab": {
          "base_uri": "https://localhost:8080/",
          "height": 238
        },
        "id": "26wycMFFwCV_",
        "outputId": "4f1f58a2-a553-4afc-fab3-63f0c90f7e6e"
      },
      "source": [
        "data.tail()"
      ],
      "execution_count": 40,
      "outputs": [
        {
          "output_type": "execute_result",
          "data": {
            "text/html": [
              "<div>\n",
              "<style scoped>\n",
              "    .dataframe tbody tr th:only-of-type {\n",
              "        vertical-align: middle;\n",
              "    }\n",
              "\n",
              "    .dataframe tbody tr th {\n",
              "        vertical-align: top;\n",
              "    }\n",
              "\n",
              "    .dataframe thead th {\n",
              "        text-align: right;\n",
              "    }\n",
              "</style>\n",
              "<table border=\"1\" class=\"dataframe\">\n",
              "  <thead>\n",
              "    <tr style=\"text-align: right;\">\n",
              "      <th></th>\n",
              "      <th>Open</th>\n",
              "      <th>High</th>\n",
              "      <th>Low</th>\n",
              "      <th>Close</th>\n",
              "      <th>Adj Close</th>\n",
              "      <th>Volume</th>\n",
              "    </tr>\n",
              "    <tr>\n",
              "      <th>Datetime</th>\n",
              "      <th></th>\n",
              "      <th></th>\n",
              "      <th></th>\n",
              "      <th></th>\n",
              "      <th></th>\n",
              "      <th></th>\n",
              "    </tr>\n",
              "  </thead>\n",
              "  <tbody>\n",
              "    <tr>\n",
              "      <th>2021-10-05 10:45:00-03:00</th>\n",
              "      <td>13.58</td>\n",
              "      <td>13.74</td>\n",
              "      <td>13.57</td>\n",
              "      <td>13.71</td>\n",
              "      <td>13.71</td>\n",
              "      <td>621300</td>\n",
              "    </tr>\n",
              "    <tr>\n",
              "      <th>2021-10-05 10:50:00-03:00</th>\n",
              "      <td>13.71</td>\n",
              "      <td>13.75</td>\n",
              "      <td>13.68</td>\n",
              "      <td>13.70</td>\n",
              "      <td>13.70</td>\n",
              "      <td>513400</td>\n",
              "    </tr>\n",
              "    <tr>\n",
              "      <th>2021-10-05 10:55:00-03:00</th>\n",
              "      <td>13.70</td>\n",
              "      <td>13.77</td>\n",
              "      <td>13.70</td>\n",
              "      <td>13.74</td>\n",
              "      <td>13.74</td>\n",
              "      <td>639400</td>\n",
              "    </tr>\n",
              "    <tr>\n",
              "      <th>2021-10-05 11:00:00-03:00</th>\n",
              "      <td>13.76</td>\n",
              "      <td>13.89</td>\n",
              "      <td>13.74</td>\n",
              "      <td>13.83</td>\n",
              "      <td>13.83</td>\n",
              "      <td>939100</td>\n",
              "    </tr>\n",
              "    <tr>\n",
              "      <th>2021-10-05 11:05:49-03:00</th>\n",
              "      <td>13.80</td>\n",
              "      <td>13.80</td>\n",
              "      <td>13.80</td>\n",
              "      <td>13.80</td>\n",
              "      <td>13.80</td>\n",
              "      <td>0</td>\n",
              "    </tr>\n",
              "  </tbody>\n",
              "</table>\n",
              "</div>"
            ],
            "text/plain": [
              "                            Open   High    Low  Close  Adj Close  Volume\n",
              "Datetime                                                                \n",
              "2021-10-05 10:45:00-03:00  13.58  13.74  13.57  13.71      13.71  621300\n",
              "2021-10-05 10:50:00-03:00  13.71  13.75  13.68  13.70      13.70  513400\n",
              "2021-10-05 10:55:00-03:00  13.70  13.77  13.70  13.74      13.74  639400\n",
              "2021-10-05 11:00:00-03:00  13.76  13.89  13.74  13.83      13.83  939100\n",
              "2021-10-05 11:05:49-03:00  13.80  13.80  13.80  13.80      13.80       0"
            ]
          },
          "metadata": {},
          "execution_count": 40
        }
      ]
    },
    {
      "cell_type": "code",
      "metadata": {
        "colab": {
          "base_uri": "https://localhost:8080/",
          "height": 206
        },
        "id": "BK6MckzAxHht",
        "outputId": "a1374f60-b0b5-4bfa-b337-1fa6b36e2fa9"
      },
      "source": [
        "data = data.reset_index()\n",
        "data.head()"
      ],
      "execution_count": 41,
      "outputs": [
        {
          "output_type": "execute_result",
          "data": {
            "text/html": [
              "<div>\n",
              "<style scoped>\n",
              "    .dataframe tbody tr th:only-of-type {\n",
              "        vertical-align: middle;\n",
              "    }\n",
              "\n",
              "    .dataframe tbody tr th {\n",
              "        vertical-align: top;\n",
              "    }\n",
              "\n",
              "    .dataframe thead th {\n",
              "        text-align: right;\n",
              "    }\n",
              "</style>\n",
              "<table border=\"1\" class=\"dataframe\">\n",
              "  <thead>\n",
              "    <tr style=\"text-align: right;\">\n",
              "      <th></th>\n",
              "      <th>Datetime</th>\n",
              "      <th>Open</th>\n",
              "      <th>High</th>\n",
              "      <th>Low</th>\n",
              "      <th>Close</th>\n",
              "      <th>Adj Close</th>\n",
              "      <th>Volume</th>\n",
              "    </tr>\n",
              "  </thead>\n",
              "  <tbody>\n",
              "    <tr>\n",
              "      <th>0</th>\n",
              "      <td>2021-07-13 10:05:00-03:00</td>\n",
              "      <td>21.969999</td>\n",
              "      <td>21.990000</td>\n",
              "      <td>21.870001</td>\n",
              "      <td>21.940001</td>\n",
              "      <td>21.940001</td>\n",
              "      <td>108300</td>\n",
              "    </tr>\n",
              "    <tr>\n",
              "      <th>1</th>\n",
              "      <td>2021-07-13 10:10:00-03:00</td>\n",
              "      <td>21.940001</td>\n",
              "      <td>21.969999</td>\n",
              "      <td>21.850000</td>\n",
              "      <td>21.959999</td>\n",
              "      <td>21.959999</td>\n",
              "      <td>195700</td>\n",
              "    </tr>\n",
              "    <tr>\n",
              "      <th>2</th>\n",
              "      <td>2021-07-13 10:15:00-03:00</td>\n",
              "      <td>21.959999</td>\n",
              "      <td>21.959999</td>\n",
              "      <td>21.830000</td>\n",
              "      <td>21.850000</td>\n",
              "      <td>21.850000</td>\n",
              "      <td>241100</td>\n",
              "    </tr>\n",
              "    <tr>\n",
              "      <th>3</th>\n",
              "      <td>2021-07-13 10:20:00-03:00</td>\n",
              "      <td>21.850000</td>\n",
              "      <td>21.850000</td>\n",
              "      <td>21.770000</td>\n",
              "      <td>21.840000</td>\n",
              "      <td>21.840000</td>\n",
              "      <td>289500</td>\n",
              "    </tr>\n",
              "    <tr>\n",
              "      <th>4</th>\n",
              "      <td>2021-07-13 10:25:00-03:00</td>\n",
              "      <td>21.840000</td>\n",
              "      <td>21.860001</td>\n",
              "      <td>21.770000</td>\n",
              "      <td>21.830000</td>\n",
              "      <td>21.830000</td>\n",
              "      <td>269800</td>\n",
              "    </tr>\n",
              "  </tbody>\n",
              "</table>\n",
              "</div>"
            ],
            "text/plain": [
              "                   Datetime       Open       High  ...      Close  Adj Close  Volume\n",
              "0 2021-07-13 10:05:00-03:00  21.969999  21.990000  ...  21.940001  21.940001  108300\n",
              "1 2021-07-13 10:10:00-03:00  21.940001  21.969999  ...  21.959999  21.959999  195700\n",
              "2 2021-07-13 10:15:00-03:00  21.959999  21.959999  ...  21.850000  21.850000  241100\n",
              "3 2021-07-13 10:20:00-03:00  21.850000  21.850000  ...  21.840000  21.840000  289500\n",
              "4 2021-07-13 10:25:00-03:00  21.840000  21.860001  ...  21.830000  21.830000  269800\n",
              "\n",
              "[5 rows x 7 columns]"
            ]
          },
          "metadata": {},
          "execution_count": 41
        }
      ]
    },
    {
      "cell_type": "code",
      "metadata": {
        "colab": {
          "base_uri": "https://localhost:8080/",
          "height": 206
        },
        "id": "p2wRBhSBxGg6",
        "outputId": "b2720979-ebb5-4ace-beda-202ff5344e35"
      },
      "source": [
        "# removendo a timezone para salvar em excel\n",
        "data['Datetime'] = data['Datetime'].dt.tz_localize(None)\n",
        "data.head()"
      ],
      "execution_count": 42,
      "outputs": [
        {
          "output_type": "execute_result",
          "data": {
            "text/html": [
              "<div>\n",
              "<style scoped>\n",
              "    .dataframe tbody tr th:only-of-type {\n",
              "        vertical-align: middle;\n",
              "    }\n",
              "\n",
              "    .dataframe tbody tr th {\n",
              "        vertical-align: top;\n",
              "    }\n",
              "\n",
              "    .dataframe thead th {\n",
              "        text-align: right;\n",
              "    }\n",
              "</style>\n",
              "<table border=\"1\" class=\"dataframe\">\n",
              "  <thead>\n",
              "    <tr style=\"text-align: right;\">\n",
              "      <th></th>\n",
              "      <th>Datetime</th>\n",
              "      <th>Open</th>\n",
              "      <th>High</th>\n",
              "      <th>Low</th>\n",
              "      <th>Close</th>\n",
              "      <th>Adj Close</th>\n",
              "      <th>Volume</th>\n",
              "    </tr>\n",
              "  </thead>\n",
              "  <tbody>\n",
              "    <tr>\n",
              "      <th>0</th>\n",
              "      <td>2021-07-13 10:05:00</td>\n",
              "      <td>21.969999</td>\n",
              "      <td>21.990000</td>\n",
              "      <td>21.870001</td>\n",
              "      <td>21.940001</td>\n",
              "      <td>21.940001</td>\n",
              "      <td>108300</td>\n",
              "    </tr>\n",
              "    <tr>\n",
              "      <th>1</th>\n",
              "      <td>2021-07-13 10:10:00</td>\n",
              "      <td>21.940001</td>\n",
              "      <td>21.969999</td>\n",
              "      <td>21.850000</td>\n",
              "      <td>21.959999</td>\n",
              "      <td>21.959999</td>\n",
              "      <td>195700</td>\n",
              "    </tr>\n",
              "    <tr>\n",
              "      <th>2</th>\n",
              "      <td>2021-07-13 10:15:00</td>\n",
              "      <td>21.959999</td>\n",
              "      <td>21.959999</td>\n",
              "      <td>21.830000</td>\n",
              "      <td>21.850000</td>\n",
              "      <td>21.850000</td>\n",
              "      <td>241100</td>\n",
              "    </tr>\n",
              "    <tr>\n",
              "      <th>3</th>\n",
              "      <td>2021-07-13 10:20:00</td>\n",
              "      <td>21.850000</td>\n",
              "      <td>21.850000</td>\n",
              "      <td>21.770000</td>\n",
              "      <td>21.840000</td>\n",
              "      <td>21.840000</td>\n",
              "      <td>289500</td>\n",
              "    </tr>\n",
              "    <tr>\n",
              "      <th>4</th>\n",
              "      <td>2021-07-13 10:25:00</td>\n",
              "      <td>21.840000</td>\n",
              "      <td>21.860001</td>\n",
              "      <td>21.770000</td>\n",
              "      <td>21.830000</td>\n",
              "      <td>21.830000</td>\n",
              "      <td>269800</td>\n",
              "    </tr>\n",
              "  </tbody>\n",
              "</table>\n",
              "</div>"
            ],
            "text/plain": [
              "             Datetime       Open       High  ...      Close  Adj Close  Volume\n",
              "0 2021-07-13 10:05:00  21.969999  21.990000  ...  21.940001  21.940001  108300\n",
              "1 2021-07-13 10:10:00  21.940001  21.969999  ...  21.959999  21.959999  195700\n",
              "2 2021-07-13 10:15:00  21.959999  21.959999  ...  21.850000  21.850000  241100\n",
              "3 2021-07-13 10:20:00  21.850000  21.850000  ...  21.840000  21.840000  289500\n",
              "4 2021-07-13 10:25:00  21.840000  21.860001  ...  21.830000  21.830000  269800\n",
              "\n",
              "[5 rows x 7 columns]"
            ]
          },
          "metadata": {},
          "execution_count": 42
        }
      ]
    },
    {
      "cell_type": "code",
      "metadata": {
        "id": "QjYgz7MAwszQ"
      },
      "source": [
        "data.to_excel('mglu-stock-intraday-last-60d.xlsx', index=False)"
      ],
      "execution_count": 43,
      "outputs": []
    },
    {
      "cell_type": "code",
      "metadata": {
        "id": "ohTFa4EfxpQQ"
      },
      "source": [
        ""
      ],
      "execution_count": null,
      "outputs": []
    }
  ]
}