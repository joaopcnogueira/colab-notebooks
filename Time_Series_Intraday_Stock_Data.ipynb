{
  "nbformat": 4,
  "nbformat_minor": 0,
  "metadata": {
    "colab": {
      "name": "Time Series Intraday Stock Data.ipynb",
      "provenance": [],
      "collapsed_sections": [],
      "mount_file_id": "17o_33kqZ062EBnw4kZsU6DIn7aOvcoqy",
      "authorship_tag": "ABX9TyPyRLrelouorQ5p1g+o1Dxa",
      "include_colab_link": true
    },
    "kernelspec": {
      "name": "python3",
      "display_name": "Python 3"
    },
    "language_info": {
      "name": "python"
    }
  },
  "cells": [
    {
      "cell_type": "markdown",
      "metadata": {
        "id": "view-in-github",
        "colab_type": "text"
      },
      "source": [
        "<a href=\"https://colab.research.google.com/github/joaopcnogueira/colab-notebooks/blob/main/Time_Series_Intraday_Stock_Data.ipynb\" target=\"_parent\"><img src=\"https://colab.research.google.com/assets/colab-badge.svg\" alt=\"Open In Colab\"/></a>"
      ]
    },
    {
      "cell_type": "code",
      "metadata": {
        "id": "5_5QJ6JOvOpe"
      },
      "source": [
        "# https://github.com/ranaroussi/yfinance\n",
        "!pip install yfinance"
      ],
      "execution_count": null,
      "outputs": []
    },
    {
      "cell_type": "code",
      "metadata": {
        "id": "t51n4o1MvT55"
      },
      "source": [
        "import numpy as np\n",
        "import pandas as pd\n",
        "import yfinance as yf"
      ],
      "execution_count": 5,
      "outputs": []
    },
    {
      "cell_type": "code",
      "metadata": {
        "colab": {
          "base_uri": "https://localhost:8080/"
        },
        "id": "_pXN-U8UvXTI",
        "outputId": "9eebe020-f817-4661-ecd9-7d4ff4a92baf"
      },
      "source": [
        "# Interval required 5 minutes\n",
        "data = yf.download(tickers='AAPL', period='60d', interval='5m')"
      ],
      "execution_count": 37,
      "outputs": [
        {
          "output_type": "stream",
          "name": "stdout",
          "text": [
            "\r[*********************100%***********************]  1 of 1 completed\n"
          ]
        }
      ]
    },
    {
      "cell_type": "code",
      "metadata": {
        "colab": {
          "base_uri": "https://localhost:8080/",
          "height": 238
        },
        "id": "OoP3hDJFv6fq",
        "outputId": "8b0d7d64-95e1-4bea-d136-cb6a06ff12f0"
      },
      "source": [
        "data.head()"
      ],
      "execution_count": 27,
      "outputs": [
        {
          "output_type": "execute_result",
          "data": {
            "text/html": [
              "<div>\n",
              "<style scoped>\n",
              "    .dataframe tbody tr th:only-of-type {\n",
              "        vertical-align: middle;\n",
              "    }\n",
              "\n",
              "    .dataframe tbody tr th {\n",
              "        vertical-align: top;\n",
              "    }\n",
              "\n",
              "    .dataframe thead th {\n",
              "        text-align: right;\n",
              "    }\n",
              "</style>\n",
              "<table border=\"1\" class=\"dataframe\">\n",
              "  <thead>\n",
              "    <tr style=\"text-align: right;\">\n",
              "      <th></th>\n",
              "      <th>Open</th>\n",
              "      <th>High</th>\n",
              "      <th>Low</th>\n",
              "      <th>Close</th>\n",
              "      <th>Adj Close</th>\n",
              "      <th>Volume</th>\n",
              "    </tr>\n",
              "    <tr>\n",
              "      <th>Datetime</th>\n",
              "      <th></th>\n",
              "      <th></th>\n",
              "      <th></th>\n",
              "      <th></th>\n",
              "      <th></th>\n",
              "      <th></th>\n",
              "    </tr>\n",
              "  </thead>\n",
              "  <tbody>\n",
              "    <tr>\n",
              "      <th>2021-07-13 09:30:00-04:00</th>\n",
              "      <td>144.179993</td>\n",
              "      <td>144.910004</td>\n",
              "      <td>144.160004</td>\n",
              "      <td>144.490005</td>\n",
              "      <td>144.490005</td>\n",
              "      <td>5873980</td>\n",
              "    </tr>\n",
              "    <tr>\n",
              "      <th>2021-07-13 09:35:00-04:00</th>\n",
              "      <td>144.250000</td>\n",
              "      <td>144.710007</td>\n",
              "      <td>144.199997</td>\n",
              "      <td>144.595001</td>\n",
              "      <td>144.595001</td>\n",
              "      <td>1917378</td>\n",
              "    </tr>\n",
              "    <tr>\n",
              "      <th>2021-07-13 09:40:00-04:00</th>\n",
              "      <td>144.750000</td>\n",
              "      <td>145.250000</td>\n",
              "      <td>144.699997</td>\n",
              "      <td>145.229996</td>\n",
              "      <td>145.229996</td>\n",
              "      <td>2324649</td>\n",
              "    </tr>\n",
              "    <tr>\n",
              "      <th>2021-07-13 09:45:00-04:00</th>\n",
              "      <td>145.589996</td>\n",
              "      <td>146.065002</td>\n",
              "      <td>145.550003</td>\n",
              "      <td>146.065002</td>\n",
              "      <td>146.065002</td>\n",
              "      <td>3439291</td>\n",
              "    </tr>\n",
              "    <tr>\n",
              "      <th>2021-07-13 09:50:00-04:00</th>\n",
              "      <td>146.000000</td>\n",
              "      <td>146.199997</td>\n",
              "      <td>145.750000</td>\n",
              "      <td>146.190002</td>\n",
              "      <td>146.190002</td>\n",
              "      <td>2244653</td>\n",
              "    </tr>\n",
              "  </tbody>\n",
              "</table>\n",
              "</div>"
            ],
            "text/plain": [
              "                                 Open        High  ...   Adj Close   Volume\n",
              "Datetime                                           ...                     \n",
              "2021-07-13 09:30:00-04:00  144.179993  144.910004  ...  144.490005  5873980\n",
              "2021-07-13 09:35:00-04:00  144.250000  144.710007  ...  144.595001  1917378\n",
              "2021-07-13 09:40:00-04:00  144.750000  145.250000  ...  145.229996  2324649\n",
              "2021-07-13 09:45:00-04:00  145.589996  146.065002  ...  146.065002  3439291\n",
              "2021-07-13 09:50:00-04:00  146.000000  146.199997  ...  146.190002  2244653\n",
              "\n",
              "[5 rows x 6 columns]"
            ]
          },
          "metadata": {},
          "execution_count": 27
        }
      ]
    },
    {
      "cell_type": "code",
      "metadata": {
        "colab": {
          "base_uri": "https://localhost:8080/",
          "height": 238
        },
        "id": "26wycMFFwCV_",
        "outputId": "ea25c9cd-33e4-4054-ba49-091fd1fae943"
      },
      "source": [
        "data.tail()"
      ],
      "execution_count": 17,
      "outputs": [
        {
          "output_type": "execute_result",
          "data": {
            "text/html": [
              "<div>\n",
              "<style scoped>\n",
              "    .dataframe tbody tr th:only-of-type {\n",
              "        vertical-align: middle;\n",
              "    }\n",
              "\n",
              "    .dataframe tbody tr th {\n",
              "        vertical-align: top;\n",
              "    }\n",
              "\n",
              "    .dataframe thead th {\n",
              "        text-align: right;\n",
              "    }\n",
              "</style>\n",
              "<table border=\"1\" class=\"dataframe\">\n",
              "  <thead>\n",
              "    <tr style=\"text-align: right;\">\n",
              "      <th></th>\n",
              "      <th>Open</th>\n",
              "      <th>High</th>\n",
              "      <th>Low</th>\n",
              "      <th>Close</th>\n",
              "      <th>Adj Close</th>\n",
              "      <th>Volume</th>\n",
              "    </tr>\n",
              "    <tr>\n",
              "      <th>Datetime</th>\n",
              "      <th></th>\n",
              "      <th></th>\n",
              "      <th></th>\n",
              "      <th></th>\n",
              "      <th></th>\n",
              "      <th></th>\n",
              "    </tr>\n",
              "  </thead>\n",
              "  <tbody>\n",
              "    <tr>\n",
              "      <th>2021-10-05 09:45:00-04:00</th>\n",
              "      <td>139.610107</td>\n",
              "      <td>139.880005</td>\n",
              "      <td>139.531296</td>\n",
              "      <td>139.880005</td>\n",
              "      <td>139.880005</td>\n",
              "      <td>1337950</td>\n",
              "    </tr>\n",
              "    <tr>\n",
              "      <th>2021-10-05 09:50:00-04:00</th>\n",
              "      <td>139.880005</td>\n",
              "      <td>139.970001</td>\n",
              "      <td>139.645004</td>\n",
              "      <td>139.869995</td>\n",
              "      <td>139.869995</td>\n",
              "      <td>1354995</td>\n",
              "    </tr>\n",
              "    <tr>\n",
              "      <th>2021-10-05 09:55:00-04:00</th>\n",
              "      <td>139.865005</td>\n",
              "      <td>139.979996</td>\n",
              "      <td>139.619995</td>\n",
              "      <td>139.820007</td>\n",
              "      <td>139.820007</td>\n",
              "      <td>1025894</td>\n",
              "    </tr>\n",
              "    <tr>\n",
              "      <th>2021-10-05 10:00:00-04:00</th>\n",
              "      <td>139.820007</td>\n",
              "      <td>139.860001</td>\n",
              "      <td>139.690002</td>\n",
              "      <td>139.839996</td>\n",
              "      <td>139.839996</td>\n",
              "      <td>220639</td>\n",
              "    </tr>\n",
              "    <tr>\n",
              "      <th>2021-10-05 10:01:20-04:00</th>\n",
              "      <td>139.818405</td>\n",
              "      <td>139.818405</td>\n",
              "      <td>139.818405</td>\n",
              "      <td>139.818405</td>\n",
              "      <td>139.818405</td>\n",
              "      <td>0</td>\n",
              "    </tr>\n",
              "  </tbody>\n",
              "</table>\n",
              "</div>"
            ],
            "text/plain": [
              "                                 Open        High  ...   Adj Close   Volume\n",
              "Datetime                                           ...                     \n",
              "2021-10-05 09:45:00-04:00  139.610107  139.880005  ...  139.880005  1337950\n",
              "2021-10-05 09:50:00-04:00  139.880005  139.970001  ...  139.869995  1354995\n",
              "2021-10-05 09:55:00-04:00  139.865005  139.979996  ...  139.820007  1025894\n",
              "2021-10-05 10:00:00-04:00  139.820007  139.860001  ...  139.839996   220639\n",
              "2021-10-05 10:01:20-04:00  139.818405  139.818405  ...  139.818405        0\n",
              "\n",
              "[5 rows x 6 columns]"
            ]
          },
          "metadata": {},
          "execution_count": 17
        }
      ]
    },
    {
      "cell_type": "code",
      "metadata": {
        "colab": {
          "base_uri": "https://localhost:8080/",
          "height": 206
        },
        "id": "BK6MckzAxHht",
        "outputId": "375062e5-1c14-464d-af9f-986c77cc966c"
      },
      "source": [
        "data = data.reset_index()\n",
        "data.head()"
      ],
      "execution_count": 28,
      "outputs": [
        {
          "output_type": "execute_result",
          "data": {
            "text/html": [
              "<div>\n",
              "<style scoped>\n",
              "    .dataframe tbody tr th:only-of-type {\n",
              "        vertical-align: middle;\n",
              "    }\n",
              "\n",
              "    .dataframe tbody tr th {\n",
              "        vertical-align: top;\n",
              "    }\n",
              "\n",
              "    .dataframe thead th {\n",
              "        text-align: right;\n",
              "    }\n",
              "</style>\n",
              "<table border=\"1\" class=\"dataframe\">\n",
              "  <thead>\n",
              "    <tr style=\"text-align: right;\">\n",
              "      <th></th>\n",
              "      <th>Datetime</th>\n",
              "      <th>Open</th>\n",
              "      <th>High</th>\n",
              "      <th>Low</th>\n",
              "      <th>Close</th>\n",
              "      <th>Adj Close</th>\n",
              "      <th>Volume</th>\n",
              "    </tr>\n",
              "  </thead>\n",
              "  <tbody>\n",
              "    <tr>\n",
              "      <th>0</th>\n",
              "      <td>2021-07-13 09:30:00-04:00</td>\n",
              "      <td>144.179993</td>\n",
              "      <td>144.910004</td>\n",
              "      <td>144.160004</td>\n",
              "      <td>144.490005</td>\n",
              "      <td>144.490005</td>\n",
              "      <td>5873980</td>\n",
              "    </tr>\n",
              "    <tr>\n",
              "      <th>1</th>\n",
              "      <td>2021-07-13 09:35:00-04:00</td>\n",
              "      <td>144.250000</td>\n",
              "      <td>144.710007</td>\n",
              "      <td>144.199997</td>\n",
              "      <td>144.595001</td>\n",
              "      <td>144.595001</td>\n",
              "      <td>1917378</td>\n",
              "    </tr>\n",
              "    <tr>\n",
              "      <th>2</th>\n",
              "      <td>2021-07-13 09:40:00-04:00</td>\n",
              "      <td>144.750000</td>\n",
              "      <td>145.250000</td>\n",
              "      <td>144.699997</td>\n",
              "      <td>145.229996</td>\n",
              "      <td>145.229996</td>\n",
              "      <td>2324649</td>\n",
              "    </tr>\n",
              "    <tr>\n",
              "      <th>3</th>\n",
              "      <td>2021-07-13 09:45:00-04:00</td>\n",
              "      <td>145.589996</td>\n",
              "      <td>146.065002</td>\n",
              "      <td>145.550003</td>\n",
              "      <td>146.065002</td>\n",
              "      <td>146.065002</td>\n",
              "      <td>3439291</td>\n",
              "    </tr>\n",
              "    <tr>\n",
              "      <th>4</th>\n",
              "      <td>2021-07-13 09:50:00-04:00</td>\n",
              "      <td>146.000000</td>\n",
              "      <td>146.199997</td>\n",
              "      <td>145.750000</td>\n",
              "      <td>146.190002</td>\n",
              "      <td>146.190002</td>\n",
              "      <td>2244653</td>\n",
              "    </tr>\n",
              "  </tbody>\n",
              "</table>\n",
              "</div>"
            ],
            "text/plain": [
              "                   Datetime        Open  ...   Adj Close   Volume\n",
              "0 2021-07-13 09:30:00-04:00  144.179993  ...  144.490005  5873980\n",
              "1 2021-07-13 09:35:00-04:00  144.250000  ...  144.595001  1917378\n",
              "2 2021-07-13 09:40:00-04:00  144.750000  ...  145.229996  2324649\n",
              "3 2021-07-13 09:45:00-04:00  145.589996  ...  146.065002  3439291\n",
              "4 2021-07-13 09:50:00-04:00  146.000000  ...  146.190002  2244653\n",
              "\n",
              "[5 rows x 7 columns]"
            ]
          },
          "metadata": {},
          "execution_count": 28
        }
      ]
    },
    {
      "cell_type": "code",
      "metadata": {
        "colab": {
          "base_uri": "https://localhost:8080/",
          "height": 206
        },
        "id": "p2wRBhSBxGg6",
        "outputId": "61c87c9a-ff35-4bd7-97ef-bf26feae98eb"
      },
      "source": [
        "# removendo a timezone para salvar em excel\n",
        "data['Datetime'] = data['Datetime'].dt.tz_localize(None)\n",
        "data.head()"
      ],
      "execution_count": 29,
      "outputs": [
        {
          "output_type": "execute_result",
          "data": {
            "text/html": [
              "<div>\n",
              "<style scoped>\n",
              "    .dataframe tbody tr th:only-of-type {\n",
              "        vertical-align: middle;\n",
              "    }\n",
              "\n",
              "    .dataframe tbody tr th {\n",
              "        vertical-align: top;\n",
              "    }\n",
              "\n",
              "    .dataframe thead th {\n",
              "        text-align: right;\n",
              "    }\n",
              "</style>\n",
              "<table border=\"1\" class=\"dataframe\">\n",
              "  <thead>\n",
              "    <tr style=\"text-align: right;\">\n",
              "      <th></th>\n",
              "      <th>Datetime</th>\n",
              "      <th>Open</th>\n",
              "      <th>High</th>\n",
              "      <th>Low</th>\n",
              "      <th>Close</th>\n",
              "      <th>Adj Close</th>\n",
              "      <th>Volume</th>\n",
              "    </tr>\n",
              "  </thead>\n",
              "  <tbody>\n",
              "    <tr>\n",
              "      <th>0</th>\n",
              "      <td>2021-07-13 09:30:00</td>\n",
              "      <td>144.179993</td>\n",
              "      <td>144.910004</td>\n",
              "      <td>144.160004</td>\n",
              "      <td>144.490005</td>\n",
              "      <td>144.490005</td>\n",
              "      <td>5873980</td>\n",
              "    </tr>\n",
              "    <tr>\n",
              "      <th>1</th>\n",
              "      <td>2021-07-13 09:35:00</td>\n",
              "      <td>144.250000</td>\n",
              "      <td>144.710007</td>\n",
              "      <td>144.199997</td>\n",
              "      <td>144.595001</td>\n",
              "      <td>144.595001</td>\n",
              "      <td>1917378</td>\n",
              "    </tr>\n",
              "    <tr>\n",
              "      <th>2</th>\n",
              "      <td>2021-07-13 09:40:00</td>\n",
              "      <td>144.750000</td>\n",
              "      <td>145.250000</td>\n",
              "      <td>144.699997</td>\n",
              "      <td>145.229996</td>\n",
              "      <td>145.229996</td>\n",
              "      <td>2324649</td>\n",
              "    </tr>\n",
              "    <tr>\n",
              "      <th>3</th>\n",
              "      <td>2021-07-13 09:45:00</td>\n",
              "      <td>145.589996</td>\n",
              "      <td>146.065002</td>\n",
              "      <td>145.550003</td>\n",
              "      <td>146.065002</td>\n",
              "      <td>146.065002</td>\n",
              "      <td>3439291</td>\n",
              "    </tr>\n",
              "    <tr>\n",
              "      <th>4</th>\n",
              "      <td>2021-07-13 09:50:00</td>\n",
              "      <td>146.000000</td>\n",
              "      <td>146.199997</td>\n",
              "      <td>145.750000</td>\n",
              "      <td>146.190002</td>\n",
              "      <td>146.190002</td>\n",
              "      <td>2244653</td>\n",
              "    </tr>\n",
              "  </tbody>\n",
              "</table>\n",
              "</div>"
            ],
            "text/plain": [
              "             Datetime        Open        High  ...       Close   Adj Close   Volume\n",
              "0 2021-07-13 09:30:00  144.179993  144.910004  ...  144.490005  144.490005  5873980\n",
              "1 2021-07-13 09:35:00  144.250000  144.710007  ...  144.595001  144.595001  1917378\n",
              "2 2021-07-13 09:40:00  144.750000  145.250000  ...  145.229996  145.229996  2324649\n",
              "3 2021-07-13 09:45:00  145.589996  146.065002  ...  146.065002  146.065002  3439291\n",
              "4 2021-07-13 09:50:00  146.000000  146.199997  ...  146.190002  146.190002  2244653\n",
              "\n",
              "[5 rows x 7 columns]"
            ]
          },
          "metadata": {},
          "execution_count": 29
        }
      ]
    },
    {
      "cell_type": "code",
      "metadata": {
        "id": "QjYgz7MAwszQ"
      },
      "source": [
        "data.to_excel('apple-stock-intraday-last-60d.xlsx', index=False)"
      ],
      "execution_count": 33,
      "outputs": []
    },
    {
      "cell_type": "code",
      "metadata": {
        "id": "ohTFa4EfxpQQ"
      },
      "source": [
        ""
      ],
      "execution_count": null,
      "outputs": []
    }
  ]
}