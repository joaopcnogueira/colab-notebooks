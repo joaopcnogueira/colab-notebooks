{
  "nbformat": 4,
  "nbformat_minor": 0,
  "metadata": {
    "colab": {
      "name": "Customer Lifetime Value.ipynb",
      "provenance": [],
      "collapsed_sections": [],
      "toc_visible": true,
      "mount_file_id": "1f50mdWIF7zMxqg87v7e-b16DdKcVHkTu",
      "authorship_tag": "ABX9TyNuAejoFbJUnlO+PFFjskID",
      "include_colab_link": true
    },
    "kernelspec": {
      "name": "python3",
      "display_name": "Python 3"
    },
    "language_info": {
      "name": "python"
    }
  },
  "cells": [
    {
      "cell_type": "markdown",
      "metadata": {
        "id": "view-in-github",
        "colab_type": "text"
      },
      "source": [
        "<a href=\"https://colab.research.google.com/github/joaopcnogueira/colab-notebooks/blob/main/Customer_Lifetime_Value.ipynb\" target=\"_parent\"><img src=\"https://colab.research.google.com/assets/colab-badge.svg\" alt=\"Open In Colab\"/></a>"
      ]
    },
    {
      "cell_type": "code",
      "metadata": {
        "id": "Mx32CpZyVXJ6"
      },
      "source": [
        "!pip install plotnine"
      ],
      "execution_count": null,
      "outputs": []
    },
    {
      "cell_type": "code",
      "metadata": {
        "id": "H3dkmoePTee5"
      },
      "source": [
        "import numpy as np\n",
        "import pandas as pd\n",
        "from plotnine import *"
      ],
      "execution_count": 27,
      "outputs": []
    },
    {
      "cell_type": "markdown",
      "metadata": {
        "id": "Ulgs1Lt9T5I1"
      },
      "source": [
        "# 1.0 Data Preparation"
      ]
    },
    {
      "cell_type": "code",
      "metadata": {
        "colab": {
          "base_uri": "https://localhost:8080/",
          "height": 206
        },
        "id": "GRXINoeyToX2",
        "outputId": "c06abe97-5790-447d-f4b8-841c6b3101c5"
      },
      "source": [
        "cdnow_raw_df = pd.read_csv(\"/content/drive/MyDrive/Colab Notebooks/data/CDNOW_master.txt\", sep   = \"\\s+\",names = [\"customer_id\", \"date\", \"quantity\", \"price\"])\n",
        "cdnow_raw_df.head()"
      ],
      "execution_count": 3,
      "outputs": [
        {
          "output_type": "execute_result",
          "data": {
            "text/html": [
              "<div>\n",
              "<style scoped>\n",
              "    .dataframe tbody tr th:only-of-type {\n",
              "        vertical-align: middle;\n",
              "    }\n",
              "\n",
              "    .dataframe tbody tr th {\n",
              "        vertical-align: top;\n",
              "    }\n",
              "\n",
              "    .dataframe thead th {\n",
              "        text-align: right;\n",
              "    }\n",
              "</style>\n",
              "<table border=\"1\" class=\"dataframe\">\n",
              "  <thead>\n",
              "    <tr style=\"text-align: right;\">\n",
              "      <th></th>\n",
              "      <th>customer_id</th>\n",
              "      <th>date</th>\n",
              "      <th>quantity</th>\n",
              "      <th>price</th>\n",
              "    </tr>\n",
              "  </thead>\n",
              "  <tbody>\n",
              "    <tr>\n",
              "      <th>0</th>\n",
              "      <td>1</td>\n",
              "      <td>19970101</td>\n",
              "      <td>1</td>\n",
              "      <td>11.77</td>\n",
              "    </tr>\n",
              "    <tr>\n",
              "      <th>1</th>\n",
              "      <td>2</td>\n",
              "      <td>19970112</td>\n",
              "      <td>1</td>\n",
              "      <td>12.00</td>\n",
              "    </tr>\n",
              "    <tr>\n",
              "      <th>2</th>\n",
              "      <td>2</td>\n",
              "      <td>19970112</td>\n",
              "      <td>5</td>\n",
              "      <td>77.00</td>\n",
              "    </tr>\n",
              "    <tr>\n",
              "      <th>3</th>\n",
              "      <td>3</td>\n",
              "      <td>19970102</td>\n",
              "      <td>2</td>\n",
              "      <td>20.76</td>\n",
              "    </tr>\n",
              "    <tr>\n",
              "      <th>4</th>\n",
              "      <td>3</td>\n",
              "      <td>19970330</td>\n",
              "      <td>2</td>\n",
              "      <td>20.76</td>\n",
              "    </tr>\n",
              "  </tbody>\n",
              "</table>\n",
              "</div>"
            ],
            "text/plain": [
              "   customer_id      date  quantity  price\n",
              "0            1  19970101         1  11.77\n",
              "1            2  19970112         1  12.00\n",
              "2            2  19970112         5  77.00\n",
              "3            3  19970102         2  20.76\n",
              "4            3  19970330         2  20.76"
            ]
          },
          "metadata": {},
          "execution_count": 3
        }
      ]
    },
    {
      "cell_type": "code",
      "metadata": {
        "colab": {
          "base_uri": "https://localhost:8080/"
        },
        "id": "fFUDup7vTvxc",
        "outputId": "1fa7e21e-8237-482c-8e45-f0fcff280c3f"
      },
      "source": [
        "cdnow_raw_df.info()"
      ],
      "execution_count": 4,
      "outputs": [
        {
          "output_type": "stream",
          "name": "stdout",
          "text": [
            "<class 'pandas.core.frame.DataFrame'>\n",
            "RangeIndex: 69659 entries, 0 to 69658\n",
            "Data columns (total 4 columns):\n",
            " #   Column       Non-Null Count  Dtype  \n",
            "---  ------       --------------  -----  \n",
            " 0   customer_id  69659 non-null  int64  \n",
            " 1   date         69659 non-null  int64  \n",
            " 2   quantity     69659 non-null  int64  \n",
            " 3   price        69659 non-null  float64\n",
            "dtypes: float64(1), int64(3)\n",
            "memory usage: 2.1 MB\n"
          ]
        }
      ]
    },
    {
      "cell_type": "code",
      "metadata": {
        "id": "yWHAs9pST31c"
      },
      "source": [
        "cdnow_df = cdnow_raw_df \\\n",
        "  .assign(date = lambda x: x['date'].astype(str)) \\\n",
        "  .assign(date = lambda x: pd.to_datetime(x['date']))"
      ],
      "execution_count": 7,
      "outputs": []
    },
    {
      "cell_type": "code",
      "metadata": {
        "colab": {
          "base_uri": "https://localhost:8080/",
          "height": 206
        },
        "id": "Mhl4Uc24UM0e",
        "outputId": "84cd8a8d-fdef-4084-d082-71b5619f97d0"
      },
      "source": [
        "cdnow_df.head()"
      ],
      "execution_count": 8,
      "outputs": [
        {
          "output_type": "execute_result",
          "data": {
            "text/html": [
              "<div>\n",
              "<style scoped>\n",
              "    .dataframe tbody tr th:only-of-type {\n",
              "        vertical-align: middle;\n",
              "    }\n",
              "\n",
              "    .dataframe tbody tr th {\n",
              "        vertical-align: top;\n",
              "    }\n",
              "\n",
              "    .dataframe thead th {\n",
              "        text-align: right;\n",
              "    }\n",
              "</style>\n",
              "<table border=\"1\" class=\"dataframe\">\n",
              "  <thead>\n",
              "    <tr style=\"text-align: right;\">\n",
              "      <th></th>\n",
              "      <th>customer_id</th>\n",
              "      <th>date</th>\n",
              "      <th>quantity</th>\n",
              "      <th>price</th>\n",
              "    </tr>\n",
              "  </thead>\n",
              "  <tbody>\n",
              "    <tr>\n",
              "      <th>0</th>\n",
              "      <td>1</td>\n",
              "      <td>1997-01-01</td>\n",
              "      <td>1</td>\n",
              "      <td>11.77</td>\n",
              "    </tr>\n",
              "    <tr>\n",
              "      <th>1</th>\n",
              "      <td>2</td>\n",
              "      <td>1997-01-12</td>\n",
              "      <td>1</td>\n",
              "      <td>12.00</td>\n",
              "    </tr>\n",
              "    <tr>\n",
              "      <th>2</th>\n",
              "      <td>2</td>\n",
              "      <td>1997-01-12</td>\n",
              "      <td>5</td>\n",
              "      <td>77.00</td>\n",
              "    </tr>\n",
              "    <tr>\n",
              "      <th>3</th>\n",
              "      <td>3</td>\n",
              "      <td>1997-01-02</td>\n",
              "      <td>2</td>\n",
              "      <td>20.76</td>\n",
              "    </tr>\n",
              "    <tr>\n",
              "      <th>4</th>\n",
              "      <td>3</td>\n",
              "      <td>1997-03-30</td>\n",
              "      <td>2</td>\n",
              "      <td>20.76</td>\n",
              "    </tr>\n",
              "  </tbody>\n",
              "</table>\n",
              "</div>"
            ],
            "text/plain": [
              "   customer_id       date  quantity  price\n",
              "0            1 1997-01-01         1  11.77\n",
              "1            2 1997-01-12         1  12.00\n",
              "2            2 1997-01-12         5  77.00\n",
              "3            3 1997-01-02         2  20.76\n",
              "4            3 1997-03-30         2  20.76"
            ]
          },
          "metadata": {},
          "execution_count": 8
        }
      ]
    },
    {
      "cell_type": "code",
      "metadata": {
        "colab": {
          "base_uri": "https://localhost:8080/"
        },
        "id": "XNLOntC6UOrD",
        "outputId": "f5058bde-2f38-47b3-ebe9-b80ebb241e5d"
      },
      "source": [
        "cdnow_df.info()"
      ],
      "execution_count": 9,
      "outputs": [
        {
          "output_type": "stream",
          "name": "stdout",
          "text": [
            "<class 'pandas.core.frame.DataFrame'>\n",
            "RangeIndex: 69659 entries, 0 to 69658\n",
            "Data columns (total 4 columns):\n",
            " #   Column       Non-Null Count  Dtype         \n",
            "---  ------       --------------  -----         \n",
            " 0   customer_id  69659 non-null  int64         \n",
            " 1   date         69659 non-null  datetime64[ns]\n",
            " 2   quantity     69659 non-null  int64         \n",
            " 3   price        69659 non-null  float64       \n",
            "dtypes: datetime64[ns](1), float64(1), int64(2)\n",
            "memory usage: 2.1 MB\n"
          ]
        }
      ]
    },
    {
      "cell_type": "markdown",
      "metadata": {
        "id": "CyLBSBDIUSd0"
      },
      "source": [
        "# 2.0 Cohort Analysis\n",
        "\n",
        "Only the customers that have joined at the specific business day"
      ]
    },
    {
      "cell_type": "code",
      "metadata": {
        "colab": {
          "base_uri": "https://localhost:8080/",
          "height": 455
        },
        "id": "3eb-Ng1wUXcr",
        "outputId": "1a5135c0-dd2c-4c68-be44-e03e8ff1a7ae"
      },
      "source": [
        "# Get Range of Initial Purchases ----\n",
        "cdnow_first_purchase_df = cdnow_df \\\n",
        "    .sort_values(['customer_id', 'date']) \\\n",
        "    .groupby('customer_id') \\\n",
        "    .first()\n",
        "\n",
        "cdnow_first_purchase_df"
      ],
      "execution_count": 14,
      "outputs": [
        {
          "output_type": "execute_result",
          "data": {
            "text/html": [
              "<div>\n",
              "<style scoped>\n",
              "    .dataframe tbody tr th:only-of-type {\n",
              "        vertical-align: middle;\n",
              "    }\n",
              "\n",
              "    .dataframe tbody tr th {\n",
              "        vertical-align: top;\n",
              "    }\n",
              "\n",
              "    .dataframe thead th {\n",
              "        text-align: right;\n",
              "    }\n",
              "</style>\n",
              "<table border=\"1\" class=\"dataframe\">\n",
              "  <thead>\n",
              "    <tr style=\"text-align: right;\">\n",
              "      <th></th>\n",
              "      <th>date</th>\n",
              "      <th>quantity</th>\n",
              "      <th>price</th>\n",
              "    </tr>\n",
              "    <tr>\n",
              "      <th>customer_id</th>\n",
              "      <th></th>\n",
              "      <th></th>\n",
              "      <th></th>\n",
              "    </tr>\n",
              "  </thead>\n",
              "  <tbody>\n",
              "    <tr>\n",
              "      <th>1</th>\n",
              "      <td>1997-01-01</td>\n",
              "      <td>1</td>\n",
              "      <td>11.77</td>\n",
              "    </tr>\n",
              "    <tr>\n",
              "      <th>2</th>\n",
              "      <td>1997-01-12</td>\n",
              "      <td>1</td>\n",
              "      <td>12.00</td>\n",
              "    </tr>\n",
              "    <tr>\n",
              "      <th>3</th>\n",
              "      <td>1997-01-02</td>\n",
              "      <td>2</td>\n",
              "      <td>20.76</td>\n",
              "    </tr>\n",
              "    <tr>\n",
              "      <th>4</th>\n",
              "      <td>1997-01-01</td>\n",
              "      <td>2</td>\n",
              "      <td>29.33</td>\n",
              "    </tr>\n",
              "    <tr>\n",
              "      <th>5</th>\n",
              "      <td>1997-01-01</td>\n",
              "      <td>2</td>\n",
              "      <td>29.33</td>\n",
              "    </tr>\n",
              "    <tr>\n",
              "      <th>...</th>\n",
              "      <td>...</td>\n",
              "      <td>...</td>\n",
              "      <td>...</td>\n",
              "    </tr>\n",
              "    <tr>\n",
              "      <th>23566</th>\n",
              "      <td>1997-03-25</td>\n",
              "      <td>2</td>\n",
              "      <td>36.00</td>\n",
              "    </tr>\n",
              "    <tr>\n",
              "      <th>23567</th>\n",
              "      <td>1997-03-25</td>\n",
              "      <td>1</td>\n",
              "      <td>20.97</td>\n",
              "    </tr>\n",
              "    <tr>\n",
              "      <th>23568</th>\n",
              "      <td>1997-03-25</td>\n",
              "      <td>1</td>\n",
              "      <td>22.97</td>\n",
              "    </tr>\n",
              "    <tr>\n",
              "      <th>23569</th>\n",
              "      <td>1997-03-25</td>\n",
              "      <td>2</td>\n",
              "      <td>25.74</td>\n",
              "    </tr>\n",
              "    <tr>\n",
              "      <th>23570</th>\n",
              "      <td>1997-03-25</td>\n",
              "      <td>3</td>\n",
              "      <td>51.12</td>\n",
              "    </tr>\n",
              "  </tbody>\n",
              "</table>\n",
              "<p>23570 rows × 3 columns</p>\n",
              "</div>"
            ],
            "text/plain": [
              "                  date  quantity  price\n",
              "customer_id                            \n",
              "1           1997-01-01         1  11.77\n",
              "2           1997-01-12         1  12.00\n",
              "3           1997-01-02         2  20.76\n",
              "4           1997-01-01         2  29.33\n",
              "5           1997-01-01         2  29.33\n",
              "...                ...       ...    ...\n",
              "23566       1997-03-25         2  36.00\n",
              "23567       1997-03-25         1  20.97\n",
              "23568       1997-03-25         1  22.97\n",
              "23569       1997-03-25         2  25.74\n",
              "23570       1997-03-25         3  51.12\n",
              "\n",
              "[23570 rows x 3 columns]"
            ]
          },
          "metadata": {},
          "execution_count": 14
        }
      ]
    },
    {
      "cell_type": "code",
      "metadata": {
        "colab": {
          "base_uri": "https://localhost:8080/",
          "height": 112
        },
        "id": "sXhL5u3PUgHs",
        "outputId": "7056ec9e-93cc-4c4d-d866-770cd4126651"
      },
      "source": [
        "cdnow_first_purchase_df.agg({'date': ['min', 'max']})"
      ],
      "execution_count": 15,
      "outputs": [
        {
          "output_type": "execute_result",
          "data": {
            "text/html": [
              "<div>\n",
              "<style scoped>\n",
              "    .dataframe tbody tr th:only-of-type {\n",
              "        vertical-align: middle;\n",
              "    }\n",
              "\n",
              "    .dataframe tbody tr th {\n",
              "        vertical-align: top;\n",
              "    }\n",
              "\n",
              "    .dataframe thead th {\n",
              "        text-align: right;\n",
              "    }\n",
              "</style>\n",
              "<table border=\"1\" class=\"dataframe\">\n",
              "  <thead>\n",
              "    <tr style=\"text-align: right;\">\n",
              "      <th></th>\n",
              "      <th>date</th>\n",
              "    </tr>\n",
              "  </thead>\n",
              "  <tbody>\n",
              "    <tr>\n",
              "      <th>min</th>\n",
              "      <td>1997-01-01</td>\n",
              "    </tr>\n",
              "    <tr>\n",
              "      <th>max</th>\n",
              "      <td>1997-03-25</td>\n",
              "    </tr>\n",
              "  </tbody>\n",
              "</table>\n",
              "</div>"
            ],
            "text/plain": [
              "          date\n",
              "min 1997-01-01\n",
              "max 1997-03-25"
            ]
          },
          "metadata": {},
          "execution_count": 15
        }
      ]
    },
    {
      "cell_type": "code",
      "metadata": {
        "colab": {
          "base_uri": "https://localhost:8080/",
          "height": 308
        },
        "id": "no6XNbvWUu0B",
        "outputId": "3d538719-064f-46e7-caad-edec81f8d776"
      },
      "source": [
        "# Visualize: All purchases within cohort\n",
        "cdnow_df \\\n",
        "  .reset_index() \\\n",
        "  .set_index('date') \\\n",
        "  .filter(['price']) \\\n",
        "  .resample(rule=\"MS\") \\\n",
        "  .sum() \\\n",
        "  .plot()"
      ],
      "execution_count": 21,
      "outputs": [
        {
          "output_type": "execute_result",
          "data": {
            "text/plain": [
              "<matplotlib.axes._subplots.AxesSubplot at 0x7fe88c5d8590>"
            ]
          },
          "metadata": {},
          "execution_count": 21
        },
        {
          "output_type": "display_data",
          "data": {
            "image/png": "[encoded data removed]",
            "text/plain": [
              "<Figure size 432x288 with 1 Axes>"
            ]
          },
          "metadata": {
            "needs_background": "light"
          }
        }
      ]
    },
    {
      "cell_type": "code",
      "metadata": {
        "id": "osTbMZWAVDdg"
      },
      "source": [
        "# Visualize: Individual Customer Purchases\n",
        "ids = cdnow_df['customer_id'].unique()\n",
        "ids_selected = ids[0:10]"
      ],
      "execution_count": 22,
      "outputs": []
    },
    {
      "cell_type": "code",
      "metadata": {
        "id": "0VQDOIeuVLRM"
      },
      "source": [
        "cdnow_cust_id_subset_df = cdnow_df \\\n",
        "    [cdnow_df['customer_id'].isin(ids_selected)] \\\n",
        "    .groupby(['customer_id', 'date']) \\\n",
        "    .sum() \\\n",
        "    .reset_index()"
      ],
      "execution_count": 25,
      "outputs": []
    },
    {
      "cell_type": "code",
      "metadata": {
        "colab": {
          "base_uri": "https://localhost:8080/",
          "height": 589
        },
        "id": "od8MreMqVNck",
        "outputId": "645a4b27-abf6-4ec7-9f78-364f0e58e51b"
      },
      "source": [
        "ggplot(aes(x='date', y='price', group='customer_id'), data=cdnow_cust_id_subset_df) \\\n",
        "  + geom_line() \\\n",
        "  + geom_point() \\\n",
        "  + facet_wrap('customer_id') \\\n",
        "  + scale_x_date(\n",
        "      date_breaks = \"1 year\",\n",
        "      date_labels = \"%Y\"\n",
        "  )"
      ],
      "execution_count": 34,
      "outputs": [
        {
          "output_type": "stream",
          "name": "stderr",
          "text": [
            "/usr/local/lib/python3.7/dist-packages/plotnine/geoms/geom_path.py:83: PlotnineWarning: geom_path: Each group consist of only one observation. Do you need to adjust the group aesthetic?\n",
            "  \"group aesthetic?\", PlotnineWarning)\n",
            "/usr/local/lib/python3.7/dist-packages/plotnine/geoms/geom_path.py:83: PlotnineWarning: geom_path: Each group consist of only one observation. Do you need to adjust the group aesthetic?\n",
            "  \"group aesthetic?\", PlotnineWarning)\n",
            "/usr/local/lib/python3.7/dist-packages/plotnine/geoms/geom_path.py:83: PlotnineWarning: geom_path: Each group consist of only one observation. Do you need to adjust the group aesthetic?\n",
            "  \"group aesthetic?\", PlotnineWarning)\n"
          ]
        },
        {
          "output_type": "display_data",
          "data": {
            "image/png": "[encoded data removed]",
            "text/plain": [
              "<Figure size 640x480 with 10 Axes>"
            ]
          },
          "metadata": {}
        },
        {
          "output_type": "execute_result",
          "data": {
            "text/plain": [
              "<ggplot: (8789750293941)>"
            ]
          },
          "metadata": {},
          "execution_count": 34
        }
      ]
    },
    {
      "cell_type": "markdown",
      "metadata": {
        "id": "gQ6G0PqmWIFg"
      },
      "source": [
        "# 3.0 Machine Learning\n",
        "\n",
        "Frame the problem:\n",
        "\n",
        "- What will the customers spend in the next 90-days? (Regression)\n",
        "- What is the probability of a customer to make a purchase in next 90-days? (Classification)"
      ]
    },
    {
      "cell_type": "markdown",
      "metadata": {
        "id": "rAXfM_j_WVLW"
      },
      "source": [
        "## 3.1 Time Splitting (Stage 1) "
      ]
    },
    {
      "cell_type": "code",
      "metadata": {
        "id": "BS7hLvXVWUC-"
      },
      "source": [
        "n_days   = 90\n",
        "max_date = cdnow_df['date'].max() \n",
        "cutoff   = max_date - pd.to_timedelta(n_days, unit = \"d\")"
      ],
      "execution_count": 35,
      "outputs": []
    },
    {
      "cell_type": "code",
      "metadata": {
        "colab": {
          "base_uri": "https://localhost:8080/"
        },
        "id": "t0H9Q8mmWan2",
        "outputId": "4b49e01b-4f61-43f0-b570-ce3aa026ed57"
      },
      "source": [
        "max_date"
      ],
      "execution_count": 36,
      "outputs": [
        {
          "output_type": "execute_result",
          "data": {
            "text/plain": [
              "Timestamp('1998-06-30 00:00:00')"
            ]
          },
          "metadata": {},
          "execution_count": 36
        }
      ]
    },
    {
      "cell_type": "code",
      "metadata": {
        "colab": {
          "base_uri": "https://localhost:8080/"
        },
        "id": "jc46kN0tWbYz",
        "outputId": "e6836a78-f8f6-4ab9-fa75-c40d9c942479"
      },
      "source": [
        "cutoff"
      ],
      "execution_count": 37,
      "outputs": [
        {
          "output_type": "execute_result",
          "data": {
            "text/plain": [
              "Timestamp('1998-04-01 00:00:00')"
            ]
          },
          "metadata": {},
          "execution_count": 37
        }
      ]
    },
    {
      "cell_type": "code",
      "metadata": {
        "id": "eASwZD6HWb-_"
      },
      "source": [
        "temporal_in_df = cdnow_df[cdnow_df['date'] <= cutoff]\n",
        "\n",
        "temporal_out_df = cdnow_df[cdnow_df['date'] > cutoff]"
      ],
      "execution_count": 38,
      "outputs": []
    },
    {
      "cell_type": "markdown",
      "metadata": {
        "id": "zyjJy_8PWiE8"
      },
      "source": [
        "## 3.2 Feature Engineering (RFM)\n",
        "- Most challenging part\n",
        "- 2-Stage Process\n",
        "- Need to frame the problem\n",
        "- Need to thing about what features to include"
      ]
    },
    {
      "cell_type": "code",
      "metadata": {
        "colab": {
          "base_uri": "https://localhost:8080/",
          "height": 238
        },
        "id": "r56Hds22WhI_",
        "outputId": "fb16ca34-c6e1-4df0-cd6b-46eb79cdc790"
      },
      "source": [
        "# Make Targets from out data ----\n",
        "targets_df = temporal_out_df \\\n",
        "  .drop('quantity', axis=1) \\\n",
        "  .groupby('customer_id') \\\n",
        "  .sum() \\\n",
        "  .rename({'price': 'spend_90_total'}, axis = 1) \\\n",
        "  .assign(spend_90_flag = 1)\n",
        "  \n",
        "targets_df.head()"
      ],
      "execution_count": 39,
      "outputs": [
        {
          "output_type": "execute_result",
          "data": {
            "text/html": [
              "<div>\n",
              "<style scoped>\n",
              "    .dataframe tbody tr th:only-of-type {\n",
              "        vertical-align: middle;\n",
              "    }\n",
              "\n",
              "    .dataframe tbody tr th {\n",
              "        vertical-align: top;\n",
              "    }\n",
              "\n",
              "    .dataframe thead th {\n",
              "        text-align: right;\n",
              "    }\n",
              "</style>\n",
              "<table border=\"1\" class=\"dataframe\">\n",
              "  <thead>\n",
              "    <tr style=\"text-align: right;\">\n",
              "      <th></th>\n",
              "      <th>spend_90_total</th>\n",
              "      <th>spend_90_flag</th>\n",
              "    </tr>\n",
              "    <tr>\n",
              "      <th>customer_id</th>\n",
              "      <th></th>\n",
              "      <th></th>\n",
              "    </tr>\n",
              "  </thead>\n",
              "  <tbody>\n",
              "    <tr>\n",
              "      <th>3</th>\n",
              "      <td>16.99</td>\n",
              "      <td>1</td>\n",
              "    </tr>\n",
              "    <tr>\n",
              "      <th>9</th>\n",
              "      <td>41.98</td>\n",
              "      <td>1</td>\n",
              "    </tr>\n",
              "    <tr>\n",
              "      <th>25</th>\n",
              "      <td>73.43</td>\n",
              "      <td>1</td>\n",
              "    </tr>\n",
              "    <tr>\n",
              "      <th>29</th>\n",
              "      <td>48.45</td>\n",
              "      <td>1</td>\n",
              "    </tr>\n",
              "    <tr>\n",
              "      <th>31</th>\n",
              "      <td>117.99</td>\n",
              "      <td>1</td>\n",
              "    </tr>\n",
              "  </tbody>\n",
              "</table>\n",
              "</div>"
            ],
            "text/plain": [
              "             spend_90_total  spend_90_flag\n",
              "customer_id                               \n",
              "3                     16.99              1\n",
              "9                     41.98              1\n",
              "25                    73.43              1\n",
              "29                    48.45              1\n",
              "31                   117.99              1"
            ]
          },
          "metadata": {},
          "execution_count": 39
        }
      ]
    },
    {
      "cell_type": "code",
      "metadata": {
        "id": "7sND31duW9eJ"
      },
      "source": [
        "# Make Recency (Date) Features from in data ----\n",
        "max_date = temporal_in_df['date'].max()\n",
        "\n",
        "recency_features_df = temporal_in_df \\\n",
        "  .filter(['customer_id', 'date']) \\\n",
        "  .groupby('customer_id') \\\n",
        "  .apply(lambda x: (max_date - x['date'].max()) / pd.to_timedelta(1, \"day\")) \\\n",
        "  .to_frame() \\\n",
        "  .set_axis([\"recency\"], axis=1)"
      ],
      "execution_count": 48,
      "outputs": []
    },
    {
      "cell_type": "code",
      "metadata": {
        "colab": {
          "base_uri": "https://localhost:8080/",
          "height": 238
        },
        "id": "OAb6WQwkXybi",
        "outputId": "af50a819-3414-4b32-a4f0-a26bc5c95b2e"
      },
      "source": [
        "recency_features_df.head()"
      ],
      "execution_count": 50,
      "outputs": [
        {
          "output_type": "execute_result",
          "data": {
            "text/html": [
              "<div>\n",
              "<style scoped>\n",
              "    .dataframe tbody tr th:only-of-type {\n",
              "        vertical-align: middle;\n",
              "    }\n",
              "\n",
              "    .dataframe tbody tr th {\n",
              "        vertical-align: top;\n",
              "    }\n",
              "\n",
              "    .dataframe thead th {\n",
              "        text-align: right;\n",
              "    }\n",
              "</style>\n",
              "<table border=\"1\" class=\"dataframe\">\n",
              "  <thead>\n",
              "    <tr style=\"text-align: right;\">\n",
              "      <th></th>\n",
              "      <th>recency</th>\n",
              "    </tr>\n",
              "    <tr>\n",
              "      <th>customer_id</th>\n",
              "      <th></th>\n",
              "    </tr>\n",
              "  </thead>\n",
              "  <tbody>\n",
              "    <tr>\n",
              "      <th>1</th>\n",
              "      <td>455.0</td>\n",
              "    </tr>\n",
              "    <tr>\n",
              "      <th>2</th>\n",
              "      <td>444.0</td>\n",
              "    </tr>\n",
              "    <tr>\n",
              "      <th>3</th>\n",
              "      <td>127.0</td>\n",
              "    </tr>\n",
              "    <tr>\n",
              "      <th>4</th>\n",
              "      <td>110.0</td>\n",
              "    </tr>\n",
              "    <tr>\n",
              "      <th>5</th>\n",
              "      <td>88.0</td>\n",
              "    </tr>\n",
              "  </tbody>\n",
              "</table>\n",
              "</div>"
            ],
            "text/plain": [
              "             recency\n",
              "customer_id         \n",
              "1              455.0\n",
              "2              444.0\n",
              "3              127.0\n",
              "4              110.0\n",
              "5               88.0"
            ]
          },
          "metadata": {},
          "execution_count": 50
        }
      ]
    }
  ]
}