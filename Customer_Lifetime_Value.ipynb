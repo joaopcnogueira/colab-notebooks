{
  "nbformat": 4,
  "nbformat_minor": 0,
  "metadata": {
    "colab": {
      "name": "Customer Lifetime Value.ipynb",
      "provenance": [],
      "collapsed_sections": [],
      "toc_visible": true,
      "mount_file_id": "1f50mdWIF7zMxqg87v7e-b16DdKcVHkTu",
      "authorship_tag": "ABX9TyMthpsmOH1T26Hk1UxJtK/p",
      "include_colab_link": true
    },
    "kernelspec": {
      "name": "python3",
      "display_name": "Python 3"
    },
    "language_info": {
      "name": "python"
    }
  },
  "cells": [
    {
      "cell_type": "markdown",
      "metadata": {
        "id": "view-in-github",
        "colab_type": "text"
      },
      "source": [
        "<a href=\"https://colab.research.google.com/github/joaopcnogueira/colab-notebooks/blob/main/Customer_Lifetime_Value.ipynb\" target=\"_parent\"><img src=\"https://colab.research.google.com/assets/colab-badge.svg\" alt=\"Open In Colab\"/></a>"
      ]
    },
    {
      "cell_type": "code",
      "metadata": {
        "id": "Mx32CpZyVXJ6"
      },
      "source": [
        "!pip install plotnine"
      ],
      "execution_count": null,
      "outputs": []
    },
    {
      "cell_type": "code",
      "metadata": {
        "id": "H3dkmoePTee5"
      },
      "source": [
        "import numpy as np\n",
        "import pandas as pd\n",
        "from plotnine import *"
      ],
      "execution_count": 2,
      "outputs": []
    },
    {
      "cell_type": "markdown",
      "metadata": {
        "id": "Ulgs1Lt9T5I1"
      },
      "source": [
        "# 1.0 Data Preparation"
      ]
    },
    {
      "cell_type": "code",
      "metadata": {
        "colab": {
          "base_uri": "https://localhost:8080/",
          "height": 206
        },
        "id": "GRXINoeyToX2",
        "outputId": "da55414a-455e-44b3-ff10-231277dd5636"
      },
      "source": [
        "cdnow_raw_df = pd.read_csv(\"/content/drive/MyDrive/Colab Notebooks/data/CDNOW_master.txt\", \n",
        "                           sep=\"\\s+\", \n",
        "                           names = [\"customer_id\", \"date\", \"quantity\", \"price\"])\n",
        "cdnow_raw_df.head()"
      ],
      "execution_count": 3,
      "outputs": [
        {
          "output_type": "execute_result",
          "data": {
            "text/html": [
              "<div>\n",
              "<style scoped>\n",
              "    .dataframe tbody tr th:only-of-type {\n",
              "        vertical-align: middle;\n",
              "    }\n",
              "\n",
              "    .dataframe tbody tr th {\n",
              "        vertical-align: top;\n",
              "    }\n",
              "\n",
              "    .dataframe thead th {\n",
              "        text-align: right;\n",
              "    }\n",
              "</style>\n",
              "<table border=\"1\" class=\"dataframe\">\n",
              "  <thead>\n",
              "    <tr style=\"text-align: right;\">\n",
              "      <th></th>\n",
              "      <th>customer_id</th>\n",
              "      <th>date</th>\n",
              "      <th>quantity</th>\n",
              "      <th>price</th>\n",
              "    </tr>\n",
              "  </thead>\n",
              "  <tbody>\n",
              "    <tr>\n",
              "      <th>0</th>\n",
              "      <td>1</td>\n",
              "      <td>19970101</td>\n",
              "      <td>1</td>\n",
              "      <td>11.77</td>\n",
              "    </tr>\n",
              "    <tr>\n",
              "      <th>1</th>\n",
              "      <td>2</td>\n",
              "      <td>19970112</td>\n",
              "      <td>1</td>\n",
              "      <td>12.00</td>\n",
              "    </tr>\n",
              "    <tr>\n",
              "      <th>2</th>\n",
              "      <td>2</td>\n",
              "      <td>19970112</td>\n",
              "      <td>5</td>\n",
              "      <td>77.00</td>\n",
              "    </tr>\n",
              "    <tr>\n",
              "      <th>3</th>\n",
              "      <td>3</td>\n",
              "      <td>19970102</td>\n",
              "      <td>2</td>\n",
              "      <td>20.76</td>\n",
              "    </tr>\n",
              "    <tr>\n",
              "      <th>4</th>\n",
              "      <td>3</td>\n",
              "      <td>19970330</td>\n",
              "      <td>2</td>\n",
              "      <td>20.76</td>\n",
              "    </tr>\n",
              "  </tbody>\n",
              "</table>\n",
              "</div>"
            ],
            "text/plain": [
              "   customer_id      date  quantity  price\n",
              "0            1  19970101         1  11.77\n",
              "1            2  19970112         1  12.00\n",
              "2            2  19970112         5  77.00\n",
              "3            3  19970102         2  20.76\n",
              "4            3  19970330         2  20.76"
            ]
          },
          "metadata": {},
          "execution_count": 3
        }
      ]
    },
    {
      "cell_type": "code",
      "metadata": {
        "colab": {
          "base_uri": "https://localhost:8080/"
        },
        "id": "fFUDup7vTvxc",
        "outputId": "6750f7c9-f174-4436-83c7-0e7c293fa292"
      },
      "source": [
        "cdnow_raw_df.info()"
      ],
      "execution_count": 4,
      "outputs": [
        {
          "output_type": "stream",
          "name": "stdout",
          "text": [
            "<class 'pandas.core.frame.DataFrame'>\n",
            "RangeIndex: 69659 entries, 0 to 69658\n",
            "Data columns (total 4 columns):\n",
            " #   Column       Non-Null Count  Dtype  \n",
            "---  ------       --------------  -----  \n",
            " 0   customer_id  69659 non-null  int64  \n",
            " 1   date         69659 non-null  int64  \n",
            " 2   quantity     69659 non-null  int64  \n",
            " 3   price        69659 non-null  float64\n",
            "dtypes: float64(1), int64(3)\n",
            "memory usage: 2.1 MB\n"
          ]
        }
      ]
    },
    {
      "cell_type": "code",
      "metadata": {
        "id": "yWHAs9pST31c"
      },
      "source": [
        "cdnow_df = cdnow_raw_df \\\n",
        "  .assign(date = lambda x: x['date'].astype(str)) \\\n",
        "  .assign(date = lambda x: pd.to_datetime(x['date']))"
      ],
      "execution_count": 5,
      "outputs": []
    },
    {
      "cell_type": "code",
      "metadata": {
        "colab": {
          "base_uri": "https://localhost:8080/",
          "height": 206
        },
        "id": "Mhl4Uc24UM0e",
        "outputId": "ba7b1518-9c50-44a5-9098-ace2d019c0ef"
      },
      "source": [
        "cdnow_df.head()"
      ],
      "execution_count": 6,
      "outputs": [
        {
          "output_type": "execute_result",
          "data": {
            "text/html": [
              "<div>\n",
              "<style scoped>\n",
              "    .dataframe tbody tr th:only-of-type {\n",
              "        vertical-align: middle;\n",
              "    }\n",
              "\n",
              "    .dataframe tbody tr th {\n",
              "        vertical-align: top;\n",
              "    }\n",
              "\n",
              "    .dataframe thead th {\n",
              "        text-align: right;\n",
              "    }\n",
              "</style>\n",
              "<table border=\"1\" class=\"dataframe\">\n",
              "  <thead>\n",
              "    <tr style=\"text-align: right;\">\n",
              "      <th></th>\n",
              "      <th>customer_id</th>\n",
              "      <th>date</th>\n",
              "      <th>quantity</th>\n",
              "      <th>price</th>\n",
              "    </tr>\n",
              "  </thead>\n",
              "  <tbody>\n",
              "    <tr>\n",
              "      <th>0</th>\n",
              "      <td>1</td>\n",
              "      <td>1997-01-01</td>\n",
              "      <td>1</td>\n",
              "      <td>11.77</td>\n",
              "    </tr>\n",
              "    <tr>\n",
              "      <th>1</th>\n",
              "      <td>2</td>\n",
              "      <td>1997-01-12</td>\n",
              "      <td>1</td>\n",
              "      <td>12.00</td>\n",
              "    </tr>\n",
              "    <tr>\n",
              "      <th>2</th>\n",
              "      <td>2</td>\n",
              "      <td>1997-01-12</td>\n",
              "      <td>5</td>\n",
              "      <td>77.00</td>\n",
              "    </tr>\n",
              "    <tr>\n",
              "      <th>3</th>\n",
              "      <td>3</td>\n",
              "      <td>1997-01-02</td>\n",
              "      <td>2</td>\n",
              "      <td>20.76</td>\n",
              "    </tr>\n",
              "    <tr>\n",
              "      <th>4</th>\n",
              "      <td>3</td>\n",
              "      <td>1997-03-30</td>\n",
              "      <td>2</td>\n",
              "      <td>20.76</td>\n",
              "    </tr>\n",
              "  </tbody>\n",
              "</table>\n",
              "</div>"
            ],
            "text/plain": [
              "   customer_id       date  quantity  price\n",
              "0            1 1997-01-01         1  11.77\n",
              "1            2 1997-01-12         1  12.00\n",
              "2            2 1997-01-12         5  77.00\n",
              "3            3 1997-01-02         2  20.76\n",
              "4            3 1997-03-30         2  20.76"
            ]
          },
          "metadata": {},
          "execution_count": 6
        }
      ]
    },
    {
      "cell_type": "code",
      "metadata": {
        "colab": {
          "base_uri": "https://localhost:8080/"
        },
        "id": "XNLOntC6UOrD",
        "outputId": "1883c8a7-13bf-43e9-9fbe-765456716e42"
      },
      "source": [
        "cdnow_df.info()"
      ],
      "execution_count": 7,
      "outputs": [
        {
          "output_type": "stream",
          "name": "stdout",
          "text": [
            "<class 'pandas.core.frame.DataFrame'>\n",
            "RangeIndex: 69659 entries, 0 to 69658\n",
            "Data columns (total 4 columns):\n",
            " #   Column       Non-Null Count  Dtype         \n",
            "---  ------       --------------  -----         \n",
            " 0   customer_id  69659 non-null  int64         \n",
            " 1   date         69659 non-null  datetime64[ns]\n",
            " 2   quantity     69659 non-null  int64         \n",
            " 3   price        69659 non-null  float64       \n",
            "dtypes: datetime64[ns](1), float64(1), int64(2)\n",
            "memory usage: 2.1 MB\n"
          ]
        }
      ]
    },
    {
      "cell_type": "markdown",
      "metadata": {
        "id": "CyLBSBDIUSd0"
      },
      "source": [
        "# 2.0 Cohort Analysis\n",
        "\n",
        "Only the customers that have joined at the specific business day"
      ]
    },
    {
      "cell_type": "code",
      "metadata": {
        "colab": {
          "base_uri": "https://localhost:8080/",
          "height": 455
        },
        "id": "3eb-Ng1wUXcr",
        "outputId": "643bc116-307a-4334-d0db-cc97ecd2c5e8"
      },
      "source": [
        "# Get Range of Initial Purchases ----\n",
        "cdnow_first_purchase_df = cdnow_df \\\n",
        "    .sort_values(['customer_id', 'date']) \\\n",
        "    .groupby('customer_id') \\\n",
        "    .first()\n",
        "\n",
        "cdnow_first_purchase_df"
      ],
      "execution_count": 8,
      "outputs": [
        {
          "output_type": "execute_result",
          "data": {
            "text/html": [
              "<div>\n",
              "<style scoped>\n",
              "    .dataframe tbody tr th:only-of-type {\n",
              "        vertical-align: middle;\n",
              "    }\n",
              "\n",
              "    .dataframe tbody tr th {\n",
              "        vertical-align: top;\n",
              "    }\n",
              "\n",
              "    .dataframe thead th {\n",
              "        text-align: right;\n",
              "    }\n",
              "</style>\n",
              "<table border=\"1\" class=\"dataframe\">\n",
              "  <thead>\n",
              "    <tr style=\"text-align: right;\">\n",
              "      <th></th>\n",
              "      <th>date</th>\n",
              "      <th>quantity</th>\n",
              "      <th>price</th>\n",
              "    </tr>\n",
              "    <tr>\n",
              "      <th>customer_id</th>\n",
              "      <th></th>\n",
              "      <th></th>\n",
              "      <th></th>\n",
              "    </tr>\n",
              "  </thead>\n",
              "  <tbody>\n",
              "    <tr>\n",
              "      <th>1</th>\n",
              "      <td>1997-01-01</td>\n",
              "      <td>1</td>\n",
              "      <td>11.77</td>\n",
              "    </tr>\n",
              "    <tr>\n",
              "      <th>2</th>\n",
              "      <td>1997-01-12</td>\n",
              "      <td>1</td>\n",
              "      <td>12.00</td>\n",
              "    </tr>\n",
              "    <tr>\n",
              "      <th>3</th>\n",
              "      <td>1997-01-02</td>\n",
              "      <td>2</td>\n",
              "      <td>20.76</td>\n",
              "    </tr>\n",
              "    <tr>\n",
              "      <th>4</th>\n",
              "      <td>1997-01-01</td>\n",
              "      <td>2</td>\n",
              "      <td>29.33</td>\n",
              "    </tr>\n",
              "    <tr>\n",
              "      <th>5</th>\n",
              "      <td>1997-01-01</td>\n",
              "      <td>2</td>\n",
              "      <td>29.33</td>\n",
              "    </tr>\n",
              "    <tr>\n",
              "      <th>...</th>\n",
              "      <td>...</td>\n",
              "      <td>...</td>\n",
              "      <td>...</td>\n",
              "    </tr>\n",
              "    <tr>\n",
              "      <th>23566</th>\n",
              "      <td>1997-03-25</td>\n",
              "      <td>2</td>\n",
              "      <td>36.00</td>\n",
              "    </tr>\n",
              "    <tr>\n",
              "      <th>23567</th>\n",
              "      <td>1997-03-25</td>\n",
              "      <td>1</td>\n",
              "      <td>20.97</td>\n",
              "    </tr>\n",
              "    <tr>\n",
              "      <th>23568</th>\n",
              "      <td>1997-03-25</td>\n",
              "      <td>1</td>\n",
              "      <td>22.97</td>\n",
              "    </tr>\n",
              "    <tr>\n",
              "      <th>23569</th>\n",
              "      <td>1997-03-25</td>\n",
              "      <td>2</td>\n",
              "      <td>25.74</td>\n",
              "    </tr>\n",
              "    <tr>\n",
              "      <th>23570</th>\n",
              "      <td>1997-03-25</td>\n",
              "      <td>3</td>\n",
              "      <td>51.12</td>\n",
              "    </tr>\n",
              "  </tbody>\n",
              "</table>\n",
              "<p>23570 rows × 3 columns</p>\n",
              "</div>"
            ],
            "text/plain": [
              "                  date  quantity  price\n",
              "customer_id                            \n",
              "1           1997-01-01         1  11.77\n",
              "2           1997-01-12         1  12.00\n",
              "3           1997-01-02         2  20.76\n",
              "4           1997-01-01         2  29.33\n",
              "5           1997-01-01         2  29.33\n",
              "...                ...       ...    ...\n",
              "23566       1997-03-25         2  36.00\n",
              "23567       1997-03-25         1  20.97\n",
              "23568       1997-03-25         1  22.97\n",
              "23569       1997-03-25         2  25.74\n",
              "23570       1997-03-25         3  51.12\n",
              "\n",
              "[23570 rows x 3 columns]"
            ]
          },
          "metadata": {},
          "execution_count": 8
        }
      ]
    },
    {
      "cell_type": "code",
      "metadata": {
        "colab": {
          "base_uri": "https://localhost:8080/",
          "height": 112
        },
        "id": "sXhL5u3PUgHs",
        "outputId": "644129dc-4bbc-4dd8-dd38-71a3c55cce01"
      },
      "source": [
        "cdnow_first_purchase_df.agg({'date': ['min', 'max']})"
      ],
      "execution_count": 9,
      "outputs": [
        {
          "output_type": "execute_result",
          "data": {
            "text/html": [
              "<div>\n",
              "<style scoped>\n",
              "    .dataframe tbody tr th:only-of-type {\n",
              "        vertical-align: middle;\n",
              "    }\n",
              "\n",
              "    .dataframe tbody tr th {\n",
              "        vertical-align: top;\n",
              "    }\n",
              "\n",
              "    .dataframe thead th {\n",
              "        text-align: right;\n",
              "    }\n",
              "</style>\n",
              "<table border=\"1\" class=\"dataframe\">\n",
              "  <thead>\n",
              "    <tr style=\"text-align: right;\">\n",
              "      <th></th>\n",
              "      <th>date</th>\n",
              "    </tr>\n",
              "  </thead>\n",
              "  <tbody>\n",
              "    <tr>\n",
              "      <th>min</th>\n",
              "      <td>1997-01-01</td>\n",
              "    </tr>\n",
              "    <tr>\n",
              "      <th>max</th>\n",
              "      <td>1997-03-25</td>\n",
              "    </tr>\n",
              "  </tbody>\n",
              "</table>\n",
              "</div>"
            ],
            "text/plain": [
              "          date\n",
              "min 1997-01-01\n",
              "max 1997-03-25"
            ]
          },
          "metadata": {},
          "execution_count": 9
        }
      ]
    },
    {
      "cell_type": "code",
      "metadata": {
        "colab": {
          "base_uri": "https://localhost:8080/",
          "height": 308
        },
        "id": "no6XNbvWUu0B",
        "outputId": "122e280b-d660-4253-a411-563ceef082ad"
      },
      "source": [
        "# Visualize: All purchases within cohort\n",
        "cdnow_df \\\n",
        "  .reset_index() \\\n",
        "  .set_index('date') \\\n",
        "  .filter(['price']) \\\n",
        "  .resample(rule=\"MS\") \\\n",
        "  .sum() \\\n",
        "  .plot()"
      ],
      "execution_count": 10,
      "outputs": [
        {
          "output_type": "execute_result",
          "data": {
            "text/plain": [
              "<matplotlib.axes._subplots.AxesSubplot at 0x7fee4076f9d0>"
            ]
          },
          "metadata": {},
          "execution_count": 10
        },
        {
          "output_type": "display_data",
          "data": {
            "image/png": "[encoded data removed]",
            "text/plain": [
              "<Figure size 432x288 with 1 Axes>"
            ]
          },
          "metadata": {
            "needs_background": "light"
          }
        }
      ]
    },
    {
      "cell_type": "code",
      "metadata": {
        "id": "osTbMZWAVDdg"
      },
      "source": [
        "# Visualize: Individual Customer Purchases\n",
        "ids = cdnow_df['customer_id'].unique()\n",
        "ids_selected = ids[0:10]"
      ],
      "execution_count": 11,
      "outputs": []
    },
    {
      "cell_type": "code",
      "metadata": {
        "id": "0VQDOIeuVLRM"
      },
      "source": [
        "cdnow_cust_id_subset_df = cdnow_df \\\n",
        "    [cdnow_df['customer_id'].isin(ids_selected)] \\\n",
        "    .groupby(['customer_id', 'date']) \\\n",
        "    .sum() \\\n",
        "    .reset_index()"
      ],
      "execution_count": 12,
      "outputs": []
    },
    {
      "cell_type": "code",
      "metadata": {
        "colab": {
          "base_uri": "https://localhost:8080/",
          "height": 589
        },
        "id": "od8MreMqVNck",
        "outputId": "a78e1f73-e0af-4d34-a137-81c1a8283f36"
      },
      "source": [
        "ggplot(aes(x='date', y='price', group='customer_id'), data=cdnow_cust_id_subset_df) \\\n",
        "  + geom_line() \\\n",
        "  + geom_point() \\\n",
        "  + facet_wrap('customer_id') \\\n",
        "  + scale_x_date(\n",
        "      date_breaks = \"1 year\",\n",
        "      date_labels = \"%Y\"\n",
        "  )"
      ],
      "execution_count": 13,
      "outputs": [
        {
          "output_type": "stream",
          "name": "stderr",
          "text": [
            "/usr/local/lib/python3.7/dist-packages/plotnine/geoms/geom_path.py:83: PlotnineWarning: geom_path: Each group consist of only one observation. Do you need to adjust the group aesthetic?\n",
            "  \"group aesthetic?\", PlotnineWarning)\n",
            "/usr/local/lib/python3.7/dist-packages/plotnine/geoms/geom_path.py:83: PlotnineWarning: geom_path: Each group consist of only one observation. Do you need to adjust the group aesthetic?\n",
            "  \"group aesthetic?\", PlotnineWarning)\n",
            "/usr/local/lib/python3.7/dist-packages/plotnine/geoms/geom_path.py:83: PlotnineWarning: geom_path: Each group consist of only one observation. Do you need to adjust the group aesthetic?\n",
            "  \"group aesthetic?\", PlotnineWarning)\n"
          ]
        },
        {
          "output_type": "display_data",
          "data": {
            "image/png": "[encoded data removed]",
            "text/plain": [
              "<Figure size 640x480 with 10 Axes>"
            ]
          },
          "metadata": {}
        },
        {
          "output_type": "execute_result",
          "data": {
            "text/plain": [
              "<ggplot: (8791328847477)>"
            ]
          },
          "metadata": {},
          "execution_count": 13
        }
      ]
    },
    {
      "cell_type": "markdown",
      "metadata": {
        "id": "gQ6G0PqmWIFg"
      },
      "source": [
        "# 3.0 Machine Learning\n",
        "\n",
        "Frame the problem:\n",
        "\n",
        "- What will the customers spend in the next 90-days? (Regression)\n",
        "- What is the probability of a customer to make a purchase in next 90-days? (Classification)"
      ]
    },
    {
      "cell_type": "markdown",
      "metadata": {
        "id": "rAXfM_j_WVLW"
      },
      "source": [
        "## 3.1 Time Splitting (Stage 1) "
      ]
    },
    {
      "cell_type": "code",
      "metadata": {
        "id": "BS7hLvXVWUC-"
      },
      "source": [
        "n_days   = 90\n",
        "max_date = cdnow_df['date'].max() \n",
        "cutoff   = max_date - pd.to_timedelta(n_days, unit = \"d\")"
      ],
      "execution_count": 14,
      "outputs": []
    },
    {
      "cell_type": "code",
      "metadata": {
        "colab": {
          "base_uri": "https://localhost:8080/"
        },
        "id": "t0H9Q8mmWan2",
        "outputId": "9cb0409d-8e10-4848-a9d2-654301f72d27"
      },
      "source": [
        "max_date"
      ],
      "execution_count": 15,
      "outputs": [
        {
          "output_type": "execute_result",
          "data": {
            "text/plain": [
              "Timestamp('1998-06-30 00:00:00')"
            ]
          },
          "metadata": {},
          "execution_count": 15
        }
      ]
    },
    {
      "cell_type": "code",
      "metadata": {
        "colab": {
          "base_uri": "https://localhost:8080/"
        },
        "id": "jc46kN0tWbYz",
        "outputId": "6619b869-bb0c-4eb3-93f5-ed77c8afe6b0"
      },
      "source": [
        "cutoff"
      ],
      "execution_count": 16,
      "outputs": [
        {
          "output_type": "execute_result",
          "data": {
            "text/plain": [
              "Timestamp('1998-04-01 00:00:00')"
            ]
          },
          "metadata": {},
          "execution_count": 16
        }
      ]
    },
    {
      "cell_type": "code",
      "metadata": {
        "id": "eASwZD6HWb-_"
      },
      "source": [
        "temporal_in_df = cdnow_df[cdnow_df['date'] <= cutoff]\n",
        "\n",
        "temporal_out_df = cdnow_df[cdnow_df['date'] > cutoff]"
      ],
      "execution_count": 17,
      "outputs": []
    },
    {
      "cell_type": "markdown",
      "metadata": {
        "id": "zyjJy_8PWiE8"
      },
      "source": [
        "## 3.2 Feature Engineering (RFM)\n",
        "- Most challenging part\n",
        "- 2-Stage Process\n",
        "- Need to frame the problem\n",
        "- Need to thing about what features to include"
      ]
    },
    {
      "cell_type": "code",
      "metadata": {
        "colab": {
          "base_uri": "https://localhost:8080/",
          "height": 238
        },
        "id": "r56Hds22WhI_",
        "outputId": "b69088d4-0bd4-47b6-91c6-67bc7c97309d"
      },
      "source": [
        "# Make Targets from out data ----\n",
        "targets_df = temporal_out_df \\\n",
        "  .drop('quantity', axis=1) \\\n",
        "  .groupby('customer_id') \\\n",
        "  .sum() \\\n",
        "  .rename({'price': 'spend_90_total'}, axis = 1) \\\n",
        "  .assign(spend_90_flag = 1)\n",
        "  \n",
        "targets_df.head()"
      ],
      "execution_count": 18,
      "outputs": [
        {
          "output_type": "execute_result",
          "data": {
            "text/html": [
              "<div>\n",
              "<style scoped>\n",
              "    .dataframe tbody tr th:only-of-type {\n",
              "        vertical-align: middle;\n",
              "    }\n",
              "\n",
              "    .dataframe tbody tr th {\n",
              "        vertical-align: top;\n",
              "    }\n",
              "\n",
              "    .dataframe thead th {\n",
              "        text-align: right;\n",
              "    }\n",
              "</style>\n",
              "<table border=\"1\" class=\"dataframe\">\n",
              "  <thead>\n",
              "    <tr style=\"text-align: right;\">\n",
              "      <th></th>\n",
              "      <th>spend_90_total</th>\n",
              "      <th>spend_90_flag</th>\n",
              "    </tr>\n",
              "    <tr>\n",
              "      <th>customer_id</th>\n",
              "      <th></th>\n",
              "      <th></th>\n",
              "    </tr>\n",
              "  </thead>\n",
              "  <tbody>\n",
              "    <tr>\n",
              "      <th>3</th>\n",
              "      <td>16.99</td>\n",
              "      <td>1</td>\n",
              "    </tr>\n",
              "    <tr>\n",
              "      <th>9</th>\n",
              "      <td>41.98</td>\n",
              "      <td>1</td>\n",
              "    </tr>\n",
              "    <tr>\n",
              "      <th>25</th>\n",
              "      <td>73.43</td>\n",
              "      <td>1</td>\n",
              "    </tr>\n",
              "    <tr>\n",
              "      <th>29</th>\n",
              "      <td>48.45</td>\n",
              "      <td>1</td>\n",
              "    </tr>\n",
              "    <tr>\n",
              "      <th>31</th>\n",
              "      <td>117.99</td>\n",
              "      <td>1</td>\n",
              "    </tr>\n",
              "  </tbody>\n",
              "</table>\n",
              "</div>"
            ],
            "text/plain": [
              "             spend_90_total  spend_90_flag\n",
              "customer_id                               \n",
              "3                     16.99              1\n",
              "9                     41.98              1\n",
              "25                    73.43              1\n",
              "29                    48.45              1\n",
              "31                   117.99              1"
            ]
          },
          "metadata": {},
          "execution_count": 18
        }
      ]
    },
    {
      "cell_type": "code",
      "metadata": {
        "id": "7sND31duW9eJ"
      },
      "source": [
        "# Make Recency (Date) Features from in data ----\n",
        "max_date = temporal_in_df['date'].max()\n",
        "\n",
        "recency_features_df = temporal_in_df \\\n",
        "  .filter(['customer_id', 'date']) \\\n",
        "  .groupby('customer_id') \\\n",
        "  .apply(lambda x: (max_date - x['date'].max()) / pd.to_timedelta(1, \"day\")) \\\n",
        "  .to_frame() \\\n",
        "  .set_axis([\"recency\"], axis=1)"
      ],
      "execution_count": 19,
      "outputs": []
    },
    {
      "cell_type": "code",
      "metadata": {
        "colab": {
          "base_uri": "https://localhost:8080/",
          "height": 238
        },
        "id": "OAb6WQwkXybi",
        "outputId": "77def850-0bd2-4266-d985-75a93e508f3d"
      },
      "source": [
        "recency_features_df.head()"
      ],
      "execution_count": 20,
      "outputs": [
        {
          "output_type": "execute_result",
          "data": {
            "text/html": [
              "<div>\n",
              "<style scoped>\n",
              "    .dataframe tbody tr th:only-of-type {\n",
              "        vertical-align: middle;\n",
              "    }\n",
              "\n",
              "    .dataframe tbody tr th {\n",
              "        vertical-align: top;\n",
              "    }\n",
              "\n",
              "    .dataframe thead th {\n",
              "        text-align: right;\n",
              "    }\n",
              "</style>\n",
              "<table border=\"1\" class=\"dataframe\">\n",
              "  <thead>\n",
              "    <tr style=\"text-align: right;\">\n",
              "      <th></th>\n",
              "      <th>recency</th>\n",
              "    </tr>\n",
              "    <tr>\n",
              "      <th>customer_id</th>\n",
              "      <th></th>\n",
              "    </tr>\n",
              "  </thead>\n",
              "  <tbody>\n",
              "    <tr>\n",
              "      <th>1</th>\n",
              "      <td>455.0</td>\n",
              "    </tr>\n",
              "    <tr>\n",
              "      <th>2</th>\n",
              "      <td>444.0</td>\n",
              "    </tr>\n",
              "    <tr>\n",
              "      <th>3</th>\n",
              "      <td>127.0</td>\n",
              "    </tr>\n",
              "    <tr>\n",
              "      <th>4</th>\n",
              "      <td>110.0</td>\n",
              "    </tr>\n",
              "    <tr>\n",
              "      <th>5</th>\n",
              "      <td>88.0</td>\n",
              "    </tr>\n",
              "  </tbody>\n",
              "</table>\n",
              "</div>"
            ],
            "text/plain": [
              "             recency\n",
              "customer_id         \n",
              "1              455.0\n",
              "2              444.0\n",
              "3              127.0\n",
              "4              110.0\n",
              "5               88.0"
            ]
          },
          "metadata": {},
          "execution_count": 20
        }
      ]
    },
    {
      "cell_type": "code",
      "metadata": {
        "colab": {
          "base_uri": "https://localhost:8080/",
          "height": 455
        },
        "id": "_gxUytw-LQoN",
        "outputId": "45d754b1-8905-4339-ea00-bc5886bf2db2"
      },
      "source": [
        "# Make Frequency (Count) Features from in data ----\n",
        "frequency_features_df = temporal_in_df \\\n",
        "    [['customer_id', 'date']] \\\n",
        "    .groupby('customer_id') \\\n",
        "    .count() \\\n",
        "    .set_axis(['frequency'], axis=1)\n",
        "\n",
        "frequency_features_df"
      ],
      "execution_count": 21,
      "outputs": [
        {
          "output_type": "execute_result",
          "data": {
            "text/html": [
              "<div>\n",
              "<style scoped>\n",
              "    .dataframe tbody tr th:only-of-type {\n",
              "        vertical-align: middle;\n",
              "    }\n",
              "\n",
              "    .dataframe tbody tr th {\n",
              "        vertical-align: top;\n",
              "    }\n",
              "\n",
              "    .dataframe thead th {\n",
              "        text-align: right;\n",
              "    }\n",
              "</style>\n",
              "<table border=\"1\" class=\"dataframe\">\n",
              "  <thead>\n",
              "    <tr style=\"text-align: right;\">\n",
              "      <th></th>\n",
              "      <th>frequency</th>\n",
              "    </tr>\n",
              "    <tr>\n",
              "      <th>customer_id</th>\n",
              "      <th></th>\n",
              "    </tr>\n",
              "  </thead>\n",
              "  <tbody>\n",
              "    <tr>\n",
              "      <th>1</th>\n",
              "      <td>1</td>\n",
              "    </tr>\n",
              "    <tr>\n",
              "      <th>2</th>\n",
              "      <td>2</td>\n",
              "    </tr>\n",
              "    <tr>\n",
              "      <th>3</th>\n",
              "      <td>5</td>\n",
              "    </tr>\n",
              "    <tr>\n",
              "      <th>4</th>\n",
              "      <td>4</td>\n",
              "    </tr>\n",
              "    <tr>\n",
              "      <th>5</th>\n",
              "      <td>11</td>\n",
              "    </tr>\n",
              "    <tr>\n",
              "      <th>...</th>\n",
              "      <td>...</td>\n",
              "    </tr>\n",
              "    <tr>\n",
              "      <th>23566</th>\n",
              "      <td>1</td>\n",
              "    </tr>\n",
              "    <tr>\n",
              "      <th>23567</th>\n",
              "      <td>1</td>\n",
              "    </tr>\n",
              "    <tr>\n",
              "      <th>23568</th>\n",
              "      <td>3</td>\n",
              "    </tr>\n",
              "    <tr>\n",
              "      <th>23569</th>\n",
              "      <td>1</td>\n",
              "    </tr>\n",
              "    <tr>\n",
              "      <th>23570</th>\n",
              "      <td>2</td>\n",
              "    </tr>\n",
              "  </tbody>\n",
              "</table>\n",
              "<p>23570 rows × 1 columns</p>\n",
              "</div>"
            ],
            "text/plain": [
              "             frequency\n",
              "customer_id           \n",
              "1                    1\n",
              "2                    2\n",
              "3                    5\n",
              "4                    4\n",
              "5                   11\n",
              "...                ...\n",
              "23566                1\n",
              "23567                1\n",
              "23568                3\n",
              "23569                1\n",
              "23570                2\n",
              "\n",
              "[23570 rows x 1 columns]"
            ]
          },
          "metadata": {},
          "execution_count": 21
        }
      ]
    },
    {
      "cell_type": "code",
      "metadata": {
        "colab": {
          "base_uri": "https://localhost:8080/",
          "height": 455
        },
        "id": "kCuaati8LVh9",
        "outputId": "f0bb6585-76f6-4676-bb52-5bc1f68c5811"
      },
      "source": [
        "# Make Price (Monetary) Features from in data ----\n",
        "price_features_df = temporal_in_df \\\n",
        "    .groupby('customer_id') \\\n",
        "    .aggregate({'price': [\"sum\", \"mean\"]}) \\\n",
        "    .set_axis(['price_sum', 'price_mean'], axis = 1)\n",
        "\n",
        "price_features_df"
      ],
      "execution_count": 22,
      "outputs": [
        {
          "output_type": "execute_result",
          "data": {
            "text/html": [
              "<div>\n",
              "<style scoped>\n",
              "    .dataframe tbody tr th:only-of-type {\n",
              "        vertical-align: middle;\n",
              "    }\n",
              "\n",
              "    .dataframe tbody tr th {\n",
              "        vertical-align: top;\n",
              "    }\n",
              "\n",
              "    .dataframe thead th {\n",
              "        text-align: right;\n",
              "    }\n",
              "</style>\n",
              "<table border=\"1\" class=\"dataframe\">\n",
              "  <thead>\n",
              "    <tr style=\"text-align: right;\">\n",
              "      <th></th>\n",
              "      <th>price_sum</th>\n",
              "      <th>price_mean</th>\n",
              "    </tr>\n",
              "    <tr>\n",
              "      <th>customer_id</th>\n",
              "      <th></th>\n",
              "      <th></th>\n",
              "    </tr>\n",
              "  </thead>\n",
              "  <tbody>\n",
              "    <tr>\n",
              "      <th>1</th>\n",
              "      <td>11.77</td>\n",
              "      <td>11.770000</td>\n",
              "    </tr>\n",
              "    <tr>\n",
              "      <th>2</th>\n",
              "      <td>89.00</td>\n",
              "      <td>44.500000</td>\n",
              "    </tr>\n",
              "    <tr>\n",
              "      <th>3</th>\n",
              "      <td>139.47</td>\n",
              "      <td>27.894000</td>\n",
              "    </tr>\n",
              "    <tr>\n",
              "      <th>4</th>\n",
              "      <td>100.50</td>\n",
              "      <td>25.125000</td>\n",
              "    </tr>\n",
              "    <tr>\n",
              "      <th>5</th>\n",
              "      <td>385.61</td>\n",
              "      <td>35.055455</td>\n",
              "    </tr>\n",
              "    <tr>\n",
              "      <th>...</th>\n",
              "      <td>...</td>\n",
              "      <td>...</td>\n",
              "    </tr>\n",
              "    <tr>\n",
              "      <th>23566</th>\n",
              "      <td>36.00</td>\n",
              "      <td>36.000000</td>\n",
              "    </tr>\n",
              "    <tr>\n",
              "      <th>23567</th>\n",
              "      <td>20.97</td>\n",
              "      <td>20.970000</td>\n",
              "    </tr>\n",
              "    <tr>\n",
              "      <th>23568</th>\n",
              "      <td>121.70</td>\n",
              "      <td>40.566667</td>\n",
              "    </tr>\n",
              "    <tr>\n",
              "      <th>23569</th>\n",
              "      <td>25.74</td>\n",
              "      <td>25.740000</td>\n",
              "    </tr>\n",
              "    <tr>\n",
              "      <th>23570</th>\n",
              "      <td>94.08</td>\n",
              "      <td>47.040000</td>\n",
              "    </tr>\n",
              "  </tbody>\n",
              "</table>\n",
              "<p>23570 rows × 2 columns</p>\n",
              "</div>"
            ],
            "text/plain": [
              "             price_sum  price_mean\n",
              "customer_id                       \n",
              "1                11.77   11.770000\n",
              "2                89.00   44.500000\n",
              "3               139.47   27.894000\n",
              "4               100.50   25.125000\n",
              "5               385.61   35.055455\n",
              "...                ...         ...\n",
              "23566            36.00   36.000000\n",
              "23567            20.97   20.970000\n",
              "23568           121.70   40.566667\n",
              "23569            25.74   25.740000\n",
              "23570            94.08   47.040000\n",
              "\n",
              "[23570 rows x 2 columns]"
            ]
          },
          "metadata": {},
          "execution_count": 22
        }
      ]
    },
    {
      "cell_type": "markdown",
      "metadata": {
        "id": "8uJb_YUVLbG1"
      },
      "source": [
        "## 3.3 Combine Features"
      ]
    },
    {
      "cell_type": "code",
      "metadata": {
        "colab": {
          "base_uri": "https://localhost:8080/",
          "height": 455
        },
        "id": "4JWzy7KSLcuD",
        "outputId": "418519b0-80b5-4a72-8939-2226a184f2d7"
      },
      "source": [
        "features_df = pd.concat([recency_features_df, frequency_features_df, price_features_df], axis=1) \\\n",
        "  .merge(targets_df, left_index=True, right_index=True, how=\"left\") \\\n",
        "  .fillna(0)\n",
        "\n",
        "features_df"
      ],
      "execution_count": 28,
      "outputs": [
        {
          "output_type": "execute_result",
          "data": {
            "text/html": [
              "<div>\n",
              "<style scoped>\n",
              "    .dataframe tbody tr th:only-of-type {\n",
              "        vertical-align: middle;\n",
              "    }\n",
              "\n",
              "    .dataframe tbody tr th {\n",
              "        vertical-align: top;\n",
              "    }\n",
              "\n",
              "    .dataframe thead th {\n",
              "        text-align: right;\n",
              "    }\n",
              "</style>\n",
              "<table border=\"1\" class=\"dataframe\">\n",
              "  <thead>\n",
              "    <tr style=\"text-align: right;\">\n",
              "      <th></th>\n",
              "      <th>recency</th>\n",
              "      <th>frequency</th>\n",
              "      <th>price_sum</th>\n",
              "      <th>price_mean</th>\n",
              "      <th>spend_90_total</th>\n",
              "      <th>spend_90_flag</th>\n",
              "    </tr>\n",
              "    <tr>\n",
              "      <th>customer_id</th>\n",
              "      <th></th>\n",
              "      <th></th>\n",
              "      <th></th>\n",
              "      <th></th>\n",
              "      <th></th>\n",
              "      <th></th>\n",
              "    </tr>\n",
              "  </thead>\n",
              "  <tbody>\n",
              "    <tr>\n",
              "      <th>1</th>\n",
              "      <td>455.0</td>\n",
              "      <td>1</td>\n",
              "      <td>11.77</td>\n",
              "      <td>11.770000</td>\n",
              "      <td>0.00</td>\n",
              "      <td>0.0</td>\n",
              "    </tr>\n",
              "    <tr>\n",
              "      <th>2</th>\n",
              "      <td>444.0</td>\n",
              "      <td>2</td>\n",
              "      <td>89.00</td>\n",
              "      <td>44.500000</td>\n",
              "      <td>0.00</td>\n",
              "      <td>0.0</td>\n",
              "    </tr>\n",
              "    <tr>\n",
              "      <th>3</th>\n",
              "      <td>127.0</td>\n",
              "      <td>5</td>\n",
              "      <td>139.47</td>\n",
              "      <td>27.894000</td>\n",
              "      <td>16.99</td>\n",
              "      <td>1.0</td>\n",
              "    </tr>\n",
              "    <tr>\n",
              "      <th>4</th>\n",
              "      <td>110.0</td>\n",
              "      <td>4</td>\n",
              "      <td>100.50</td>\n",
              "      <td>25.125000</td>\n",
              "      <td>0.00</td>\n",
              "      <td>0.0</td>\n",
              "    </tr>\n",
              "    <tr>\n",
              "      <th>5</th>\n",
              "      <td>88.0</td>\n",
              "      <td>11</td>\n",
              "      <td>385.61</td>\n",
              "      <td>35.055455</td>\n",
              "      <td>0.00</td>\n",
              "      <td>0.0</td>\n",
              "    </tr>\n",
              "    <tr>\n",
              "      <th>...</th>\n",
              "      <td>...</td>\n",
              "      <td>...</td>\n",
              "      <td>...</td>\n",
              "      <td>...</td>\n",
              "      <td>...</td>\n",
              "      <td>...</td>\n",
              "    </tr>\n",
              "    <tr>\n",
              "      <th>23566</th>\n",
              "      <td>372.0</td>\n",
              "      <td>1</td>\n",
              "      <td>36.00</td>\n",
              "      <td>36.000000</td>\n",
              "      <td>0.00</td>\n",
              "      <td>0.0</td>\n",
              "    </tr>\n",
              "    <tr>\n",
              "      <th>23567</th>\n",
              "      <td>372.0</td>\n",
              "      <td>1</td>\n",
              "      <td>20.97</td>\n",
              "      <td>20.970000</td>\n",
              "      <td>0.00</td>\n",
              "      <td>0.0</td>\n",
              "    </tr>\n",
              "    <tr>\n",
              "      <th>23568</th>\n",
              "      <td>344.0</td>\n",
              "      <td>3</td>\n",
              "      <td>121.70</td>\n",
              "      <td>40.566667</td>\n",
              "      <td>0.00</td>\n",
              "      <td>0.0</td>\n",
              "    </tr>\n",
              "    <tr>\n",
              "      <th>23569</th>\n",
              "      <td>372.0</td>\n",
              "      <td>1</td>\n",
              "      <td>25.74</td>\n",
              "      <td>25.740000</td>\n",
              "      <td>0.00</td>\n",
              "      <td>0.0</td>\n",
              "    </tr>\n",
              "    <tr>\n",
              "      <th>23570</th>\n",
              "      <td>371.0</td>\n",
              "      <td>2</td>\n",
              "      <td>94.08</td>\n",
              "      <td>47.040000</td>\n",
              "      <td>0.00</td>\n",
              "      <td>0.0</td>\n",
              "    </tr>\n",
              "  </tbody>\n",
              "</table>\n",
              "<p>23570 rows × 6 columns</p>\n",
              "</div>"
            ],
            "text/plain": [
              "             recency  frequency  ...  spend_90_total  spend_90_flag\n",
              "customer_id                      ...                               \n",
              "1              455.0          1  ...            0.00            0.0\n",
              "2              444.0          2  ...            0.00            0.0\n",
              "3              127.0          5  ...           16.99            1.0\n",
              "4              110.0          4  ...            0.00            0.0\n",
              "5               88.0         11  ...            0.00            0.0\n",
              "...              ...        ...  ...             ...            ...\n",
              "23566          372.0          1  ...            0.00            0.0\n",
              "23567          372.0          1  ...            0.00            0.0\n",
              "23568          344.0          3  ...            0.00            0.0\n",
              "23569          372.0          1  ...            0.00            0.0\n",
              "23570          371.0          2  ...            0.00            0.0\n",
              "\n",
              "[23570 rows x 6 columns]"
            ]
          },
          "metadata": {},
          "execution_count": 28
        }
      ]
    },
    {
      "cell_type": "code",
      "metadata": {
        "colab": {
          "base_uri": "https://localhost:8080/"
        },
        "id": "r64BAH9dL64s",
        "outputId": "74bf4485-b93c-4237-87fd-592a53d6e2f8"
      },
      "source": [
        "features_df['spend_90_flag'].value_counts(1)"
      ],
      "execution_count": 29,
      "outputs": [
        {
          "output_type": "execute_result",
          "data": {
            "text/plain": [
              "0.0    0.859949\n",
              "1.0    0.140051\n",
              "Name: spend_90_flag, dtype: float64"
            ]
          },
          "metadata": {},
          "execution_count": 29
        }
      ]
    },
    {
      "cell_type": "markdown",
      "metadata": {
        "id": "km0Lz3VhL3jK"
      },
      "source": [
        "# 4.0 Machine Learning"
      ]
    },
    {
      "cell_type": "code",
      "metadata": {
        "id": "63lpaYdDLy19"
      },
      "source": [
        "from xgboost import XGBClassifier, XGBRegressor\n",
        "from sklearn.model_selection import GridSearchCV\n",
        "\n",
        "X = features_df[['recency', 'frequency', 'price_sum', 'price_mean']]"
      ],
      "execution_count": 30,
      "outputs": []
    },
    {
      "cell_type": "markdown",
      "metadata": {
        "id": "d8VfOdjCMYMJ"
      },
      "source": [
        "## 4.1 Next 90-Day Spend Prediction"
      ]
    },
    {
      "cell_type": "code",
      "metadata": {
        "id": "d624twbZMXmk"
      },
      "source": [
        "y_spend = features_df['spend_90_total']\n",
        "\n",
        "xgb_reg_spec = XGBRegressor(\n",
        "    objective=\"reg:squarederror\",\n",
        "    random_state=123\n",
        ")"
      ],
      "execution_count": 31,
      "outputs": []
    },
    {
      "cell_type": "code",
      "metadata": {
        "id": "woebu-vHMuK9"
      },
      "source": [
        "xgb_reg_model = GridSearchCV(\n",
        "    estimator=xgb_reg_spec,\n",
        "    param_grid={'learning_rate': [0.01, 0.1, 0.3, 0.5]},\n",
        "    scoring='neg_mean_absolute_error',\n",
        "    refit=True,\n",
        "    cv=5\n",
        ")"
      ],
      "execution_count": 32,
      "outputs": []
    },
    {
      "cell_type": "code",
      "metadata": {
        "colab": {
          "base_uri": "https://localhost:8080/"
        },
        "id": "xAGKX4e-NFGp",
        "outputId": "db1b29d2-cfab-4f26-8108-fcd09ca4272b"
      },
      "source": [
        "xgb_reg_model.fit(X, y_spend)"
      ],
      "execution_count": 33,
      "outputs": [
        {
          "output_type": "execute_result",
          "data": {
            "text/plain": [
              "GridSearchCV(cv=5, error_score=nan,\n",
              "             estimator=XGBRegressor(base_score=0.5, booster='gbtree',\n",
              "                                    colsample_bylevel=1, colsample_bynode=1,\n",
              "                                    colsample_bytree=1, gamma=0,\n",
              "                                    importance_type='gain', learning_rate=0.1,\n",
              "                                    max_delta_step=0, max_depth=3,\n",
              "                                    min_child_weight=1, missing=None,\n",
              "                                    n_estimators=100, n_jobs=1, nthread=None,\n",
              "                                    objective='reg:squarederror',\n",
              "                                    random_state=123, reg_alpha=0, reg_lambda=1,\n",
              "                                    scale_pos_weight=1, seed=None, silent=None,\n",
              "                                    subsample=1, verbosity=1),\n",
              "             iid='deprecated', n_jobs=None,\n",
              "             param_grid={'learning_rate': [0.01, 0.1, 0.3, 0.5]},\n",
              "             pre_dispatch='2*n_jobs', refit=True, return_train_score=False,\n",
              "             scoring='neg_mean_absolute_error', verbose=0)"
            ]
          },
          "metadata": {},
          "execution_count": 33
        }
      ]
    },
    {
      "cell_type": "code",
      "metadata": {
        "colab": {
          "base_uri": "https://localhost:8080/"
        },
        "id": "thkX8ejANHyE",
        "outputId": "9f02e184-93f1-4c4a-ae5c-aa99c392dc8f"
      },
      "source": [
        "xgb_reg_model.best_score_"
      ],
      "execution_count": 34,
      "outputs": [
        {
          "output_type": "execute_result",
          "data": {
            "text/plain": [
              "-10.137374885981702"
            ]
          },
          "metadata": {},
          "execution_count": 34
        }
      ]
    },
    {
      "cell_type": "code",
      "metadata": {
        "colab": {
          "base_uri": "https://localhost:8080/"
        },
        "id": "6YdPHWRoNOxT",
        "outputId": "7c664fc1-2c42-49d2-9a4b-80a07f607ead"
      },
      "source": [
        "xgb_reg_model.best_params_"
      ],
      "execution_count": 35,
      "outputs": [
        {
          "output_type": "execute_result",
          "data": {
            "text/plain": [
              "{'learning_rate': 0.01}"
            ]
          },
          "metadata": {},
          "execution_count": 35
        }
      ]
    },
    {
      "cell_type": "code",
      "metadata": {
        "colab": {
          "base_uri": "https://localhost:8080/"
        },
        "id": "wbafYE0aNNnd",
        "outputId": "9c81c316-0338-48b5-b930-b915a9fb3565"
      },
      "source": [
        "xgb_reg_model.best_estimator_"
      ],
      "execution_count": 36,
      "outputs": [
        {
          "output_type": "execute_result",
          "data": {
            "text/plain": [
              "XGBRegressor(base_score=0.5, booster='gbtree', colsample_bylevel=1,\n",
              "             colsample_bynode=1, colsample_bytree=1, gamma=0,\n",
              "             importance_type='gain', learning_rate=0.01, max_delta_step=0,\n",
              "             max_depth=3, min_child_weight=1, missing=None, n_estimators=100,\n",
              "             n_jobs=1, nthread=None, objective='reg:squarederror',\n",
              "             random_state=123, reg_alpha=0, reg_lambda=1, scale_pos_weight=1,\n",
              "             seed=None, silent=None, subsample=1, verbosity=1)"
            ]
          },
          "metadata": {},
          "execution_count": 36
        }
      ]
    },
    {
      "cell_type": "code",
      "metadata": {
        "id": "d3ngrglVNRjZ"
      },
      "source": [
        "predictions_reg = xgb_reg_model.predict(X)"
      ],
      "execution_count": 38,
      "outputs": []
    },
    {
      "cell_type": "code",
      "metadata": {
        "colab": {
          "base_uri": "https://localhost:8080/"
        },
        "id": "bAGwt7NmN3rD",
        "outputId": "4285e3fe-7da2-44d3-e1e7-d370277bae88"
      },
      "source": [
        "predictions_reg"
      ],
      "execution_count": 39,
      "outputs": [
        {
          "output_type": "execute_result",
          "data": {
            "text/plain": [
              "array([1.7315966, 1.7897931, 6.5675673, ..., 2.1968884, 1.7315966,\n",
              "       1.7897931], dtype=float32)"
            ]
          },
          "metadata": {},
          "execution_count": 39
        }
      ]
    },
    {
      "cell_type": "markdown",
      "metadata": {
        "id": "L-8Q_R7AN8KK"
      },
      "source": [
        "## 4.2 Next 90-Day Spend Probability"
      ]
    },
    {
      "cell_type": "code",
      "metadata": {
        "id": "XgjSGyO_N4rk"
      },
      "source": [
        "y_prob = features_df['spend_90_flag']"
      ],
      "execution_count": 40,
      "outputs": []
    },
    {
      "cell_type": "code",
      "metadata": {
        "id": "jZfodtLPOAbs"
      },
      "source": [
        "xgb_clf_spec = XGBClassifier(\n",
        "    objective    = \"binary:logistic\",   \n",
        "    random_state = 123\n",
        ")"
      ],
      "execution_count": 41,
      "outputs": []
    },
    {
      "cell_type": "code",
      "metadata": {
        "id": "fknoIypqOCQ0"
      },
      "source": [
        "xgb_clf_model = GridSearchCV(\n",
        "    estimator=xgb_clf_spec, \n",
        "    param_grid={'learning_rate': [0.01, 0.1, 0.3, 0.5]},\n",
        "    scoring='roc_auc',\n",
        "    refit=True,\n",
        "    cv=5\n",
        ")"
      ],
      "execution_count": 43,
      "outputs": []
    },
    {
      "cell_type": "code",
      "metadata": {
        "colab": {
          "base_uri": "https://localhost:8080/"
        },
        "id": "aCSh3TRmOQmK",
        "outputId": "62e8e6e2-da53-4d1f-e99e-8d85adc91dd1"
      },
      "source": [
        "xgb_clf_model.fit(X, y_prob)"
      ],
      "execution_count": 44,
      "outputs": [
        {
          "output_type": "execute_result",
          "data": {
            "text/plain": [
              "GridSearchCV(cv=5, error_score=nan,\n",
              "             estimator=XGBClassifier(base_score=0.5, booster='gbtree',\n",
              "                                     colsample_bylevel=1, colsample_bynode=1,\n",
              "                                     colsample_bytree=1, gamma=0,\n",
              "                                     learning_rate=0.1, max_delta_step=0,\n",
              "                                     max_depth=3, min_child_weight=1,\n",
              "                                     missing=None, n_estimators=100, n_jobs=1,\n",
              "                                     nthread=None, objective='binary:logistic',\n",
              "                                     random_state=123, reg_alpha=0,\n",
              "                                     reg_lambda=1, scale_pos_weight=1,\n",
              "                                     seed=None, silent=None, subsample=1,\n",
              "                                     verbosity=1),\n",
              "             iid='deprecated', n_jobs=None,\n",
              "             param_grid={'learning_rate': [0.01, 0.1, 0.3, 0.5]},\n",
              "             pre_dispatch='2*n_jobs', refit=True, return_train_score=False,\n",
              "             scoring='roc_auc', verbose=0)"
            ]
          },
          "metadata": {},
          "execution_count": 44
        }
      ]
    },
    {
      "cell_type": "code",
      "metadata": {
        "colab": {
          "base_uri": "https://localhost:8080/"
        },
        "id": "tSiNtwR1Oxhc",
        "outputId": "836ea112-6b17-401f-eaea-821d15305686"
      },
      "source": [
        "xgb_clf_model.best_score_"
      ],
      "execution_count": 45,
      "outputs": [
        {
          "output_type": "execute_result",
          "data": {
            "text/plain": [
              "0.8388469885517397"
            ]
          },
          "metadata": {},
          "execution_count": 45
        }
      ]
    },
    {
      "cell_type": "code",
      "metadata": {
        "colab": {
          "base_uri": "https://localhost:8080/"
        },
        "id": "MQbCvT1nO3Kw",
        "outputId": "c48857bb-1ff3-4144-b950-548224c295dd"
      },
      "source": [
        "xgb_clf_model.best_params_"
      ],
      "execution_count": 46,
      "outputs": [
        {
          "output_type": "execute_result",
          "data": {
            "text/plain": [
              "{'learning_rate': 0.1}"
            ]
          },
          "metadata": {},
          "execution_count": 46
        }
      ]
    },
    {
      "cell_type": "code",
      "metadata": {
        "colab": {
          "base_uri": "https://localhost:8080/"
        },
        "id": "2KXsluJHO41S",
        "outputId": "07261365-92f6-4586-aa10-4a2ac2a1d89d"
      },
      "source": [
        "xgb_clf_model.best_estimator_"
      ],
      "execution_count": 47,
      "outputs": [
        {
          "output_type": "execute_result",
          "data": {
            "text/plain": [
              "XGBClassifier(base_score=0.5, booster='gbtree', colsample_bylevel=1,\n",
              "              colsample_bynode=1, colsample_bytree=1, gamma=0,\n",
              "              learning_rate=0.1, max_delta_step=0, max_depth=3,\n",
              "              min_child_weight=1, missing=None, n_estimators=100, n_jobs=1,\n",
              "              nthread=None, objective='binary:logistic', random_state=123,\n",
              "              reg_alpha=0, reg_lambda=1, scale_pos_weight=1, seed=None,\n",
              "              silent=None, subsample=1, verbosity=1)"
            ]
          },
          "metadata": {},
          "execution_count": 47
        }
      ]
    },
    {
      "cell_type": "code",
      "metadata": {
        "id": "M4Dq6O9lO6if"
      },
      "source": [
        "predictions_clf = xgb_clf_model.predict_proba(X)"
      ],
      "execution_count": 48,
      "outputs": []
    },
    {
      "cell_type": "markdown",
      "metadata": {
        "id": "ckbxD61gO7z4"
      },
      "source": [
        "## 4.3 Feature Importance (Global)"
      ]
    },
    {
      "cell_type": "code",
      "metadata": {
        "colab": {
          "base_uri": "https://localhost:8080/"
        },
        "id": "Vj3qYh1wO68U",
        "outputId": "f9a0a806-1123-4272-bf6f-6c60417cfb0b"
      },
      "source": [
        "# Importance: Spend Amount Model\n",
        "\n",
        "imp_spend_amount_dict = xgb_reg_model \\\n",
        "  .best_estimator_ \\\n",
        "  .get_booster() \\\n",
        "  .get_score(importance_type = 'gain')\n",
        "\n",
        "imp_spend_amount_dict"
      ],
      "execution_count": 58,
      "outputs": [
        {
          "output_type": "execute_result",
          "data": {
            "text/plain": [
              "{'frequency': 600083.0900420168,\n",
              " 'price_mean': 276415.6874,\n",
              " 'price_sum': 2730946.44922807,\n",
              " 'recency': 669314.0210261188}"
            ]
          },
          "metadata": {},
          "execution_count": 58
        }
      ]
    },
    {
      "cell_type": "code",
      "metadata": {
        "id": "45V7HWx6Pbzg"
      },
      "source": [
        "imp_spend_amount_df = pd.Series(imp_spend_amount_dict) \\\n",
        "  .to_frame() \\\n",
        "  .set_axis(['feature_importance_reg'], axis=1) \\\n",
        "  .sort_values('feature_importance_reg', ascending=True)"
      ],
      "execution_count": 67,
      "outputs": []
    },
    {
      "cell_type": "code",
      "metadata": {
        "colab": {
          "base_uri": "https://localhost:8080/",
          "height": 278
        },
        "id": "W3H-OeQYPLkY",
        "outputId": "44ed2e1b-489b-458b-c4c6-c40ac66e6e26"
      },
      "source": [
        "imp_spend_amount_df.plot.barh();"
      ],
      "execution_count": 72,
      "outputs": [
        {
          "output_type": "display_data",
          "data": {
            "image/png": "[encoded data removed]",
            "text/plain": [
              "<Figure size 432x288 with 1 Axes>"
            ]
          },
          "metadata": {
            "needs_background": "light"
          }
        }
      ]
    },
    {
      "cell_type": "code",
      "metadata": {
        "colab": {
          "base_uri": "https://localhost:8080/"
        },
        "id": "2z6nH2eoQL99",
        "outputId": "862c89e6-9b44-4a73-cbf4-09da82354ac6"
      },
      "source": [
        "# Importance: Spend Probability Model\n",
        "\n",
        "imp_spend_prob_dict = xgb_clf_model \\\n",
        "    .best_estimator_ \\\n",
        "    .get_booster() \\\n",
        "    .get_score(importance_type='gain') \n",
        "\n",
        "imp_spend_prob_dict"
      ],
      "execution_count": 69,
      "outputs": [
        {
          "output_type": "execute_result",
          "data": {
            "text/plain": [
              "{'frequency': 38.720339346008274,\n",
              " 'price_mean': 2.928001695973554,\n",
              " 'price_sum': 4.836309561134968,\n",
              " 'recency': 85.68695001026333}"
            ]
          },
          "metadata": {},
          "execution_count": 69
        }
      ]
    },
    {
      "cell_type": "code",
      "metadata": {
        "colab": {
          "base_uri": "https://localhost:8080/",
          "height": 175
        },
        "id": "2Sp-L4M2QL3b",
        "outputId": "79aa6e51-5b8d-4a0b-fb6e-db20c62acec1"
      },
      "source": [
        "imp_spend_prob_df = pd.Series(imp_spend_prob_dict) \\\n",
        "  .to_frame() \\\n",
        "  .set_axis(['feature_importance_clf'], axis=1) \\\n",
        "  .sort_values('feature_importance_clf', ascending=True)\n",
        "\n",
        "imp_spend_prob_df"
      ],
      "execution_count": 70,
      "outputs": [
        {
          "output_type": "execute_result",
          "data": {
            "text/html": [
              "<div>\n",
              "<style scoped>\n",
              "    .dataframe tbody tr th:only-of-type {\n",
              "        vertical-align: middle;\n",
              "    }\n",
              "\n",
              "    .dataframe tbody tr th {\n",
              "        vertical-align: top;\n",
              "    }\n",
              "\n",
              "    .dataframe thead th {\n",
              "        text-align: right;\n",
              "    }\n",
              "</style>\n",
              "<table border=\"1\" class=\"dataframe\">\n",
              "  <thead>\n",
              "    <tr style=\"text-align: right;\">\n",
              "      <th></th>\n",
              "      <th>feature_importance_clf</th>\n",
              "    </tr>\n",
              "  </thead>\n",
              "  <tbody>\n",
              "    <tr>\n",
              "      <th>price_mean</th>\n",
              "      <td>2.928002</td>\n",
              "    </tr>\n",
              "    <tr>\n",
              "      <th>price_sum</th>\n",
              "      <td>4.836310</td>\n",
              "    </tr>\n",
              "    <tr>\n",
              "      <th>frequency</th>\n",
              "      <td>38.720339</td>\n",
              "    </tr>\n",
              "    <tr>\n",
              "      <th>recency</th>\n",
              "      <td>85.686950</td>\n",
              "    </tr>\n",
              "  </tbody>\n",
              "</table>\n",
              "</div>"
            ],
            "text/plain": [
              "            feature_importance_clf\n",
              "price_mean                2.928002\n",
              "price_sum                 4.836310\n",
              "frequency                38.720339\n",
              "recency                  85.686950"
            ]
          },
          "metadata": {},
          "execution_count": 70
        }
      ]
    },
    {
      "cell_type": "code",
      "metadata": {
        "colab": {
          "base_uri": "https://localhost:8080/",
          "height": 265
        },
        "id": "V6o9F_xYQLwF",
        "outputId": "e3c937ba-eccd-4b3c-f7b5-6d5bd3bbac14"
      },
      "source": [
        "imp_spend_prob_df.plot.barh();"
      ],
      "execution_count": 71,
      "outputs": [
        {
          "output_type": "display_data",
          "data": {
            "image/png": "[encoded data removed]",
            "text/plain": [
              "<Figure size 432x288 with 1 Axes>"
            ]
          },
          "metadata": {
            "needs_background": "light"
          }
        }
      ]
    },
    {
      "cell_type": "markdown",
      "metadata": {
        "id": "zaOxXPlnQrXb"
      },
      "source": [
        "# 5.0 Making Predictions"
      ]
    },
    {
      "cell_type": "code",
      "metadata": {
        "id": "trPzP9BhQukE"
      },
      "source": [
        "predictions_df = features_df \\\n",
        "  .assign(pred_spend = predictions_reg) \\\n",
        "  .assign(pred_prob  = predictions_clf[:, 1]) \\\n",
        "  .reset_index()"
      ],
      "execution_count": 78,
      "outputs": []
    },
    {
      "cell_type": "code",
      "metadata": {
        "colab": {
          "base_uri": "https://localhost:8080/",
          "height": 424
        },
        "id": "wLfGwg89RPE7",
        "outputId": "93b58cb3-1565-4838-ef2f-a8e166d9421c"
      },
      "source": [
        "predictions_df"
      ],
      "execution_count": 79,
      "outputs": [
        {
          "output_type": "execute_result",
          "data": {
            "text/html": [
              "<div>\n",
              "<style scoped>\n",
              "    .dataframe tbody tr th:only-of-type {\n",
              "        vertical-align: middle;\n",
              "    }\n",
              "\n",
              "    .dataframe tbody tr th {\n",
              "        vertical-align: top;\n",
              "    }\n",
              "\n",
              "    .dataframe thead th {\n",
              "        text-align: right;\n",
              "    }\n",
              "</style>\n",
              "<table border=\"1\" class=\"dataframe\">\n",
              "  <thead>\n",
              "    <tr style=\"text-align: right;\">\n",
              "      <th></th>\n",
              "      <th>customer_id</th>\n",
              "      <th>recency</th>\n",
              "      <th>frequency</th>\n",
              "      <th>price_sum</th>\n",
              "      <th>price_mean</th>\n",
              "      <th>spend_90_total</th>\n",
              "      <th>spend_90_flag</th>\n",
              "      <th>pred_spend</th>\n",
              "      <th>pred_prob</th>\n",
              "    </tr>\n",
              "  </thead>\n",
              "  <tbody>\n",
              "    <tr>\n",
              "      <th>0</th>\n",
              "      <td>1</td>\n",
              "      <td>455.0</td>\n",
              "      <td>1</td>\n",
              "      <td>11.77</td>\n",
              "      <td>11.770000</td>\n",
              "      <td>0.00</td>\n",
              "      <td>0.0</td>\n",
              "      <td>1.731597</td>\n",
              "      <td>0.024034</td>\n",
              "    </tr>\n",
              "    <tr>\n",
              "      <th>1</th>\n",
              "      <td>2</td>\n",
              "      <td>444.0</td>\n",
              "      <td>2</td>\n",
              "      <td>89.00</td>\n",
              "      <td>44.500000</td>\n",
              "      <td>0.00</td>\n",
              "      <td>0.0</td>\n",
              "      <td>1.789793</td>\n",
              "      <td>0.036890</td>\n",
              "    </tr>\n",
              "    <tr>\n",
              "      <th>2</th>\n",
              "      <td>3</td>\n",
              "      <td>127.0</td>\n",
              "      <td>5</td>\n",
              "      <td>139.47</td>\n",
              "      <td>27.894000</td>\n",
              "      <td>16.99</td>\n",
              "      <td>1.0</td>\n",
              "      <td>6.567567</td>\n",
              "      <td>0.294515</td>\n",
              "    </tr>\n",
              "    <tr>\n",
              "      <th>3</th>\n",
              "      <td>4</td>\n",
              "      <td>110.0</td>\n",
              "      <td>4</td>\n",
              "      <td>100.50</td>\n",
              "      <td>25.125000</td>\n",
              "      <td>0.00</td>\n",
              "      <td>0.0</td>\n",
              "      <td>5.892581</td>\n",
              "      <td>0.288133</td>\n",
              "    </tr>\n",
              "    <tr>\n",
              "      <th>4</th>\n",
              "      <td>5</td>\n",
              "      <td>88.0</td>\n",
              "      <td>11</td>\n",
              "      <td>385.61</td>\n",
              "      <td>35.055455</td>\n",
              "      <td>0.00</td>\n",
              "      <td>0.0</td>\n",
              "      <td>21.155424</td>\n",
              "      <td>0.563635</td>\n",
              "    </tr>\n",
              "    <tr>\n",
              "      <th>...</th>\n",
              "      <td>...</td>\n",
              "      <td>...</td>\n",
              "      <td>...</td>\n",
              "      <td>...</td>\n",
              "      <td>...</td>\n",
              "      <td>...</td>\n",
              "      <td>...</td>\n",
              "      <td>...</td>\n",
              "      <td>...</td>\n",
              "    </tr>\n",
              "    <tr>\n",
              "      <th>23565</th>\n",
              "      <td>23566</td>\n",
              "      <td>372.0</td>\n",
              "      <td>1</td>\n",
              "      <td>36.00</td>\n",
              "      <td>36.000000</td>\n",
              "      <td>0.00</td>\n",
              "      <td>0.0</td>\n",
              "      <td>1.731597</td>\n",
              "      <td>0.037670</td>\n",
              "    </tr>\n",
              "    <tr>\n",
              "      <th>23566</th>\n",
              "      <td>23567</td>\n",
              "      <td>372.0</td>\n",
              "      <td>1</td>\n",
              "      <td>20.97</td>\n",
              "      <td>20.970000</td>\n",
              "      <td>0.00</td>\n",
              "      <td>0.0</td>\n",
              "      <td>1.731597</td>\n",
              "      <td>0.038869</td>\n",
              "    </tr>\n",
              "    <tr>\n",
              "      <th>23567</th>\n",
              "      <td>23568</td>\n",
              "      <td>344.0</td>\n",
              "      <td>3</td>\n",
              "      <td>121.70</td>\n",
              "      <td>40.566667</td>\n",
              "      <td>0.00</td>\n",
              "      <td>0.0</td>\n",
              "      <td>2.196888</td>\n",
              "      <td>0.099602</td>\n",
              "    </tr>\n",
              "    <tr>\n",
              "      <th>23568</th>\n",
              "      <td>23569</td>\n",
              "      <td>372.0</td>\n",
              "      <td>1</td>\n",
              "      <td>25.74</td>\n",
              "      <td>25.740000</td>\n",
              "      <td>0.00</td>\n",
              "      <td>0.0</td>\n",
              "      <td>1.731597</td>\n",
              "      <td>0.045040</td>\n",
              "    </tr>\n",
              "    <tr>\n",
              "      <th>23569</th>\n",
              "      <td>23570</td>\n",
              "      <td>371.0</td>\n",
              "      <td>2</td>\n",
              "      <td>94.08</td>\n",
              "      <td>47.040000</td>\n",
              "      <td>0.00</td>\n",
              "      <td>0.0</td>\n",
              "      <td>1.789793</td>\n",
              "      <td>0.067416</td>\n",
              "    </tr>\n",
              "  </tbody>\n",
              "</table>\n",
              "<p>23570 rows × 9 columns</p>\n",
              "</div>"
            ],
            "text/plain": [
              "       customer_id  recency  frequency  ...  spend_90_flag  pred_spend  pred_prob\n",
              "0                1    455.0          1  ...            0.0    1.731597   0.024034\n",
              "1                2    444.0          2  ...            0.0    1.789793   0.036890\n",
              "2                3    127.0          5  ...            1.0    6.567567   0.294515\n",
              "3                4    110.0          4  ...            0.0    5.892581   0.288133\n",
              "4                5     88.0         11  ...            0.0   21.155424   0.563635\n",
              "...            ...      ...        ...  ...            ...         ...        ...\n",
              "23565        23566    372.0          1  ...            0.0    1.731597   0.037670\n",
              "23566        23567    372.0          1  ...            0.0    1.731597   0.038869\n",
              "23567        23568    344.0          3  ...            0.0    2.196888   0.099602\n",
              "23568        23569    372.0          1  ...            0.0    1.731597   0.045040\n",
              "23569        23570    371.0          2  ...            0.0    1.789793   0.067416\n",
              "\n",
              "[23570 rows x 9 columns]"
            ]
          },
          "metadata": {},
          "execution_count": 79
        }
      ]
    },
    {
      "cell_type": "markdown",
      "metadata": {
        "id": "KdWORp-BRYIc"
      },
      "source": [
        "# 6.0 How Can We Use The Predictions"
      ]
    },
    {
      "cell_type": "markdown",
      "metadata": {
        "id": "IVpv4ZgORiYF"
      },
      "source": [
        "## 6.1 Which customers have the highest spend probability in next 90-days?\n",
        "- Target for new products similar to what they have purchased in the past"
      ]
    },
    {
      "cell_type": "code",
      "metadata": {
        "colab": {
          "base_uri": "https://localhost:8080/",
          "height": 424
        },
        "id": "6QTHHoIiRUKV",
        "outputId": "0677cd6d-adfe-42d5-d45b-a328acd33833"
      },
      "source": [
        "predictions_df \\\n",
        "  .sort_values('pred_prob', ascending=False)"
      ],
      "execution_count": 80,
      "outputs": [
        {
          "output_type": "execute_result",
          "data": {
            "text/html": [
              "<div>\n",
              "<style scoped>\n",
              "    .dataframe tbody tr th:only-of-type {\n",
              "        vertical-align: middle;\n",
              "    }\n",
              "\n",
              "    .dataframe tbody tr th {\n",
              "        vertical-align: top;\n",
              "    }\n",
              "\n",
              "    .dataframe thead th {\n",
              "        text-align: right;\n",
              "    }\n",
              "</style>\n",
              "<table border=\"1\" class=\"dataframe\">\n",
              "  <thead>\n",
              "    <tr style=\"text-align: right;\">\n",
              "      <th></th>\n",
              "      <th>customer_id</th>\n",
              "      <th>recency</th>\n",
              "      <th>frequency</th>\n",
              "      <th>price_sum</th>\n",
              "      <th>price_mean</th>\n",
              "      <th>spend_90_total</th>\n",
              "      <th>spend_90_flag</th>\n",
              "      <th>pred_spend</th>\n",
              "      <th>pred_prob</th>\n",
              "    </tr>\n",
              "  </thead>\n",
              "  <tbody>\n",
              "    <tr>\n",
              "      <th>709</th>\n",
              "      <td>710</td>\n",
              "      <td>2.0</td>\n",
              "      <td>51</td>\n",
              "      <td>2216.45</td>\n",
              "      <td>43.459804</td>\n",
              "      <td>285.85</td>\n",
              "      <td>1.0</td>\n",
              "      <td>153.482727</td>\n",
              "      <td>0.971258</td>\n",
              "    </tr>\n",
              "    <tr>\n",
              "      <th>7591</th>\n",
              "      <td>7592</td>\n",
              "      <td>2.0</td>\n",
              "      <td>165</td>\n",
              "      <td>11478.02</td>\n",
              "      <td>69.563758</td>\n",
              "      <td>2512.91</td>\n",
              "      <td>1.0</td>\n",
              "      <td>1001.350464</td>\n",
              "      <td>0.971258</td>\n",
              "    </tr>\n",
              "    <tr>\n",
              "      <th>14047</th>\n",
              "      <td>14048</td>\n",
              "      <td>0.0</td>\n",
              "      <td>180</td>\n",
              "      <td>7267.15</td>\n",
              "      <td>40.373056</td>\n",
              "      <td>1709.18</td>\n",
              "      <td>1.0</td>\n",
              "      <td>1001.350464</td>\n",
              "      <td>0.970961</td>\n",
              "    </tr>\n",
              "    <tr>\n",
              "      <th>3048</th>\n",
              "      <td>3049</td>\n",
              "      <td>1.0</td>\n",
              "      <td>97</td>\n",
              "      <td>3484.03</td>\n",
              "      <td>35.917835</td>\n",
              "      <td>778.82</td>\n",
              "      <td>1.0</td>\n",
              "      <td>440.319794</td>\n",
              "      <td>0.968814</td>\n",
              "    </tr>\n",
              "    <tr>\n",
              "      <th>498</th>\n",
              "      <td>499</td>\n",
              "      <td>3.0</td>\n",
              "      <td>100</td>\n",
              "      <td>3427.55</td>\n",
              "      <td>34.275500</td>\n",
              "      <td>951.00</td>\n",
              "      <td>1.0</td>\n",
              "      <td>440.319794</td>\n",
              "      <td>0.966508</td>\n",
              "    </tr>\n",
              "    <tr>\n",
              "      <th>...</th>\n",
              "      <td>...</td>\n",
              "      <td>...</td>\n",
              "      <td>...</td>\n",
              "      <td>...</td>\n",
              "      <td>...</td>\n",
              "      <td>...</td>\n",
              "      <td>...</td>\n",
              "      <td>...</td>\n",
              "      <td>...</td>\n",
              "    </tr>\n",
              "    <tr>\n",
              "      <th>1482</th>\n",
              "      <td>1483</td>\n",
              "      <td>450.0</td>\n",
              "      <td>1</td>\n",
              "      <td>163.52</td>\n",
              "      <td>163.520000</td>\n",
              "      <td>0.00</td>\n",
              "      <td>0.0</td>\n",
              "      <td>3.860115</td>\n",
              "      <td>0.006407</td>\n",
              "    </tr>\n",
              "    <tr>\n",
              "      <th>1349</th>\n",
              "      <td>1350</td>\n",
              "      <td>450.0</td>\n",
              "      <td>1</td>\n",
              "      <td>156.00</td>\n",
              "      <td>156.000000</td>\n",
              "      <td>0.00</td>\n",
              "      <td>0.0</td>\n",
              "      <td>3.860115</td>\n",
              "      <td>0.006407</td>\n",
              "    </tr>\n",
              "    <tr>\n",
              "      <th>1393</th>\n",
              "      <td>1394</td>\n",
              "      <td>450.0</td>\n",
              "      <td>1</td>\n",
              "      <td>209.96</td>\n",
              "      <td>209.960000</td>\n",
              "      <td>0.00</td>\n",
              "      <td>0.0</td>\n",
              "      <td>4.560120</td>\n",
              "      <td>0.006407</td>\n",
              "    </tr>\n",
              "    <tr>\n",
              "      <th>1284</th>\n",
              "      <td>1285</td>\n",
              "      <td>450.0</td>\n",
              "      <td>1</td>\n",
              "      <td>116.73</td>\n",
              "      <td>116.730000</td>\n",
              "      <td>0.00</td>\n",
              "      <td>0.0</td>\n",
              "      <td>1.955996</td>\n",
              "      <td>0.006391</td>\n",
              "    </tr>\n",
              "    <tr>\n",
              "      <th>1371</th>\n",
              "      <td>1372</td>\n",
              "      <td>450.0</td>\n",
              "      <td>1</td>\n",
              "      <td>106.99</td>\n",
              "      <td>106.990000</td>\n",
              "      <td>0.00</td>\n",
              "      <td>0.0</td>\n",
              "      <td>1.955996</td>\n",
              "      <td>0.005900</td>\n",
              "    </tr>\n",
              "  </tbody>\n",
              "</table>\n",
              "<p>23570 rows × 9 columns</p>\n",
              "</div>"
            ],
            "text/plain": [
              "       customer_id  recency  frequency  ...  spend_90_flag   pred_spend  pred_prob\n",
              "709            710      2.0         51  ...            1.0   153.482727   0.971258\n",
              "7591          7592      2.0        165  ...            1.0  1001.350464   0.971258\n",
              "14047        14048      0.0        180  ...            1.0  1001.350464   0.970961\n",
              "3048          3049      1.0         97  ...            1.0   440.319794   0.968814\n",
              "498            499      3.0        100  ...            1.0   440.319794   0.966508\n",
              "...            ...      ...        ...  ...            ...          ...        ...\n",
              "1482          1483    450.0          1  ...            0.0     3.860115   0.006407\n",
              "1349          1350    450.0          1  ...            0.0     3.860115   0.006407\n",
              "1393          1394    450.0          1  ...            0.0     4.560120   0.006407\n",
              "1284          1285    450.0          1  ...            0.0     1.955996   0.006391\n",
              "1371          1372    450.0          1  ...            0.0     1.955996   0.005900\n",
              "\n",
              "[23570 rows x 9 columns]"
            ]
          },
          "metadata": {},
          "execution_count": 80
        }
      ]
    },
    {
      "cell_type": "markdown",
      "metadata": {
        "id": "-9t1_hGrR6Qr"
      },
      "source": [
        "## 6.2 Which customers have recently purchased but are unlikely to buy?\n",
        "\n",
        "- Incentivize actions to increase probability\n",
        "- Provide discounts, encourage referring a friend, nurture by letting them know what's coming"
      ]
    },
    {
      "cell_type": "code",
      "metadata": {
        "colab": {
          "base_uri": "https://localhost:8080/",
          "height": 458
        },
        "id": "gMRRTkdMR-lZ",
        "outputId": "c97fc5cf-9430-41c1-a3b2-1252b066b571"
      },
      "source": [
        "predictions_df \\\n",
        "  [predictions_df['recency'] < 90] \\\n",
        "  [predictions_df['pred_prob'] < 0.20] \\\n",
        "  .sort_values('pred_prob', ascending=False)"
      ],
      "execution_count": 85,
      "outputs": [
        {
          "output_type": "stream",
          "name": "stderr",
          "text": [
            "/usr/local/lib/python3.7/dist-packages/ipykernel_launcher.py:1: UserWarning: Boolean Series key will be reindexed to match DataFrame index.\n",
            "  \"\"\"Entry point for launching an IPython kernel.\n"
          ]
        },
        {
          "output_type": "execute_result",
          "data": {
            "text/html": [
              "<div>\n",
              "<style scoped>\n",
              "    .dataframe tbody tr th:only-of-type {\n",
              "        vertical-align: middle;\n",
              "    }\n",
              "\n",
              "    .dataframe tbody tr th {\n",
              "        vertical-align: top;\n",
              "    }\n",
              "\n",
              "    .dataframe thead th {\n",
              "        text-align: right;\n",
              "    }\n",
              "</style>\n",
              "<table border=\"1\" class=\"dataframe\">\n",
              "  <thead>\n",
              "    <tr style=\"text-align: right;\">\n",
              "      <th></th>\n",
              "      <th>customer_id</th>\n",
              "      <th>recency</th>\n",
              "      <th>frequency</th>\n",
              "      <th>price_sum</th>\n",
              "      <th>price_mean</th>\n",
              "      <th>spend_90_total</th>\n",
              "      <th>spend_90_flag</th>\n",
              "      <th>pred_spend</th>\n",
              "      <th>pred_prob</th>\n",
              "    </tr>\n",
              "  </thead>\n",
              "  <tbody>\n",
              "    <tr>\n",
              "      <th>18044</th>\n",
              "      <td>18045</td>\n",
              "      <td>47.0</td>\n",
              "      <td>2</td>\n",
              "      <td>167.82</td>\n",
              "      <td>83.910</td>\n",
              "      <td>0.00</td>\n",
              "      <td>0.0</td>\n",
              "      <td>9.545571</td>\n",
              "      <td>0.197904</td>\n",
              "    </tr>\n",
              "    <tr>\n",
              "      <th>20162</th>\n",
              "      <td>20163</td>\n",
              "      <td>86.0</td>\n",
              "      <td>2</td>\n",
              "      <td>86.86</td>\n",
              "      <td>43.430</td>\n",
              "      <td>39.16</td>\n",
              "      <td>1.0</td>\n",
              "      <td>6.441297</td>\n",
              "      <td>0.197458</td>\n",
              "    </tr>\n",
              "    <tr>\n",
              "      <th>1408</th>\n",
              "      <td>1409</td>\n",
              "      <td>69.0</td>\n",
              "      <td>3</td>\n",
              "      <td>34.32</td>\n",
              "      <td>11.440</td>\n",
              "      <td>0.00</td>\n",
              "      <td>0.0</td>\n",
              "      <td>6.623992</td>\n",
              "      <td>0.196389</td>\n",
              "    </tr>\n",
              "    <tr>\n",
              "      <th>8931</th>\n",
              "      <td>8932</td>\n",
              "      <td>22.0</td>\n",
              "      <td>2</td>\n",
              "      <td>183.59</td>\n",
              "      <td>91.795</td>\n",
              "      <td>0.00</td>\n",
              "      <td>0.0</td>\n",
              "      <td>10.245576</td>\n",
              "      <td>0.195975</td>\n",
              "    </tr>\n",
              "    <tr>\n",
              "      <th>8507</th>\n",
              "      <td>8508</td>\n",
              "      <td>59.0</td>\n",
              "      <td>2</td>\n",
              "      <td>126.90</td>\n",
              "      <td>63.450</td>\n",
              "      <td>39.47</td>\n",
              "      <td>1.0</td>\n",
              "      <td>7.242431</td>\n",
              "      <td>0.195953</td>\n",
              "    </tr>\n",
              "    <tr>\n",
              "      <th>...</th>\n",
              "      <td>...</td>\n",
              "      <td>...</td>\n",
              "      <td>...</td>\n",
              "      <td>...</td>\n",
              "      <td>...</td>\n",
              "      <td>...</td>\n",
              "      <td>...</td>\n",
              "      <td>...</td>\n",
              "      <td>...</td>\n",
              "    </tr>\n",
              "    <tr>\n",
              "      <th>15248</th>\n",
              "      <td>15249</td>\n",
              "      <td>8.0</td>\n",
              "      <td>2</td>\n",
              "      <td>241.92</td>\n",
              "      <td>120.960</td>\n",
              "      <td>0.00</td>\n",
              "      <td>0.0</td>\n",
              "      <td>12.126535</td>\n",
              "      <td>0.116030</td>\n",
              "    </tr>\n",
              "    <tr>\n",
              "      <th>4090</th>\n",
              "      <td>4091</td>\n",
              "      <td>62.0</td>\n",
              "      <td>2</td>\n",
              "      <td>294.71</td>\n",
              "      <td>147.355</td>\n",
              "      <td>0.00</td>\n",
              "      <td>0.0</td>\n",
              "      <td>11.338530</td>\n",
              "      <td>0.114049</td>\n",
              "    </tr>\n",
              "    <tr>\n",
              "      <th>980</th>\n",
              "      <td>981</td>\n",
              "      <td>11.0</td>\n",
              "      <td>2</td>\n",
              "      <td>308.38</td>\n",
              "      <td>154.190</td>\n",
              "      <td>0.00</td>\n",
              "      <td>0.0</td>\n",
              "      <td>13.435866</td>\n",
              "      <td>0.109629</td>\n",
              "    </tr>\n",
              "    <tr>\n",
              "      <th>14449</th>\n",
              "      <td>14450</td>\n",
              "      <td>64.0</td>\n",
              "      <td>2</td>\n",
              "      <td>202.88</td>\n",
              "      <td>101.440</td>\n",
              "      <td>0.00</td>\n",
              "      <td>0.0</td>\n",
              "      <td>9.337772</td>\n",
              "      <td>0.108266</td>\n",
              "    </tr>\n",
              "    <tr>\n",
              "      <th>7365</th>\n",
              "      <td>7366</td>\n",
              "      <td>8.0</td>\n",
              "      <td>2</td>\n",
              "      <td>214.01</td>\n",
              "      <td>107.005</td>\n",
              "      <td>0.00</td>\n",
              "      <td>0.0</td>\n",
              "      <td>10.245576</td>\n",
              "      <td>0.101110</td>\n",
              "    </tr>\n",
              "  </tbody>\n",
              "</table>\n",
              "<p>226 rows × 9 columns</p>\n",
              "</div>"
            ],
            "text/plain": [
              "       customer_id  recency  frequency  ...  spend_90_flag  pred_spend  pred_prob\n",
              "18044        18045     47.0          2  ...            0.0    9.545571   0.197904\n",
              "20162        20163     86.0          2  ...            1.0    6.441297   0.197458\n",
              "1408          1409     69.0          3  ...            0.0    6.623992   0.196389\n",
              "8931          8932     22.0          2  ...            0.0   10.245576   0.195975\n",
              "8507          8508     59.0          2  ...            1.0    7.242431   0.195953\n",
              "...            ...      ...        ...  ...            ...         ...        ...\n",
              "15248        15249      8.0          2  ...            0.0   12.126535   0.116030\n",
              "4090          4091     62.0          2  ...            0.0   11.338530   0.114049\n",
              "980            981     11.0          2  ...            0.0   13.435866   0.109629\n",
              "14449        14450     64.0          2  ...            0.0    9.337772   0.108266\n",
              "7365          7366      8.0          2  ...            0.0   10.245576   0.101110\n",
              "\n",
              "[226 rows x 9 columns]"
            ]
          },
          "metadata": {},
          "execution_count": 85
        }
      ]
    },
    {
      "cell_type": "markdown",
      "metadata": {
        "id": "c_UWd3o0S0Ry"
      },
      "source": [
        "## 6.3 Missed oportunities: big spenders that could be unlocked\n",
        "\n",
        "- Send bundle offers encouraging volume purchases\n",
        "- Focus on missed opportunities"
      ]
    },
    {
      "cell_type": "code",
      "metadata": {
        "colab": {
          "base_uri": "https://localhost:8080/",
          "height": 424
        },
        "id": "mi4ow1WhS5iC",
        "outputId": "ce5e1c5c-77df-490c-8a92-8466a7624ce5"
      },
      "source": [
        "predictions_df \\\n",
        "  [predictions_df['spend_90_total'] == 0] \\\n",
        "  .sort_values('pred_spend', ascending=False)"
      ],
      "execution_count": 87,
      "outputs": [
        {
          "output_type": "execute_result",
          "data": {
            "text/html": [
              "<div>\n",
              "<style scoped>\n",
              "    .dataframe tbody tr th:only-of-type {\n",
              "        vertical-align: middle;\n",
              "    }\n",
              "\n",
              "    .dataframe tbody tr th {\n",
              "        vertical-align: top;\n",
              "    }\n",
              "\n",
              "    .dataframe thead th {\n",
              "        text-align: right;\n",
              "    }\n",
              "</style>\n",
              "<table border=\"1\" class=\"dataframe\">\n",
              "  <thead>\n",
              "    <tr style=\"text-align: right;\">\n",
              "      <th></th>\n",
              "      <th>customer_id</th>\n",
              "      <th>recency</th>\n",
              "      <th>frequency</th>\n",
              "      <th>price_sum</th>\n",
              "      <th>price_mean</th>\n",
              "      <th>spend_90_total</th>\n",
              "      <th>spend_90_flag</th>\n",
              "      <th>pred_spend</th>\n",
              "      <th>pred_prob</th>\n",
              "    </tr>\n",
              "  </thead>\n",
              "  <tbody>\n",
              "    <tr>\n",
              "      <th>21684</th>\n",
              "      <td>21685</td>\n",
              "      <td>14.0</td>\n",
              "      <td>25</td>\n",
              "      <td>2031.06</td>\n",
              "      <td>81.242400</td>\n",
              "      <td>0.0</td>\n",
              "      <td>0.0</td>\n",
              "      <td>153.482727</td>\n",
              "      <td>0.710493</td>\n",
              "    </tr>\n",
              "    <tr>\n",
              "      <th>17522</th>\n",
              "      <td>17523</td>\n",
              "      <td>5.0</td>\n",
              "      <td>17</td>\n",
              "      <td>2280.08</td>\n",
              "      <td>134.122353</td>\n",
              "      <td>0.0</td>\n",
              "      <td>0.0</td>\n",
              "      <td>132.530075</td>\n",
              "      <td>0.808271</td>\n",
              "    </tr>\n",
              "    <tr>\n",
              "      <th>20943</th>\n",
              "      <td>20944</td>\n",
              "      <td>18.0</td>\n",
              "      <td>15</td>\n",
              "      <td>1554.08</td>\n",
              "      <td>103.605333</td>\n",
              "      <td>0.0</td>\n",
              "      <td>0.0</td>\n",
              "      <td>94.241707</td>\n",
              "      <td>0.657206</td>\n",
              "    </tr>\n",
              "    <tr>\n",
              "      <th>1160</th>\n",
              "      <td>1161</td>\n",
              "      <td>10.0</td>\n",
              "      <td>11</td>\n",
              "      <td>1244.34</td>\n",
              "      <td>113.121818</td>\n",
              "      <td>0.0</td>\n",
              "      <td>0.0</td>\n",
              "      <td>94.241707</td>\n",
              "      <td>0.842631</td>\n",
              "    </tr>\n",
              "    <tr>\n",
              "      <th>1589</th>\n",
              "      <td>1590</td>\n",
              "      <td>19.0</td>\n",
              "      <td>11</td>\n",
              "      <td>1327.23</td>\n",
              "      <td>120.657273</td>\n",
              "      <td>0.0</td>\n",
              "      <td>0.0</td>\n",
              "      <td>94.241707</td>\n",
              "      <td>0.736050</td>\n",
              "    </tr>\n",
              "    <tr>\n",
              "      <th>...</th>\n",
              "      <td>...</td>\n",
              "      <td>...</td>\n",
              "      <td>...</td>\n",
              "      <td>...</td>\n",
              "      <td>...</td>\n",
              "      <td>...</td>\n",
              "      <td>...</td>\n",
              "      <td>...</td>\n",
              "      <td>...</td>\n",
              "    </tr>\n",
              "    <tr>\n",
              "      <th>5727</th>\n",
              "      <td>5728</td>\n",
              "      <td>433.0</td>\n",
              "      <td>1</td>\n",
              "      <td>40.46</td>\n",
              "      <td>40.460000</td>\n",
              "      <td>0.0</td>\n",
              "      <td>0.0</td>\n",
              "      <td>1.731597</td>\n",
              "      <td>0.026418</td>\n",
              "    </tr>\n",
              "    <tr>\n",
              "      <th>5726</th>\n",
              "      <td>5727</td>\n",
              "      <td>346.0</td>\n",
              "      <td>2</td>\n",
              "      <td>39.67</td>\n",
              "      <td>19.835000</td>\n",
              "      <td>0.0</td>\n",
              "      <td>0.0</td>\n",
              "      <td>1.731597</td>\n",
              "      <td>0.090848</td>\n",
              "    </tr>\n",
              "    <tr>\n",
              "      <th>13595</th>\n",
              "      <td>13596</td>\n",
              "      <td>407.0</td>\n",
              "      <td>1</td>\n",
              "      <td>12.77</td>\n",
              "      <td>12.770000</td>\n",
              "      <td>0.0</td>\n",
              "      <td>0.0</td>\n",
              "      <td>1.731597</td>\n",
              "      <td>0.032175</td>\n",
              "    </tr>\n",
              "    <tr>\n",
              "      <th>0</th>\n",
              "      <td>1</td>\n",
              "      <td>455.0</td>\n",
              "      <td>1</td>\n",
              "      <td>11.77</td>\n",
              "      <td>11.770000</td>\n",
              "      <td>0.0</td>\n",
              "      <td>0.0</td>\n",
              "      <td>1.731597</td>\n",
              "      <td>0.024034</td>\n",
              "    </tr>\n",
              "    <tr>\n",
              "      <th>14893</th>\n",
              "      <td>14894</td>\n",
              "      <td>376.0</td>\n",
              "      <td>7</td>\n",
              "      <td>3363.93</td>\n",
              "      <td>480.561429</td>\n",
              "      <td>0.0</td>\n",
              "      <td>0.0</td>\n",
              "      <td>-0.432258</td>\n",
              "      <td>0.039654</td>\n",
              "    </tr>\n",
              "  </tbody>\n",
              "</table>\n",
              "<p>20269 rows × 9 columns</p>\n",
              "</div>"
            ],
            "text/plain": [
              "       customer_id  recency  frequency  ...  spend_90_flag  pred_spend  pred_prob\n",
              "21684        21685     14.0         25  ...            0.0  153.482727   0.710493\n",
              "17522        17523      5.0         17  ...            0.0  132.530075   0.808271\n",
              "20943        20944     18.0         15  ...            0.0   94.241707   0.657206\n",
              "1160          1161     10.0         11  ...            0.0   94.241707   0.842631\n",
              "1589          1590     19.0         11  ...            0.0   94.241707   0.736050\n",
              "...            ...      ...        ...  ...            ...         ...        ...\n",
              "5727          5728    433.0          1  ...            0.0    1.731597   0.026418\n",
              "5726          5727    346.0          2  ...            0.0    1.731597   0.090848\n",
              "13595        13596    407.0          1  ...            0.0    1.731597   0.032175\n",
              "0                1    455.0          1  ...            0.0    1.731597   0.024034\n",
              "14893        14894    376.0          7  ...            0.0   -0.432258   0.039654\n",
              "\n",
              "[20269 rows x 9 columns]"
            ]
          },
          "metadata": {},
          "execution_count": 87
        }
      ]
    },
    {
      "cell_type": "code",
      "metadata": {
        "id": "mnfwZOw5UAaD"
      },
      "source": [
        ""
      ],
      "execution_count": null,
      "outputs": []
    }
  ]
}