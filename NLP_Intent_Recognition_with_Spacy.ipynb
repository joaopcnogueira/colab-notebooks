{
  "nbformat": 4,
  "nbformat_minor": 0,
  "metadata": {
    "colab": {
      "name": "NLP Intent Recognition with Spacy",
      "provenance": [],
      "collapsed_sections": [],
      "authorship_tag": "ABX9TyNjNfFcKRMAUcdNMqoJEe4p",
      "include_colab_link": true
    },
    "kernelspec": {
      "name": "python3",
      "display_name": "Python 3"
    },
    "language_info": {
      "name": "python"
    }
  },
  "cells": [
    {
      "cell_type": "markdown",
      "metadata": {
        "id": "view-in-github",
        "colab_type": "text"
      },
      "source": [
        "<a href=\"https://colab.research.google.com/github/joaopcnogueira/colab-notebooks/blob/main/NLP_Intent_Recognition_with_Spacy.ipynb\" target=\"_parent\"><img src=\"https://colab.research.google.com/assets/colab-badge.svg\" alt=\"Open In Colab\"/></a>"
      ]
    },
    {
      "cell_type": "code",
      "metadata": {
        "id": "pTPKU0rcO3Aa"
      },
      "source": [
        "!pip install spacy==3.1.2"
      ],
      "execution_count": null,
      "outputs": []
    },
    {
      "cell_type": "code",
      "metadata": {
        "id": "5lmyNCUgPabW"
      },
      "source": [
        "!python -m spacy download pt_core_news_lg"
      ],
      "execution_count": null,
      "outputs": []
    },
    {
      "cell_type": "markdown",
      "metadata": {
        "id": "zBa0fs0uPabW"
      },
      "source": [
        "# Intent Recognition\n",
        "\n",
        "In many cases, we can identify the user's intent by extracting the sentence's **transitive verb** and **direct object**."
      ]
    },
    {
      "cell_type": "code",
      "metadata": {
        "id": "jlMs7A0KPabW"
      },
      "source": [
        "import spacy\n",
        "\n",
        "nlp = spacy.load('pt_core_news_lg')"
      ],
      "execution_count": null,
      "outputs": []
    },
    {
      "cell_type": "code",
      "metadata": {
        "colab": {
          "base_uri": "https://localhost:8080/"
        },
        "id": "yOsE8FckPabX",
        "outputId": "838039fa-9363-4a4d-88a4-f3179c8b5c31"
      },
      "source": [
        "doc = nlp(\"gostaria de cancelar a minha internet\")\n",
        "\n",
        "for token in doc:\n",
        "    print(token.text, token.dep_)"
      ],
      "execution_count": null,
      "outputs": [
        {
          "output_type": "stream",
          "name": "stdout",
          "text": [
            "gostaria ROOT\n",
            "de mark\n",
            "cancelar xcomp\n",
            "a det\n",
            "minha det\n",
            "internet obj\n"
          ]
        }
      ]
    },
    {
      "cell_type": "code",
      "metadata": {
        "id": "HYancJp4PabX"
      },
      "source": [
        "def extract_intents(text):\n",
        "    doc = nlp(text)\n",
        "\n",
        "    intents = []\n",
        "    for token in doc:\n",
        "        if token.dep_ == 'obj':\n",
        "            intent = token.head.lemma_ + \"_\" + token.lemma_\n",
        "            intents.append(intent)\n",
        "\n",
        "    return intents"
      ],
      "execution_count": null,
      "outputs": []
    },
    {
      "cell_type": "code",
      "metadata": {
        "colab": {
          "base_uri": "https://localhost:8080/"
        },
        "id": "UK0A__hGPabX",
        "outputId": "204ddace-9145-408e-9353-9782d4328ac7"
      },
      "source": [
        "extract_intents('eu quero comprar um iphone e reservar um hotel')"
      ],
      "execution_count": null,
      "outputs": [
        {
          "output_type": "execute_result",
          "data": {
            "text/plain": [
              "['comprar_iphone', 'reservar_hotel']"
            ]
          },
          "metadata": {},
          "execution_count": 6
        }
      ]
    },
    {
      "cell_type": "code",
      "metadata": {
        "colab": {
          "base_uri": "https://localhost:8080/"
        },
        "id": "K_DlTlhXPabX",
        "outputId": "23aad057-d717-44c3-a2b2-2008b00b6509"
      },
      "source": [
        "extract_intents('eu gostaria de reservar um hotel')"
      ],
      "execution_count": null,
      "outputs": [
        {
          "output_type": "execute_result",
          "data": {
            "text/plain": [
              "['reservar_hotel']"
            ]
          },
          "metadata": {},
          "execution_count": 7
        }
      ]
    },
    {
      "cell_type": "code",
      "metadata": {
        "colab": {
          "base_uri": "https://localhost:8080/"
        },
        "id": "4KckzfR3PabY",
        "outputId": "639d2a3c-6261-4ac7-8b9a-eebc2cddb019"
      },
      "source": [
        "extract_intents('comprar passagem aérea para Fortaleza')"
      ],
      "execution_count": null,
      "outputs": [
        {
          "output_type": "execute_result",
          "data": {
            "text/plain": [
              "['comprar_passagem']"
            ]
          },
          "metadata": {},
          "execution_count": 8
        }
      ]
    },
    {
      "cell_type": "code",
      "metadata": {
        "colab": {
          "base_uri": "https://localhost:8080/"
        },
        "id": "3laUkSlQPabY",
        "outputId": "1d92152d-81a1-48d2-d6c0-e1830dfae05e"
      },
      "source": [
        "extract_intents('gostaria de cancelar a minha internet')"
      ],
      "execution_count": null,
      "outputs": [
        {
          "output_type": "execute_result",
          "data": {
            "text/plain": [
              "['cancelar_internet']"
            ]
          },
          "metadata": {},
          "execution_count": 9
        }
      ]
    },
    {
      "cell_type": "code",
      "metadata": {
        "colab": {
          "base_uri": "https://localhost:8080/"
        },
        "id": "GuaRcaVJPabY",
        "outputId": "e2247030-afe5-4645-be5c-3148fab9fe58"
      },
      "source": [
        "extract_intents('gostaria de realizar o cancelamento da minha internet')"
      ],
      "execution_count": null,
      "outputs": [
        {
          "output_type": "execute_result",
          "data": {
            "text/plain": [
              "['realizar_cancelamento']"
            ]
          },
          "metadata": {},
          "execution_count": 10
        }
      ]
    },
    {
      "cell_type": "code",
      "metadata": {
        "colab": {
          "base_uri": "https://localhost:8080/"
        },
        "id": "RfXwfkPjPabY",
        "outputId": "f73f0bde-6b2a-4729-857c-85de423fe060"
      },
      "source": [
        "extract_intents(\"Rafael comprou pães\")"
      ],
      "execution_count": null,
      "outputs": [
        {
          "output_type": "execute_result",
          "data": {
            "text/plain": [
              "['comprar_pão']"
            ]
          },
          "metadata": {},
          "execution_count": 11
        }
      ]
    },
    {
      "cell_type": "code",
      "metadata": {
        "colab": {
          "base_uri": "https://localhost:8080/"
        },
        "id": "nW7v4SaZPabY",
        "outputId": "37ec8dd3-0efc-42d4-f9eb-15fec15196d9"
      },
      "source": [
        "intents = extract_intents(\"fatura meio complicado a gente fazer uma análise sobre uma única fatura que a gente realmente pede pro cliente porquê assim o valor da da nossa sars tela alterou pra esse me seis a fatura do dia trinta do seis ela já tá com a nova tarifação quem dez - de nove vírgula seis então aumentou a taxa também o período saldo na o que é o período assim as bytes temperatura ela acaba dando diferença no seu - - na sua utilização dando aí e aumento também novamente assim o seu consumo seu primeiro estar de cinco dias de lá nove cinco dois em que eu vou pedir pra senhora fazer é acompanhar a próxima fatura e a sua utilização pra saber se vai ser um gasto menor for maior do que é esse entendeu porquê aqui foi cobrado trinta e dois dias e a fatura geralmente ela sete conseguir eles cobraram mais dois dias a senhora de utilização no seu não que a gente acompanha aqui de utilização é uma utilização baixa de cinco megas sem cliente recebe fatura de referência de cem reais entendeu até mais do que isso mesmo morando sozinho sua conta de utilizar mesmo bastante banho bastante os dados no caso a senhora a senhora só - - gel só tem isso vão então pode ocorrer também - cliente utiliza muito cobrança mas como eu te informei na primeira fatura de fizeram a verificação pra - não tem vazamento eu correto qual mostrar que ele foi até o local e não teve vazamento não tem como a gente questionar com apenas uma única fatura sendo que o técnico já foi até o local e não consegui não constatou nada\")\n",
        "\n",
        "[intent for intent in intents if intent.endswith(\"fatura\")]"
      ],
      "execution_count": null,
      "outputs": [
        {
          "output_type": "execute_result",
          "data": {
            "text/plain": [
              "['alterar_fatura', 'acompanhar_fatura', 'receber_fatura', 'questionar_fatura']"
            ]
          },
          "metadata": {},
          "execution_count": 12
        }
      ]
    },
    {
      "cell_type": "code",
      "metadata": {
        "colab": {
          "base_uri": "https://localhost:8080/"
        },
        "id": "8Y43LL-JPabZ",
        "outputId": "9a6c4bdc-e7f9-4f3a-ee1c-17de2a3486ab"
      },
      "source": [
        "# Base de Intents\n",
        "base_intents = ['comprar_produto', 'comprar_servico', 'comprar_iphone']\n",
        "base_intents"
      ],
      "execution_count": null,
      "outputs": [
        {
          "output_type": "execute_result",
          "data": {
            "text/plain": [
              "['comprar_produto', 'comprar_servico', 'comprar_iphone']"
            ]
          },
          "metadata": {},
          "execution_count": 13
        }
      ]
    },
    {
      "cell_type": "code",
      "metadata": {
        "colab": {
          "base_uri": "https://localhost:8080/"
        },
        "id": "8X_vwV2mPabZ",
        "outputId": "9d727e79-73ab-4293-d4de-350b56eccac0"
      },
      "source": [
        "extracted_intents = extract_intents('eu quero comprar um iphone')\n",
        "extracted_intents"
      ],
      "execution_count": null,
      "outputs": [
        {
          "output_type": "execute_result",
          "data": {
            "text/plain": [
              "['comprar_iphone']"
            ]
          },
          "metadata": {},
          "execution_count": 14
        }
      ]
    },
    {
      "cell_type": "code",
      "metadata": {
        "colab": {
          "base_uri": "https://localhost:8080/"
        },
        "id": "OF3GeN_QPabZ",
        "outputId": "22697fde-4109-4f79-ef8c-97868063c5e7"
      },
      "source": [
        "# incrementar a busca utilizar similaridades de intents com word to vec\n",
        "intents = []\n",
        "for intent in extracted_intents:\n",
        "    for known_intent in base_intents:\n",
        "        if intent == known_intent:\n",
        "            intents.append(intent)\n",
        "\n",
        "intents"
      ],
      "execution_count": null,
      "outputs": [
        {
          "output_type": "execute_result",
          "data": {
            "text/plain": [
              "['comprar_iphone']"
            ]
          },
          "metadata": {},
          "execution_count": 15
        }
      ]
    },
    {
      "cell_type": "code",
      "metadata": {
        "id": "sel77QWQPabZ"
      },
      "source": [
        ""
      ],
      "execution_count": null,
      "outputs": []
    }
  ]
}