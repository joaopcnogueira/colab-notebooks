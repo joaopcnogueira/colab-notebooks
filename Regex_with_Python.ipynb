{
  "nbformat": 4,
  "nbformat_minor": 5,
  "metadata": {
    "kernelspec": {
      "display_name": "Python 3",
      "language": "python",
      "name": "python3"
    },
    "language_info": {
      "codemirror_mode": {
        "name": "ipython",
        "version": 3
      },
      "file_extension": ".py",
      "mimetype": "text/x-python",
      "name": "python",
      "nbconvert_exporter": "python",
      "pygments_lexer": "ipython3",
      "version": "3.8.8"
    },
    "toc": {
      "base_numbering": 1,
      "nav_menu": {},
      "number_sections": true,
      "sideBar": true,
      "skip_h1_title": false,
      "title_cell": "Table of Contents",
      "title_sidebar": "Contents",
      "toc_cell": false,
      "toc_position": {},
      "toc_section_display": true,
      "toc_window_display": true
    },
    "varInspector": {
      "cols": {
        "lenName": 16,
        "lenType": 16,
        "lenVar": 40
      },
      "kernels_config": {
        "python": {
          "delete_cmd_postfix": "",
          "delete_cmd_prefix": "del ",
          "library": "var_list.py",
          "varRefreshCmd": "print(var_dic_list())"
        },
        "r": {
          "delete_cmd_postfix": ") ",
          "delete_cmd_prefix": "rm(",
          "library": "var_list.r",
          "varRefreshCmd": "cat(var_dic_list()) "
        }
      },
      "types_to_exclude": [
        "module",
        "function",
        "builtin_function_or_method",
        "instance",
        "_Feature"
      ],
      "window_display": false
    },
    "colab": {
      "name": "Regex with Python.ipynb",
      "provenance": [],
      "include_colab_link": true
    }
  },
  "cells": [
    {
      "cell_type": "markdown",
      "metadata": {
        "id": "view-in-github",
        "colab_type": "text"
      },
      "source": [
        "<a href=\"https://colab.research.google.com/github/joaopcnogueira/colab-notebooks/blob/main/Regex_with_Python.ipynb\" target=\"_parent\"><img src=\"https://colab.research.google.com/assets/colab-badge.svg\" alt=\"Open In Colab\"/></a>"
      ]
    },
    {
      "cell_type": "markdown",
      "metadata": {
        "id": "5fbc8dbc"
      },
      "source": [
        "# Regex no Python"
      ],
      "id": "5fbc8dbc"
    },
    {
      "cell_type": "code",
      "metadata": {
        "id": "64e2c5f9"
      },
      "source": [
        "import re"
      ],
      "id": "64e2c5f9",
      "execution_count": null,
      "outputs": []
    },
    {
      "cell_type": "markdown",
      "metadata": {
        "id": "5224e071"
      },
      "source": [
        "- **Busca**: funções `re.search`, `re.findall`, `re.finditer`\n",
        "\n",
        "- **Substituição**: função `re.sub`\n",
        "\n",
        "- **Divisão**: função `re.split`\n",
        "\n",
        "- **ER crua**: funções `r'raw string'`\n",
        "\n",
        "- **Ignore M/m**: Modificadores `?i`, `re.I`\n",
        "\n",
        "- **Global**: É o padrão"
      ],
      "id": "5224e071"
    },
    {
      "cell_type": "markdown",
      "metadata": {
        "id": "417b1358"
      },
      "source": [
        "## Busca"
      ],
      "id": "417b1358"
    },
    {
      "cell_type": "markdown",
      "metadata": {
        "id": "45e9de8f"
      },
      "source": [
        "### search\n",
        "Para testar se uma expressão casou ou não em um determinado texto (ou variável), use a função `search`."
      ],
      "id": "45e9de8f"
    },
    {
      "cell_type": "code",
      "metadata": {
        "id": "17667ceb",
        "outputId": "9f73f468-13e9-4a85-ed46-99a804aee69a"
      },
      "source": [
        "# m: abreviação para match\n",
        "m = re.search(r'^Py', 'Python')\n",
        "\n",
        "if m:\n",
        "    print('Casou')\n",
        "else:\n",
        "    print('Não casou')"
      ],
      "id": "17667ceb",
      "execution_count": null,
      "outputs": [
        {
          "name": "stdout",
          "output_type": "stream",
          "text": [
            "Casou\n"
          ]
        }
      ]
    },
    {
      "cell_type": "code",
      "metadata": {
        "id": "07efb4dc",
        "outputId": "6e7c65cd-fd3b-437f-cb2d-5c578aa0878e"
      },
      "source": [
        "m.group()"
      ],
      "id": "07efb4dc",
      "execution_count": null,
      "outputs": [
        {
          "data": {
            "text/plain": [
              "'Py'"
            ]
          },
          "execution_count": 5,
          "metadata": {},
          "output_type": "execute_result"
        }
      ]
    },
    {
      "cell_type": "code",
      "metadata": {
        "id": "5dcdd239",
        "outputId": "137c3bfd-e312-4028-c827-7e1b4d91bb5d"
      },
      "source": [
        "m.start()"
      ],
      "id": "5dcdd239",
      "execution_count": null,
      "outputs": [
        {
          "data": {
            "text/plain": [
              "0"
            ]
          },
          "execution_count": 6,
          "metadata": {},
          "output_type": "execute_result"
        }
      ]
    },
    {
      "cell_type": "code",
      "metadata": {
        "id": "ece01c1f",
        "outputId": "85297e06-eaf4-42f0-8884-acb332694351"
      },
      "source": [
        "m.end()"
      ],
      "id": "ece01c1f",
      "execution_count": null,
      "outputs": [
        {
          "data": {
            "text/plain": [
              "2"
            ]
          },
          "execution_count": 7,
          "metadata": {},
          "output_type": "execute_result"
        }
      ]
    },
    {
      "cell_type": "code",
      "metadata": {
        "id": "eaeda6ab",
        "outputId": "39128d74-c0e5-44c7-9f2c-8923352e7b36"
      },
      "source": [
        "m.span()"
      ],
      "id": "eaeda6ab",
      "execution_count": null,
      "outputs": [
        {
          "data": {
            "text/plain": [
              "(0, 2)"
            ]
          },
          "execution_count": 8,
          "metadata": {},
          "output_type": "execute_result"
        }
      ]
    },
    {
      "cell_type": "markdown",
      "metadata": {
        "id": "92ab548d"
      },
      "source": [
        "O método `group` traz o trecho de texto casado pela expressão. Com os métodos `start` e `end`, você obtém a posição de ínício e fim o trecho casado na string original. O método `span` é similar, porém já traz ambas as posições dentro de uma tupla. Lembre-se de que em Python os índices iniciam em zero.\n",
        "\n",
        "Se a sua expressão contém grupos, além das informações do casamento com um todo (considerando grupo zero), você também pode obter informações sobre cada um dos grupos informando seu número. Há também o método `groups` que retorna uma tupla com o conteúdo casado de todos os grupos."
      ],
      "id": "92ab548d"
    },
    {
      "cell_type": "code",
      "metadata": {
        "id": "8297e034"
      },
      "source": [
        "m = re.search(r'(..)/(..)/(....)', '31/12/2021')"
      ],
      "id": "8297e034",
      "execution_count": null,
      "outputs": []
    },
    {
      "cell_type": "code",
      "metadata": {
        "id": "8b2e20c7",
        "outputId": "561919ae-3279-4337-a332-dd69531d8ba1"
      },
      "source": [
        "m.group(0)"
      ],
      "id": "8b2e20c7",
      "execution_count": null,
      "outputs": [
        {
          "data": {
            "text/plain": [
              "'31/12/2021'"
            ]
          },
          "execution_count": 10,
          "metadata": {},
          "output_type": "execute_result"
        }
      ]
    },
    {
      "cell_type": "code",
      "metadata": {
        "id": "f8384a17",
        "outputId": "9a72c176-942e-4e78-9aac-51e9dd23b452"
      },
      "source": [
        "m.group(1)"
      ],
      "id": "f8384a17",
      "execution_count": null,
      "outputs": [
        {
          "data": {
            "text/plain": [
              "'31'"
            ]
          },
          "execution_count": 11,
          "metadata": {},
          "output_type": "execute_result"
        }
      ]
    },
    {
      "cell_type": "code",
      "metadata": {
        "id": "97c68483",
        "outputId": "822a960d-cd37-4bba-a69d-479f136a15e6"
      },
      "source": [
        "m.group(2)"
      ],
      "id": "97c68483",
      "execution_count": null,
      "outputs": [
        {
          "data": {
            "text/plain": [
              "'12'"
            ]
          },
          "execution_count": 12,
          "metadata": {},
          "output_type": "execute_result"
        }
      ]
    },
    {
      "cell_type": "code",
      "metadata": {
        "id": "29e9d46b",
        "outputId": "b11d340b-ce1c-4131-e57b-4ab43772834d"
      },
      "source": [
        "m.group(3)"
      ],
      "id": "29e9d46b",
      "execution_count": null,
      "outputs": [
        {
          "data": {
            "text/plain": [
              "'2021'"
            ]
          },
          "execution_count": 13,
          "metadata": {},
          "output_type": "execute_result"
        }
      ]
    },
    {
      "cell_type": "code",
      "metadata": {
        "id": "21b7b0bb",
        "outputId": "6ba54e12-621f-4de4-b951-4dfeec1ed6e9"
      },
      "source": [
        "m.groups()"
      ],
      "id": "21b7b0bb",
      "execution_count": null,
      "outputs": [
        {
          "data": {
            "text/plain": [
              "('31', '12', '2021')"
            ]
          },
          "execution_count": 14,
          "metadata": {},
          "output_type": "execute_result"
        }
      ]
    },
    {
      "cell_type": "code",
      "metadata": {
        "id": "42c47876",
        "outputId": "bc74ab9b-e027-41cc-a180-b01f3da72c85"
      },
      "source": [
        "print(m.span(0))\n",
        "print(m.span(1))\n",
        "print(m.span(2))\n",
        "print(m.span(3))"
      ],
      "id": "42c47876",
      "execution_count": null,
      "outputs": [
        {
          "name": "stdout",
          "output_type": "stream",
          "text": [
            "(0, 10)\n",
            "(0, 2)\n",
            "(3, 5)\n",
            "(6, 10)\n"
          ]
        }
      ]
    },
    {
      "cell_type": "markdown",
      "metadata": {
        "id": "ec1476f1"
      },
      "source": [
        "### findall\n",
        "\n",
        "E se a expressão casar mais de uma vez no texto? Para encontrar todas as ocorrências, use a função `findall`. Ela retorna uma lista com todos os trechos de texto casados pela expressão, ou uma lista vazia, se não casar.\n",
        "\n",
        "No próximo exemplo, observe como a função `search` só retornará o primeiro match."
      ],
      "id": "ec1476f1"
    },
    {
      "cell_type": "code",
      "metadata": {
        "id": "4e9eb47b",
        "outputId": "d79af9e4-1339-4fec-ae0f-b21999a1c9c7"
      },
      "source": [
        "texto = \"Corri 3km em 15 minutos ouvindo CPM 22.\"\n",
        "\n",
        "re.search(r'\\d+', texto).group()"
      ],
      "id": "4e9eb47b",
      "execution_count": null,
      "outputs": [
        {
          "data": {
            "text/plain": [
              "'3'"
            ]
          },
          "execution_count": 16,
          "metadata": {},
          "output_type": "execute_result"
        }
      ]
    },
    {
      "cell_type": "code",
      "metadata": {
        "id": "cff8c0ba",
        "outputId": "00ed1677-9066-4a33-b942-3823738d177e"
      },
      "source": [
        "re.findall(r'\\d+', texto)"
      ],
      "id": "cff8c0ba",
      "execution_count": null,
      "outputs": [
        {
          "data": {
            "text/plain": [
              "['3', '15', '22']"
            ]
          },
          "execution_count": 17,
          "metadata": {},
          "output_type": "execute_result"
        }
      ]
    },
    {
      "cell_type": "code",
      "metadata": {
        "id": "8eaef8c8",
        "outputId": "d34a01b0-b4ed-4750-ef0d-68b9b5e768c4"
      },
      "source": [
        "re.findall(r'XXX', texto)"
      ],
      "id": "8eaef8c8",
      "execution_count": null,
      "outputs": [
        {
          "data": {
            "text/plain": [
              "[]"
            ]
          },
          "execution_count": 18,
          "metadata": {},
          "output_type": "execute_result"
        }
      ]
    },
    {
      "cell_type": "markdown",
      "metadata": {
        "id": "ff5e8c75"
      },
      "source": [
        "Se houver grupos na expressão, o retorna da função será uma lista de tuplas. Cada tupla representa um casamento, trazendo o conteúdo de todos os seus grupos."
      ],
      "id": "ff5e8c75"
    },
    {
      "cell_type": "code",
      "metadata": {
        "id": "52384613",
        "outputId": "404d2231-810e-4d9b-b168-18530a3ca92b"
      },
      "source": [
        "texto = \"Acordei às 08:00, comi 12:30, dormi às 23:59.\"\n",
        "\n",
        "re.findall(r'(\\d\\d):(\\d\\d)', texto)"
      ],
      "id": "52384613",
      "execution_count": null,
      "outputs": [
        {
          "data": {
            "text/plain": [
              "[('08', '00'), ('12', '30'), ('23', '59')]"
            ]
          },
          "execution_count": 19,
          "metadata": {},
          "output_type": "execute_result"
        }
      ]
    },
    {
      "cell_type": "code",
      "metadata": {
        "id": "9f55a3e4",
        "outputId": "62c57626-2392-42aa-8819-3895c4111af4"
      },
      "source": [
        "re.findall(r'(\\d\\d:\\d\\d)', texto)"
      ],
      "id": "9f55a3e4",
      "execution_count": null,
      "outputs": [
        {
          "data": {
            "text/plain": [
              "['08:00', '12:30', '23:59']"
            ]
          },
          "execution_count": 20,
          "metadata": {},
          "output_type": "execute_result"
        }
      ]
    },
    {
      "cell_type": "markdown",
      "metadata": {
        "id": "2b3f2f8d"
      },
      "source": [
        "### finditer\n",
        "\n",
        "Uma maneira mais sofisticada de se lidar com múltiplas ocorrências é fazer um loop nos casamentos, usando a função `finditer`. Você pode inspecionar cada ocorrência, usando aqueles métodos bacanas que já vimos anteriormente, como `group` e `span`."
      ],
      "id": "2b3f2f8d"
    },
    {
      "cell_type": "code",
      "metadata": {
        "id": "c3242fc7",
        "outputId": "94f38690-df1c-4bd4-a3a1-ab0bb3263de0"
      },
      "source": [
        "texto = \"Acordei às 08:00, comi 12:30, dormi às 23:59.\"\n",
        "\n",
        "for match in re.finditer(r'(\\d\\d):(\\d\\d)', texto):\n",
        "    hora = match.group(1)\n",
        "    minutos = match.group(2)\n",
        "    print(f'{hora} horas, {minutos} minutos')"
      ],
      "id": "c3242fc7",
      "execution_count": null,
      "outputs": [
        {
          "name": "stdout",
          "output_type": "stream",
          "text": [
            "08 horas, 00 minutos\n",
            "12 horas, 30 minutos\n",
            "23 horas, 59 minutos\n"
          ]
        }
      ]
    },
    {
      "cell_type": "markdown",
      "metadata": {
        "id": "90b08232"
      },
      "source": [
        "Um método útil de se utilizar dentro de loops é o `expands`, que funciona de maneira similar à substituição, expandindo os\n",
        "retrovisores `\\1, \\2, ...`."
      ],
      "id": "90b08232"
    },
    {
      "cell_type": "code",
      "metadata": {
        "id": "87e247f6",
        "outputId": "77c6132e-937e-4e33-8c23-221d6637a39e"
      },
      "source": [
        "texto = \"Acordei às 08:00, comi 12:30, dormi às 23:59.\"\n",
        "\n",
        "for match in re.finditer(r'(\\d\\d):(\\d\\d)', texto):\n",
        "    print(match.expand(r'\\1 horas, \\2 minutos'))"
      ],
      "id": "87e247f6",
      "execution_count": null,
      "outputs": [
        {
          "name": "stdout",
          "output_type": "stream",
          "text": [
            "08 horas, 00 minutos\n",
            "12 horas, 30 minutos\n",
            "23 horas, 59 minutos\n"
          ]
        }
      ]
    },
    {
      "cell_type": "markdown",
      "metadata": {
        "id": "dea18c3b"
      },
      "source": [
        "## Substituição\n",
        "\n",
        "A substituição é feita pela função `sub`, que troca todas as ocorrências encontradas. Ela aceita um quarto argumento opcional para limitar o número de substituições a serem feitas:"
      ],
      "id": "dea18c3b"
    },
    {
      "cell_type": "code",
      "metadata": {
        "id": "6f1db2fa",
        "outputId": "e73070b5-f9a9-4c3e-e3d6-2e6cdb82f253"
      },
      "source": [
        "re.sub(r'\\w', '.', 'Python')"
      ],
      "id": "6f1db2fa",
      "execution_count": null,
      "outputs": [
        {
          "data": {
            "text/plain": [
              "'......'"
            ]
          },
          "execution_count": 26,
          "metadata": {},
          "output_type": "execute_result"
        }
      ]
    },
    {
      "cell_type": "code",
      "metadata": {
        "id": "085c2ac6",
        "outputId": "9caf7a03-f2b7-460e-9236-780771e67537"
      },
      "source": [
        "re.sub(r'\\w', '.', 'Python', 2)"
      ],
      "id": "085c2ac6",
      "execution_count": null,
      "outputs": [
        {
          "data": {
            "text/plain": [
              "'..thon'"
            ]
          },
          "execution_count": 27,
          "metadata": {},
          "output_type": "execute_result"
        }
      ]
    },
    {
      "cell_type": "markdown",
      "metadata": {
        "id": "929468c6"
      },
      "source": [
        "Os retrovisores são referenciados normalmente, usando a contrabarra. Por isso, lembre-se de também colocar o texto substituto dentro de uma \"raw string\", para evitar problemas de escape."
      ],
      "id": "929468c6"
    },
    {
      "cell_type": "code",
      "metadata": {
        "id": "fe427130",
        "outputId": "687629fa-3b7b-4727-ac5e-7ecfd94f0549"
      },
      "source": [
        "re.sub(r'(Py).*', r'\\1\\1', 'Python')"
      ],
      "id": "fe427130",
      "execution_count": null,
      "outputs": [
        {
          "data": {
            "text/plain": [
              "'PyPy'"
            ]
          },
          "execution_count": 28,
          "metadata": {},
          "output_type": "execute_result"
        }
      ]
    },
    {
      "cell_type": "markdown",
      "metadata": {
        "id": "0a3837ab"
      },
      "source": [
        "Uma sintaxe alternativa para os retrovisores é `\\g<1>, \\g<2>`, útil quando você precisar de um número literal logo após o retrovisor."
      ],
      "id": "0a3837ab"
    },
    {
      "cell_type": "code",
      "metadata": {
        "id": "0a6252c6"
      },
      "source": [
        "# error: invalid group reference 13 at position 1\n",
        "# re.sub(r'(Py).*', r'\\13', 'Python')"
      ],
      "id": "0a6252c6",
      "execution_count": null,
      "outputs": []
    },
    {
      "cell_type": "code",
      "metadata": {
        "id": "90435d65",
        "outputId": "c6faf5a3-f362-4667-90a0-821226031b59"
      },
      "source": [
        "re.sub(r'(Py).*', r'\\g<1>3', 'Python')"
      ],
      "id": "90435d65",
      "execution_count": null,
      "outputs": [
        {
          "data": {
            "text/plain": [
              "'Py3'"
            ]
          },
          "execution_count": 31,
          "metadata": {},
          "output_type": "execute_result"
        }
      ]
    },
    {
      "cell_type": "markdown",
      "metadata": {
        "id": "42a15d50"
      },
      "source": [
        "Para substituições realmente estilosas, você pode usar uma função no lugar do texto substituto. Esta função receberá uma instância de `MatchObject` para cada ocorrência e deve retornar uma string."
      ],
      "id": "42a15d50"
    },
    {
      "cell_type": "code",
      "metadata": {
        "id": "c0003544"
      },
      "source": [
        "def data_por_extenso(match):\n",
        "    dia, mes, ano = match.group(1), match.group(2), match.group(3)\n",
        "    meses = {\n",
        "        '01':'Janeiro', '02':'Fevereiro', '03':'Março',\n",
        "        '04':'Abril', '05':'Maio', '06':'Junho', \n",
        "        '07':'Julho', '08':'Agosto','09':'Setembro', \n",
        "        '10':'Outubro', '11':'Novembro', '12':'Dezembro'\n",
        "    }\n",
        "    \n",
        "    return dia + \" de \" + meses[mes] + \" de \" + ano "
      ],
      "id": "c0003544",
      "execution_count": null,
      "outputs": []
    },
    {
      "cell_type": "code",
      "metadata": {
        "id": "d071fc50",
        "outputId": "1ca63fc0-3b6b-46e1-efa4-f17956a94910"
      },
      "source": [
        "texto = \"Hoje é dia 31/12/2021\"\n",
        "regex = r'(\\d\\d)/(\\d\\d)/(\\d\\d\\d\\d)'\n",
        "\n",
        "re.sub(regex, data_por_extenso, texto)"
      ],
      "id": "d071fc50",
      "execution_count": null,
      "outputs": [
        {
          "data": {
            "text/plain": [
              "'Hoje é dia 31 de Dezembro de 2021'"
            ]
          },
          "execution_count": 37,
          "metadata": {},
          "output_type": "execute_result"
        }
      ]
    },
    {
      "cell_type": "markdown",
      "metadata": {
        "id": "179c6c33"
      },
      "source": [
        "## Divisão"
      ],
      "id": "179c6c33"
    },
    {
      "cell_type": "markdown",
      "metadata": {
        "id": "4d15e676"
      },
      "source": [
        "### split"
      ],
      "id": "4d15e676"
    },
    {
      "cell_type": "code",
      "metadata": {
        "id": "da902998",
        "outputId": "002338b6-4de6-481f-87c5-1b963e4a6c07"
      },
      "source": [
        "re.split(r'[/]', '31/12/99')"
      ],
      "id": "da902998",
      "execution_count": null,
      "outputs": [
        {
          "data": {
            "text/plain": [
              "['31', '12', '99']"
            ]
          },
          "execution_count": 38,
          "metadata": {},
          "output_type": "execute_result"
        }
      ]
    },
    {
      "cell_type": "code",
      "metadata": {
        "id": "c06c5d82",
        "outputId": "2f185bee-6b01-4260-aa46-4693081923ca"
      },
      "source": [
        "# realizar apenas o primeiro split\n",
        "re.split(r'[/]', '31/12/99', 1)"
      ],
      "id": "c06c5d82",
      "execution_count": null,
      "outputs": [
        {
          "data": {
            "text/plain": [
              "['31', '12/99']"
            ]
          },
          "execution_count": 40,
          "metadata": {},
          "output_type": "execute_result"
        }
      ]
    },
    {
      "cell_type": "markdown",
      "metadata": {
        "id": "1100a808"
      },
      "source": [
        "### compile\n",
        "\n",
        "Se você for utilizar a mesma expressão mais de uma vez, é possível compilá-la para garantir uma execução mais rápida. O objeto retornado da compilação tem os mesmos métodos o módulo `re`, então você pode casar, substituir e dividir textos usando expressões regulares compiladas."
      ],
      "id": "1100a808"
    },
    {
      "cell_type": "code",
      "metadata": {
        "id": "04c75b1e"
      },
      "source": [
        "# Primeiro compile as expressões\n",
        "er_hora = re.compile(r'(\\d\\d):(\\d\\d)')\n",
        "er_separador = re.compile(r'[/.:]')"
      ],
      "id": "04c75b1e",
      "execution_count": null,
      "outputs": []
    },
    {
      "cell_type": "code",
      "metadata": {
        "id": "ba09a625",
        "outputId": "588c7dc8-decb-4fdd-e39b-0ba251931287"
      },
      "source": [
        "# Agora pode usá-las diretamente para pesquisar ...\n",
        "if er_hora.search('23:59'):\n",
        "    print('Casou')"
      ],
      "id": "ba09a625",
      "execution_count": null,
      "outputs": [
        {
          "name": "stdout",
          "output_type": "stream",
          "text": [
            "Casou\n"
          ]
        }
      ]
    },
    {
      "cell_type": "code",
      "metadata": {
        "id": "96c7b508",
        "outputId": "0348634d-6514-4f20-caee-6f43401d7010"
      },
      "source": [
        "# para substituir ...\n",
        "er_hora.sub(r'\\1h\\2min', '23:59')"
      ],
      "id": "96c7b508",
      "execution_count": null,
      "outputs": [
        {
          "data": {
            "text/plain": [
              "'23h59min'"
            ]
          },
          "execution_count": 43,
          "metadata": {},
          "output_type": "execute_result"
        }
      ]
    },
    {
      "cell_type": "code",
      "metadata": {
        "id": "3fdf2163",
        "outputId": "0af489ef-2051-4592-877f-5b6d44f3e5ed"
      },
      "source": [
        "# e para dividr\n",
        "print(er_separador.split('1.23'))\n",
        "print(er_separador.split('23:59'))\n",
        "print(er_separador.split('31/12/99'))"
      ],
      "id": "3fdf2163",
      "execution_count": null,
      "outputs": [
        {
          "name": "stdout",
          "output_type": "stream",
          "text": [
            "['1', '23']\n",
            "['23', '59']\n",
            "['31', '12', '99']\n"
          ]
        }
      ]
    },
    {
      "cell_type": "markdown",
      "metadata": {
        "id": "58e7b452"
      },
      "source": [
        "# Lookahead & Lookbehind"
      ],
      "id": "58e7b452"
    },
    {
      "cell_type": "markdown",
      "metadata": {
        "id": "203fdef3"
      },
      "source": [
        "## Positive Lookahead\n",
        "\n",
        "**Sintaxe:** `(?=ER)`, onde `ER := Expressão Regular`\n",
        "\n",
        "Não casa caracteres na posição atual, mas dá uma \"espiada\" adiante (look ahead), e caso a ER embutida case, retorna sucesso. É como só apostar na loteria se você já souber o resultado. Por exemplo, a ER `Homer (?=Simpson)` só casará o `Homer` se for seguido de Simpson. Mas o sobrenome não faz parte do trecho casado, serviu apenas para checagem."
      ],
      "id": "203fdef3"
    },
    {
      "cell_type": "code",
      "metadata": {
        "id": "74b878a8",
        "outputId": "f88682df-d3fa-43fb-9dab-aef11b9dba04"
      },
      "source": [
        "re.findall(r'Homer (?=Simpson)', 'Homer Simpson')"
      ],
      "id": "74b878a8",
      "execution_count": null,
      "outputs": [
        {
          "data": {
            "text/plain": [
              "['Homer ']"
            ]
          },
          "execution_count": 58,
          "metadata": {},
          "output_type": "execute_result"
        }
      ]
    },
    {
      "cell_type": "markdown",
      "metadata": {
        "id": "592af1cf"
      },
      "source": [
        "tirando o espaço:"
      ],
      "id": "592af1cf"
    },
    {
      "cell_type": "code",
      "metadata": {
        "id": "818baafb",
        "outputId": "0b22aacc-3263-45ef-db56-201b06cdebbc"
      },
      "source": [
        "re.findall(r'Homer(?=\\s?Simpson)', 'Homer Simpson')"
      ],
      "id": "818baafb",
      "execution_count": null,
      "outputs": [
        {
          "data": {
            "text/plain": [
              "['Homer']"
            ]
          },
          "execution_count": 57,
          "metadata": {},
          "output_type": "execute_result"
        }
      ]
    },
    {
      "cell_type": "code",
      "metadata": {
        "id": "251d89fa",
        "outputId": "2b79627b-a692-434d-f0c4-05fe25489ae0"
      },
      "source": [
        "texto = '''\n",
        "Homer Simpson\n",
        "Homer Carpinter\n",
        "Homer Michael\n",
        "'''\n",
        "\n",
        "re.findall(r'Homer(?=\\s?Simpson)', texto)"
      ],
      "id": "251d89fa",
      "execution_count": null,
      "outputs": [
        {
          "data": {
            "text/plain": [
              "['Homer']"
            ]
          },
          "execution_count": 61,
          "metadata": {},
          "output_type": "execute_result"
        }
      ]
    },
    {
      "cell_type": "markdown",
      "metadata": {
        "id": "c3b76959"
      },
      "source": [
        "## Negative Lookahead\n",
        "\n",
        "**Sintaxe:** `(?!ER)`\n",
        "\n",
        "É o contrário do anterior, só casando um trecho se este não for seguido da ER embutida. Então `Home (?!morreu)` casa o Homer do texto \"Homer comeu\", mas não do \"Homer morreu\"."
      ],
      "id": "c3b76959"
    },
    {
      "cell_type": "code",
      "metadata": {
        "id": "eb5545ac",
        "outputId": "be15b1ac-4ead-426b-be58-75964924d574"
      },
      "source": [
        "texto = '''\n",
        "Homer morreu\n",
        "Homer comeu\n",
        "'''\n",
        "\n",
        "re.findall(r'Homer (?!morreu)', texto)"
      ],
      "id": "eb5545ac",
      "execution_count": null,
      "outputs": [
        {
          "data": {
            "text/plain": [
              "['Homer ']"
            ]
          },
          "execution_count": 68,
          "metadata": {},
          "output_type": "execute_result"
        }
      ]
    },
    {
      "cell_type": "code",
      "metadata": {
        "id": "f74a0f69",
        "outputId": "e0cc1730-ff1c-4a3f-c8fc-53c3f05e8489"
      },
      "source": [
        "texto = '''\n",
        "Homer Simpson\n",
        "Homer Carpinter\n",
        "Homer Michael\n",
        "'''\n",
        "\n",
        "re.findall(r'Homer(?! Simpson)', texto)"
      ],
      "id": "f74a0f69",
      "execution_count": null,
      "outputs": [
        {
          "data": {
            "text/plain": [
              "['Homer', 'Homer']"
            ]
          },
          "execution_count": 71,
          "metadata": {},
          "output_type": "execute_result"
        }
      ]
    },
    {
      "cell_type": "markdown",
      "metadata": {
        "id": "fc57beb3"
      },
      "source": [
        "Para memorizar os dois últimos metacaracteres, veja seus identificadores: `=` e `!`, que lembra os operadores `==` e `!=`."
      ],
      "id": "fc57beb3"
    },
    {
      "cell_type": "markdown",
      "metadata": {
        "id": "5a16605f"
      },
      "source": [
        "## Positive Lookbehind & Negative Lookbehind\n",
        "\n",
        "**Sintaxe:** \n",
        "\n",
        "- Positive Lookbehind: `(?<=ER)`\n",
        "\n",
        "- Negative Lookbehind: `(?<!ER)`\n",
        "\n",
        "Estes dois são complementares aos dois anteriores, a diferença é que, em vez de espiar para frente, eles espiam para trás (note o `<` apontando para a esquerda). Então `(?<!Barney) Simpson` casará Simpson em \"Homer Simpson\", mas não em \"Barney Simpson\"."
      ],
      "id": "5a16605f"
    },
    {
      "cell_type": "code",
      "metadata": {
        "id": "0a6c336e",
        "outputId": "cb591669-cfcc-47b1-eac5-ccff39888965"
      },
      "source": [
        "texto = '''\n",
        "Homer Simpson\n",
        "Barney Simpson\n",
        "'''\n",
        "\n",
        "re.findall(r'(?<!Barney) Simpson', texto)"
      ],
      "id": "0a6c336e",
      "execution_count": null,
      "outputs": [
        {
          "data": {
            "text/plain": [
              "[' Simpson']"
            ]
          },
          "execution_count": 74,
          "metadata": {},
          "output_type": "execute_result"
        }
      ]
    },
    {
      "cell_type": "markdown",
      "metadata": {
        "id": "8aa92b5b"
      },
      "source": [
        "## Exemplos"
      ],
      "id": "8aa92b5b"
    },
    {
      "cell_type": "markdown",
      "metadata": {
        "id": "f1fb8ed3"
      },
      "source": [
        "### Negative Lookbehind"
      ],
      "id": "f1fb8ed3"
    },
    {
      "cell_type": "code",
      "metadata": {
        "id": "c3a9ba31",
        "outputId": "513d10e2-8829-4a7a-a1f2-f99f4cb1e4e2"
      },
      "source": [
        "sql = '''\n",
        "SELECT\n",
        "    T1.order_id,\n",
        "    T2.product_name,\n",
        "    T2.product_price\n",
        "FROM app_analytics.order as T1\n",
        "LEFT JOIN app_analytics.order_items as T2\n",
        "ON T1.order_id = T2.order_id\n",
        "'''\n",
        "\n",
        "re.findall(r'(\\w+)\\.(\\w+)', sql)"
      ],
      "id": "c3a9ba31",
      "execution_count": null,
      "outputs": [
        {
          "data": {
            "text/plain": [
              "[('T1', 'order_id'),\n",
              " ('T2', 'product_name'),\n",
              " ('T2', 'product_price'),\n",
              " ('app_analytics', 'order'),\n",
              " ('app_analytics', 'order_items'),\n",
              " ('T1', 'order_id'),\n",
              " ('T2', 'order_id')]"
            ]
          },
          "execution_count": 81,
          "metadata": {},
          "output_type": "execute_result"
        }
      ]
    },
    {
      "cell_type": "markdown",
      "metadata": {
        "id": "a5587660"
      },
      "source": [
        "Desejamos que apenas os nomes das tabelas e seus respectivos schemas sejam retornados (na consulta acima os nomes das colunas também foram retornados), logo devemos dar um o match em um ponto `.` que não seja precedido por um número. Dessa forma, devemos espiar atrás (lookbehind) e selecionar apenas os pontos `.` que não sejam precedidos por um número (negative lookbehind)."
      ],
      "id": "a5587660"
    },
    {
      "cell_type": "code",
      "metadata": {
        "id": "7f3bb997",
        "outputId": "86d96cd0-b131-4c3e-a435-e1ce4010fb73"
      },
      "source": [
        "re.findall(r'(?<!\\d)\\.(\\w+)', sql)"
      ],
      "id": "7f3bb997",
      "execution_count": null,
      "outputs": [
        {
          "data": {
            "text/plain": [
              "['order', 'order_items']"
            ]
          },
          "execution_count": 84,
          "metadata": {},
          "output_type": "execute_result"
        }
      ]
    },
    {
      "cell_type": "markdown",
      "metadata": {
        "id": "ba05247f"
      },
      "source": [
        "Agora sim temos apenas os nomes das tabelas."
      ],
      "id": "ba05247f"
    },
    {
      "cell_type": "markdown",
      "metadata": {
        "id": "57bafc46"
      },
      "source": [
        "### Positive Lookahead\n",
        "\n",
        "extrair apenas os nomes das cores"
      ],
      "id": "57bafc46"
    },
    {
      "cell_type": "code",
      "metadata": {
        "id": "07403c32"
      },
      "source": [
        "texto = '''\n",
        "fortaleza_azul.jpg\n",
        "atletico_mineiro_preto.jpg\n",
        "sao_paulo_vermelho.jpg\n",
        "palmeiras_esporte_clube_verde.jpg\n",
        "'''"
      ],
      "id": "07403c32",
      "execution_count": null,
      "outputs": []
    },
    {
      "cell_type": "code",
      "metadata": {
        "id": "4e950234",
        "outputId": "d0430873-7cbb-45a5-c35a-926f16d6653a"
      },
      "source": [
        "re.findall(r'_(?=([a-z]+)\\.jpg)', texto)"
      ],
      "id": "4e950234",
      "execution_count": null,
      "outputs": [
        {
          "data": {
            "text/plain": [
              "['azul', 'preto', 'vermelho', 'verde']"
            ]
          },
          "execution_count": 105,
          "metadata": {},
          "output_type": "execute_result"
        }
      ]
    },
    {
      "cell_type": "markdown",
      "metadata": {
        "id": "aaeea3f9"
      },
      "source": [
        "Explicação: iremos dar match apenas em underscores `_` que à sua frente possuam apenas letras."
      ],
      "id": "aaeea3f9"
    },
    {
      "cell_type": "markdown",
      "metadata": {
        "id": "8507f2c8"
      },
      "source": [
        "### Nem tudo é Lookahead ou Lookbehind\n",
        "\n",
        "Se quisermos extrair apenas os nomes dos clubes? Parece ser um problema em que temos que utilizar lookahead ou lookbehind, mas não. Uma regex mais simples já resolve (UFA!)."
      ],
      "id": "8507f2c8"
    },
    {
      "cell_type": "code",
      "metadata": {
        "id": "693339e3",
        "outputId": "194fc5b7-74fb-4603-f621-3a5f13159a4e"
      },
      "source": [
        "# extrair apenas os nomes dos clubes\n",
        "\n",
        "texto = '''\n",
        "fortaleza_azul.jpg\n",
        "atletico_mineiro_preto.jpg\n",
        "sao_paulo_vermelho.jpg\n",
        "palmeiras_esporte_clube_verde.jpg\n",
        "'''\n",
        "\n",
        "re.findall(r'(\\w+)_', texto)"
      ],
      "id": "693339e3",
      "execution_count": null,
      "outputs": [
        {
          "data": {
            "text/plain": [
              "['fortaleza', 'atletico_mineiro', 'sao_paulo', 'palmeiras_esporte_clube']"
            ]
          },
          "execution_count": 113,
          "metadata": {},
          "output_type": "execute_result"
        }
      ]
    },
    {
      "cell_type": "code",
      "metadata": {
        "id": "5a7d7c4b"
      },
      "source": [
        ""
      ],
      "id": "5a7d7c4b",
      "execution_count": null,
      "outputs": []
    },
    {
      "cell_type": "markdown",
      "metadata": {
        "id": "4ee42995"
      },
      "source": [
        "# Referências\n",
        "\n",
        "1. Livro [Expressões Regulares: Uma Abordagem Divertida](https://www.amazon.com.br/Express%C3%B5es-Regulares-Uma-Abordagem-Divertida/dp/8575224743/ref=sr_1_1?__mk_pt_BR=%C3%85M%C3%85%C5%BD%C3%95%C3%91&keywords=express%C3%B5es+regulares&qid=1636317835&sr=8-1)\n",
        "2. Site https://aurelio.net/regex/python/"
      ],
      "id": "4ee42995"
    },
    {
      "cell_type": "code",
      "metadata": {
        "id": "cfc30c55"
      },
      "source": [
        ""
      ],
      "id": "cfc30c55",
      "execution_count": null,
      "outputs": []
    }
  ]
}