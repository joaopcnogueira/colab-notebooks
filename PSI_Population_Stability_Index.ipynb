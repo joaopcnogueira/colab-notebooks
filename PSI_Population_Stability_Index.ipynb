{
  "nbformat": 4,
  "nbformat_minor": 0,
  "metadata": {
    "colab": {
      "name": "PSI Population Stability Index.ipynb",
      "provenance": [],
      "collapsed_sections": [],
      "mount_file_id": "1fS6Turxeym_TwdXacLWXvNgIi9oJOzG5",
      "authorship_tag": "ABX9TyMJrpacbJygxyEQOuNt6pQb",
      "include_colab_link": true
    },
    "kernelspec": {
      "name": "python3",
      "display_name": "Python 3"
    },
    "language_info": {
      "name": "python"
    }
  },
  "cells": [
    {
      "cell_type": "markdown",
      "metadata": {
        "id": "view-in-github",
        "colab_type": "text"
      },
      "source": [
        "<a href=\"https://colab.research.google.com/github/joaopcnogueira/colab-notebooks/blob/main/PSI_Population_Stability_Index.ipynb\" target=\"_parent\"><img src=\"https://colab.research.google.com/assets/colab-badge.svg\" alt=\"Open In Colab\"/></a>"
      ]
    },
    {
      "cell_type": "code",
      "metadata": {
        "id": "oGBttQgpWAQE"
      },
      "source": [
        "import numpy as np\n",
        "import pandas as pd\n",
        "from sklearn.impute import SimpleImputer\n",
        "from sklearn.preprocessing import OneHotEncoder\n",
        "from sklearn.pipeline import Pipeline\n",
        "from sklearn.compose import ColumnTransformer\n",
        "from sklearn.model_selection import train_test_split\n",
        "from sklearn.ensemble import RandomForestClassifier"
      ],
      "execution_count": 1,
      "outputs": []
    },
    {
      "cell_type": "markdown",
      "metadata": {
        "id": "-TFV93vRwQKF"
      },
      "source": [
        "# Carregando os dados"
      ]
    },
    {
      "cell_type": "code",
      "metadata": {
        "colab": {
          "base_uri": "https://localhost:8080/",
          "height": 206
        },
        "id": "RbLXr-kErzLs",
        "outputId": "571025af-b92c-44fa-baaf-c795630232b8"
      },
      "source": [
        "df = pd.read_csv('/content/drive/MyDrive/Colab Notebooks/data/titanic.csv')\n",
        "df.head()"
      ],
      "execution_count": 2,
      "outputs": [
        {
          "output_type": "execute_result",
          "data": {
            "text/html": [
              "<div>\n",
              "<style scoped>\n",
              "    .dataframe tbody tr th:only-of-type {\n",
              "        vertical-align: middle;\n",
              "    }\n",
              "\n",
              "    .dataframe tbody tr th {\n",
              "        vertical-align: top;\n",
              "    }\n",
              "\n",
              "    .dataframe thead th {\n",
              "        text-align: right;\n",
              "    }\n",
              "</style>\n",
              "<table border=\"1\" class=\"dataframe\">\n",
              "  <thead>\n",
              "    <tr style=\"text-align: right;\">\n",
              "      <th></th>\n",
              "      <th>PassengerId</th>\n",
              "      <th>Survived</th>\n",
              "      <th>Pclass</th>\n",
              "      <th>Name</th>\n",
              "      <th>Sex</th>\n",
              "      <th>Age</th>\n",
              "      <th>SibSp</th>\n",
              "      <th>Parch</th>\n",
              "      <th>Ticket</th>\n",
              "      <th>Fare</th>\n",
              "      <th>Cabin</th>\n",
              "      <th>Embarked</th>\n",
              "    </tr>\n",
              "  </thead>\n",
              "  <tbody>\n",
              "    <tr>\n",
              "      <th>0</th>\n",
              "      <td>1</td>\n",
              "      <td>0</td>\n",
              "      <td>3</td>\n",
              "      <td>Braund, Mr. Owen Harris</td>\n",
              "      <td>male</td>\n",
              "      <td>22.0</td>\n",
              "      <td>1</td>\n",
              "      <td>0</td>\n",
              "      <td>A/5 21171</td>\n",
              "      <td>7.2500</td>\n",
              "      <td>NaN</td>\n",
              "      <td>S</td>\n",
              "    </tr>\n",
              "    <tr>\n",
              "      <th>1</th>\n",
              "      <td>2</td>\n",
              "      <td>1</td>\n",
              "      <td>1</td>\n",
              "      <td>Cumings, Mrs. John Bradley (Florence Briggs Th...</td>\n",
              "      <td>female</td>\n",
              "      <td>38.0</td>\n",
              "      <td>1</td>\n",
              "      <td>0</td>\n",
              "      <td>PC 17599</td>\n",
              "      <td>71.2833</td>\n",
              "      <td>C85</td>\n",
              "      <td>C</td>\n",
              "    </tr>\n",
              "    <tr>\n",
              "      <th>2</th>\n",
              "      <td>3</td>\n",
              "      <td>1</td>\n",
              "      <td>3</td>\n",
              "      <td>Heikkinen, Miss. Laina</td>\n",
              "      <td>female</td>\n",
              "      <td>26.0</td>\n",
              "      <td>0</td>\n",
              "      <td>0</td>\n",
              "      <td>STON/O2. 3101282</td>\n",
              "      <td>7.9250</td>\n",
              "      <td>NaN</td>\n",
              "      <td>S</td>\n",
              "    </tr>\n",
              "    <tr>\n",
              "      <th>3</th>\n",
              "      <td>4</td>\n",
              "      <td>1</td>\n",
              "      <td>1</td>\n",
              "      <td>Futrelle, Mrs. Jacques Heath (Lily May Peel)</td>\n",
              "      <td>female</td>\n",
              "      <td>35.0</td>\n",
              "      <td>1</td>\n",
              "      <td>0</td>\n",
              "      <td>113803</td>\n",
              "      <td>53.1000</td>\n",
              "      <td>C123</td>\n",
              "      <td>S</td>\n",
              "    </tr>\n",
              "    <tr>\n",
              "      <th>4</th>\n",
              "      <td>5</td>\n",
              "      <td>0</td>\n",
              "      <td>3</td>\n",
              "      <td>Allen, Mr. William Henry</td>\n",
              "      <td>male</td>\n",
              "      <td>35.0</td>\n",
              "      <td>0</td>\n",
              "      <td>0</td>\n",
              "      <td>373450</td>\n",
              "      <td>8.0500</td>\n",
              "      <td>NaN</td>\n",
              "      <td>S</td>\n",
              "    </tr>\n",
              "  </tbody>\n",
              "</table>\n",
              "</div>"
            ],
            "text/plain": [
              "   PassengerId  Survived  Pclass  ...     Fare Cabin  Embarked\n",
              "0            1         0       3  ...   7.2500   NaN         S\n",
              "1            2         1       1  ...  71.2833   C85         C\n",
              "2            3         1       3  ...   7.9250   NaN         S\n",
              "3            4         1       1  ...  53.1000  C123         S\n",
              "4            5         0       3  ...   8.0500   NaN         S\n",
              "\n",
              "[5 rows x 12 columns]"
            ]
          },
          "metadata": {},
          "execution_count": 2
        }
      ]
    },
    {
      "cell_type": "markdown",
      "metadata": {
        "id": "MXwdAdeowSGJ"
      },
      "source": [
        "# Listando as variáveis de modelagem"
      ]
    },
    {
      "cell_type": "code",
      "metadata": {
        "id": "Ds5Fym7gZGlG"
      },
      "source": [
        "cat_vars = ['Pclass', 'Sex', 'Embarked']\n",
        "num_vars = ['Age', 'SibSp', 'Fare']\n",
        "features = cat_vars + num_vars\n",
        "target = 'Survived'\n",
        "\n",
        "X = df[features].copy()\n",
        "y = df[target].copy()"
      ],
      "execution_count": 3,
      "outputs": []
    },
    {
      "cell_type": "markdown",
      "metadata": {
        "id": "oAH2F4jgwcM2"
      },
      "source": [
        "# Feature Engineering"
      ]
    },
    {
      "cell_type": "code",
      "metadata": {
        "id": "mrhbkrH8nQzO"
      },
      "source": [
        "num_pipe = Pipeline(steps=[\n",
        "        ('imputer', SimpleImputer(strategy='constant', fill_value=-999))\n",
        "])\n",
        "\n",
        "cat_pipe = Pipeline(steps=[\n",
        "        ('imputer', SimpleImputer(strategy='constant', fill_value='missing')),\n",
        "        ('ohe', OneHotEncoder(sparse=False, handle_unknown='ignore'))\n",
        "]) \n",
        "\n",
        "transformers = ColumnTransformer(transformers=[\n",
        "                ('numeric', num_pipe, num_vars),\n",
        "                ('categoric', cat_pipe, cat_vars)\n",
        "])\n",
        "\n",
        "model = Pipeline(steps=[\n",
        "        ('transformers', transformers),\n",
        "        ('model', RandomForestClassifier(random_state=42, max_depth=3))\n",
        "])"
      ],
      "execution_count": 4,
      "outputs": []
    },
    {
      "cell_type": "markdown",
      "metadata": {
        "id": "2_pxPUTFwd9J"
      },
      "source": [
        "# Train Test Split"
      ]
    },
    {
      "cell_type": "code",
      "metadata": {
        "id": "pn_MGqSMsf9v"
      },
      "source": [
        "X_train, X_test, y_train, y_test = train_test_split(X, y, test_size=0.2, random_state=42)"
      ],
      "execution_count": 5,
      "outputs": []
    },
    {
      "cell_type": "markdown",
      "metadata": {
        "id": "P8jWY3jVwgum"
      },
      "source": [
        "# Model Training"
      ]
    },
    {
      "cell_type": "code",
      "metadata": {
        "id": "uvYZBQggsyPy"
      },
      "source": [
        "model.fit(X_train, y_train)\n",
        "\n",
        "y_proba_train = model.predict_proba(X_train)[:,1]\n",
        "y_proba_test  = model.predict_proba(X_test)[:,1]"
      ],
      "execution_count": 6,
      "outputs": []
    },
    {
      "cell_type": "markdown",
      "metadata": {
        "id": "8hBvPEFjwn7I"
      },
      "source": [
        "# Model Evaluation"
      ]
    },
    {
      "cell_type": "code",
      "metadata": {
        "colab": {
          "base_uri": "https://localhost:8080/"
        },
        "id": "7DrUh0X5vjpM",
        "outputId": "7d182c66-f713-4473-e1be-10f420084127"
      },
      "source": [
        "from sklearn.metrics import roc_auc_score\n",
        "\n",
        "auc_train = roc_auc_score(y_train, y_proba_train)\n",
        "auc_test  = roc_auc_score(y_test, y_proba_test)\n",
        "\n",
        "print(f'ROCAUC Train: {auc_train:.6f}')\n",
        "print(f'ROCAUC Test: {auc_test:.6f}')"
      ],
      "execution_count": 7,
      "outputs": [
        {
          "output_type": "stream",
          "name": "stdout",
          "text": [
            "ROCAUC Train: 0.857990\n",
            "ROCAUC Test: 0.872072\n"
          ]
        }
      ]
    },
    {
      "cell_type": "markdown",
      "metadata": {
        "id": "FF108NT8pTh_"
      },
      "source": [
        "# Population Stability Index\n",
        "\n",
        "Função para calcular o PSI para uma única variável"
      ]
    },
    {
      "cell_type": "code",
      "metadata": {
        "id": "226NtpZ9pS6o"
      },
      "source": [
        "def calculate_psi(expected, actual, buckets=10):\n",
        "    '''Calculate the PSI for a single numeric variable\n",
        "\n",
        "    Params:\n",
        "    ------\n",
        "        expected: pandas series or numpy array\n",
        "        actual: pandas series or numpy array of new values, same size as expected\n",
        "        buckets: number of percentile ranges to bucket the values into\n",
        "\n",
        "    Returns:\n",
        "    -------\n",
        "       psi_value: calculated PSI value\n",
        "    '''\n",
        "\n",
        "    df_expected = pd.DataFrame({'expected': expected})\n",
        "    df_actual   = pd.DataFrame({'actual': actual}) \n",
        "\n",
        "    df_expected['expected_bins'], bins = pd.qcut(df_expected['expected'], q=buckets, retbins=True, labels=False, duplicates='drop')\n",
        "    df_actual['actual_bins'] = pd.cut(df_actual['actual'], bins=bins, labels=False)\n",
        "\n",
        "    psi_df = (\n",
        "        df_expected['expected_bins'].value_counts(1).sort_index().reset_index().rename(columns={'index': 'bins', 'expected_bins': 'prop_expected'})\n",
        "        .merge(df_actual['actual_bins'].value_counts(1).sort_index().reset_index().rename(columns={'index': 'bins', 'actual_bins': 'prop_actual'}),\n",
        "               on='bins', how='left')\n",
        "        .assign(psi = lambda df: np.where((df['prop_actual'] == 0) | (df['prop_expected'] == 0), 0, \n",
        "                                          (df['prop_actual'] - df['prop_expected'])*np.log(df['prop_actual']/df['prop_expected'])))\n",
        "    )\n",
        "    \n",
        "    psi_value = psi_df['psi'].sum()\n",
        "    return psi_value\n",
        "\n",
        "    return df_actual"
      ],
      "execution_count": 8,
      "outputs": []
    },
    {
      "cell_type": "code",
      "metadata": {
        "colab": {
          "base_uri": "https://localhost:8080/"
        },
        "id": "yO7k001Tp0yr",
        "outputId": "084404b3-5149-4e2f-a985-d1cadb2fe13d"
      },
      "source": [
        "calculate_psi(y_proba_train, y_proba_test)"
      ],
      "execution_count": 10,
      "outputs": [
        {
          "output_type": "execute_result",
          "data": {
            "text/plain": [
              "0.06001324825109782"
            ]
          },
          "metadata": {},
          "execution_count": 10
        }
      ]
    },
    {
      "cell_type": "markdown",
      "metadata": {
        "id": "4uZJSm5sXRND"
      },
      "source": [
        "- PSI < 0.1 - No change. You can continue using existing model.\n",
        "- PSI >= 0.1 but less than 0.2 - Slight change is required.\n",
        "- PSI >= 0.2 - Significant change is required. Ideally, you should not use this model any more.\n",
        "\n",
        "Reference: https://www.listendata.com/2015/05/population-stability-index.html"
      ]
    },
    {
      "cell_type": "code",
      "metadata": {
        "colab": {
          "base_uri": "https://localhost:8080/"
        },
        "id": "reaA3xi4ptzo",
        "outputId": "5d9e1340-afdd-4da1-d78f-b1d3816d602d"
      },
      "source": [
        "# funcion docstring\n",
        "help(calculate_psi)"
      ],
      "execution_count": 11,
      "outputs": [
        {
          "output_type": "stream",
          "name": "stdout",
          "text": [
            "Help on function calculate_psi in module __main__:\n",
            "\n",
            "calculate_psi(expected, actual, buckets=10)\n",
            "    Calculate the PSI for a single numeric variable\n",
            "    \n",
            "    Params:\n",
            "    ------\n",
            "        expected: pandas series or numpy array\n",
            "        actual: pandas series or numpy array of new values, same size as expected\n",
            "        buckets: number of percentile ranges to bucket the values into\n",
            "    \n",
            "    Returns:\n",
            "    -------\n",
            "       psi_value: calculated PSI value\n",
            "\n"
          ]
        }
      ]
    },
    {
      "cell_type": "code",
      "metadata": {
        "id": "Ehdi6pE8W8Ca"
      },
      "source": [
        ""
      ],
      "execution_count": null,
      "outputs": []
    }
  ]
}