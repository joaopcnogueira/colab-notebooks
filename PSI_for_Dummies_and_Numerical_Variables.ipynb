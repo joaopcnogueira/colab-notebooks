{
  "nbformat": 4,
  "nbformat_minor": 0,
  "metadata": {
    "kernelspec": {
      "display_name": "Python 3",
      "language": "python",
      "name": "python3"
    },
    "language_info": {
      "codemirror_mode": {
        "name": "ipython",
        "version": 3
      },
      "file_extension": ".py",
      "mimetype": "text/x-python",
      "name": "python",
      "nbconvert_exporter": "python",
      "pygments_lexer": "ipython3",
      "version": "3.7.6"
    },
    "toc": {
      "base_numbering": 1,
      "nav_menu": {},
      "number_sections": true,
      "sideBar": true,
      "skip_h1_title": false,
      "title_cell": "Table of Contents",
      "title_sidebar": "Contents",
      "toc_cell": false,
      "toc_position": {},
      "toc_section_display": true,
      "toc_window_display": false
    },
    "colab": {
      "name": "PSI for Dummies and Numerical Variables.ipynb",
      "provenance": [],
      "collapsed_sections": [],
      "toc_visible": true,
      "include_colab_link": true
    }
  },
  "cells": [
    {
      "cell_type": "markdown",
      "metadata": {
        "id": "view-in-github",
        "colab_type": "text"
      },
      "source": [
        "<a href=\"https://colab.research.google.com/github/joaopcnogueira/colab-notebooks/blob/main/PSI_for_Dummies_and_Numerical_Variables.ipynb\" target=\"_parent\"><img src=\"https://colab.research.google.com/assets/colab-badge.svg\" alt=\"Open In Colab\"/></a>"
      ]
    },
    {
      "cell_type": "markdown",
      "metadata": {
        "id": "77u2eboivKzT"
      },
      "source": [
        "# Notebook Apenas para LEITURA!\n",
        "\n",
        "# Jamais Executar este Notebook!"
      ]
    },
    {
      "cell_type": "code",
      "metadata": {
        "ExecuteTime": {
          "end_time": "2021-02-19T18:22:16.887936Z",
          "start_time": "2021-02-19T18:22:16.166918Z"
        },
        "id": "BzoPHC2AvBBq"
      },
      "source": [
        "import numpy as np\n",
        "import pandas as pd\n",
        "from sklearn.pipeline import Pipeline\n",
        "from sklearn.compose import ColumnTransformer\n",
        "from sklearn.impute import SimpleImputer\n",
        "from sklearn.preprocessing import OneHotEncoder\n",
        "import category_encoders as ce"
      ],
      "execution_count": null,
      "outputs": []
    },
    {
      "cell_type": "markdown",
      "metadata": {
        "id": "F0cNk_GZvBBx"
      },
      "source": [
        "# Loading Data"
      ]
    },
    {
      "cell_type": "code",
      "metadata": {
        "ExecuteTime": {
          "end_time": "2021-02-19T18:22:45.538092Z",
          "start_time": "2021-02-19T18:22:19.038737Z"
        },
        "id": "9aglfB8IvBBy",
        "outputId": "3df78b44-40f9-46c7-e95b-f2044cd68ec4"
      },
      "source": [
        "df = pd.read_csv('../data/TabelaModelagemQuebra17fev2021.csv.gz', sep=';')"
      ],
      "execution_count": null,
      "outputs": [
        {
          "output_type": "stream",
          "text": [
            "/opt/conda/lib/python3.7/site-packages/IPython/core/interactiveshell.py:3063: DtypeWarning: Columns (65,68) have mixed types.Specify dtype option on import or set low_memory=False.\n",
            "  interactivity=interactivity, compiler=compiler, result=result)\n"
          ],
          "name": "stderr"
        }
      ]
    },
    {
      "cell_type": "code",
      "metadata": {
        "ExecuteTime": {
          "end_time": "2021-02-19T18:22:45.575100Z",
          "start_time": "2021-02-19T18:22:45.540164Z"
        },
        "id": "hO2wGmFvvBBz",
        "outputId": "505c4ef4-1554-420e-e13a-6f12dc9ce305"
      },
      "source": [
        "df.head()"
      ],
      "execution_count": null,
      "outputs": [
        {
          "output_type": "execute_result",
          "data": {
            "text/html": [
              "<div>\n",
              "<style scoped>\n",
              "    .dataframe tbody tr th:only-of-type {\n",
              "        vertical-align: middle;\n",
              "    }\n",
              "\n",
              "    .dataframe tbody tr th {\n",
              "        vertical-align: top;\n",
              "    }\n",
              "\n",
              "    .dataframe thead th {\n",
              "        text-align: right;\n",
              "    }\n",
              "</style>\n",
              "<table border=\"1\" class=\"dataframe\">\n",
              "  <thead>\n",
              "    <tr style=\"text-align: right;\">\n",
              "      <th></th>\n",
              "      <th>OrigemDadoId</th>\n",
              "      <th>CertificadoName</th>\n",
              "      <th>riscoid</th>\n",
              "      <th>ProdutoAtuarialId</th>\n",
              "      <th>filial_ml</th>\n",
              "      <th>CoberturaId</th>\n",
              "      <th>RamoId</th>\n",
              "      <th>ProdutoComercialId</th>\n",
              "      <th>ProdutoGarantiaId</th>\n",
              "      <th>Parceiroid</th>\n",
              "      <th>...</th>\n",
              "      <th>clientedatanascimento</th>\n",
              "      <th>clientesexo</th>\n",
              "      <th>clienteidade</th>\n",
              "      <th>clientegeografiaUF</th>\n",
              "      <th>clientegeografiacidade</th>\n",
              "      <th>clientegeografiacep</th>\n",
              "      <th>ClienteGeografiaBairro</th>\n",
              "      <th>clientegeografiaregiao</th>\n",
              "      <th>cep3</th>\n",
              "      <th>target</th>\n",
              "    </tr>\n",
              "  </thead>\n",
              "  <tbody>\n",
              "    <tr>\n",
              "      <th>0</th>\n",
              "      <td>2</td>\n",
              "      <td>1529458504</td>\n",
              "      <td>150</td>\n",
              "      <td>2590</td>\n",
              "      <td>30.0</td>\n",
              "      <td>1182</td>\n",
              "      <td>8</td>\n",
              "      <td>758</td>\n",
              "      <td>563233.0</td>\n",
              "      <td>286</td>\n",
              "      <td>...</td>\n",
              "      <td>1988-01-02</td>\n",
              "      <td>F</td>\n",
              "      <td>31.0</td>\n",
              "      <td>SP</td>\n",
              "      <td>JAU</td>\n",
              "      <td>17213366</td>\n",
              "      <td>Jardim Padre Augusto Sani</td>\n",
              "      <td>Sudeste</td>\n",
              "      <td>172</td>\n",
              "      <td>0</td>\n",
              "    </tr>\n",
              "    <tr>\n",
              "      <th>1</th>\n",
              "      <td>2</td>\n",
              "      <td>1529458988</td>\n",
              "      <td>150</td>\n",
              "      <td>2590</td>\n",
              "      <td>561.0</td>\n",
              "      <td>1182</td>\n",
              "      <td>8</td>\n",
              "      <td>758</td>\n",
              "      <td>559815.0</td>\n",
              "      <td>286</td>\n",
              "      <td>...</td>\n",
              "      <td>1977-06-24</td>\n",
              "      <td>M</td>\n",
              "      <td>42.0</td>\n",
              "      <td>SP</td>\n",
              "      <td>GUARULHOS</td>\n",
              "      <td>7132166</td>\n",
              "      <td>Jardim Vera</td>\n",
              "      <td>Sudeste</td>\n",
              "      <td>71</td>\n",
              "      <td>0</td>\n",
              "    </tr>\n",
              "    <tr>\n",
              "      <th>2</th>\n",
              "      <td>2</td>\n",
              "      <td>1529459224</td>\n",
              "      <td>150</td>\n",
              "      <td>2590</td>\n",
              "      <td>420.0</td>\n",
              "      <td>1182</td>\n",
              "      <td>8</td>\n",
              "      <td>758</td>\n",
              "      <td>589218.0</td>\n",
              "      <td>286</td>\n",
              "      <td>...</td>\n",
              "      <td>1900-01-01</td>\n",
              "      <td>N</td>\n",
              "      <td>0.0</td>\n",
              "      <td>RS</td>\n",
              "      <td>CANOAS</td>\n",
              "      <td>92412230</td>\n",
              "      <td>Igara</td>\n",
              "      <td>Sul</td>\n",
              "      <td>924</td>\n",
              "      <td>0</td>\n",
              "    </tr>\n",
              "    <tr>\n",
              "      <th>3</th>\n",
              "      <td>2</td>\n",
              "      <td>714509601</td>\n",
              "      <td>150</td>\n",
              "      <td>2590</td>\n",
              "      <td>820.0</td>\n",
              "      <td>1182</td>\n",
              "      <td>8</td>\n",
              "      <td>758</td>\n",
              "      <td>393463.0</td>\n",
              "      <td>286</td>\n",
              "      <td>...</td>\n",
              "      <td>1900-01-01</td>\n",
              "      <td>N</td>\n",
              "      <td>0.0</td>\n",
              "      <td>CE</td>\n",
              "      <td>CRATO</td>\n",
              "      <td>63102070</td>\n",
              "      <td>Vila Lobo</td>\n",
              "      <td>Nordeste</td>\n",
              "      <td>631</td>\n",
              "      <td>0</td>\n",
              "    </tr>\n",
              "    <tr>\n",
              "      <th>4</th>\n",
              "      <td>2</td>\n",
              "      <td>714512745</td>\n",
              "      <td>150</td>\n",
              "      <td>2590</td>\n",
              "      <td>542.0</td>\n",
              "      <td>1182</td>\n",
              "      <td>8</td>\n",
              "      <td>758</td>\n",
              "      <td>393840.0</td>\n",
              "      <td>286</td>\n",
              "      <td>...</td>\n",
              "      <td>1981-12-23</td>\n",
              "      <td>M</td>\n",
              "      <td>35.0</td>\n",
              "      <td>SP</td>\n",
              "      <td>SAO PAULO</td>\n",
              "      <td>3941020</td>\n",
              "      <td>Jardim Paraguaçu</td>\n",
              "      <td>Sudeste</td>\n",
              "      <td>39</td>\n",
              "      <td>0</td>\n",
              "    </tr>\n",
              "  </tbody>\n",
              "</table>\n",
              "<p>5 rows × 70 columns</p>\n",
              "</div>"
            ],
            "text/plain": [
              "   OrigemDadoId  CertificadoName  riscoid  ProdutoAtuarialId  filial_ml  \\\n",
              "0             2       1529458504      150               2590       30.0   \n",
              "1             2       1529458988      150               2590      561.0   \n",
              "2             2       1529459224      150               2590      420.0   \n",
              "3             2        714509601      150               2590      820.0   \n",
              "4             2        714512745      150               2590      542.0   \n",
              "\n",
              "   CoberturaId  RamoId  ProdutoComercialId  ProdutoGarantiaId  Parceiroid  \\\n",
              "0         1182       8                 758           563233.0         286   \n",
              "1         1182       8                 758           559815.0         286   \n",
              "2         1182       8                 758           589218.0         286   \n",
              "3         1182       8                 758           393463.0         286   \n",
              "4         1182       8                 758           393840.0         286   \n",
              "\n",
              "   ...  clientedatanascimento  clientesexo clienteidade clientegeografiaUF  \\\n",
              "0  ...             1988-01-02            F         31.0                 SP   \n",
              "1  ...             1977-06-24            M         42.0                 SP   \n",
              "2  ...             1900-01-01            N          0.0                 RS   \n",
              "3  ...             1900-01-01            N          0.0                 CE   \n",
              "4  ...             1981-12-23            M         35.0                 SP   \n",
              "\n",
              "   clientegeografiacidade  clientegeografiacep     ClienteGeografiaBairro  \\\n",
              "0                     JAU             17213366  Jardim Padre Augusto Sani   \n",
              "1               GUARULHOS              7132166                Jardim Vera   \n",
              "2                  CANOAS             92412230                      Igara   \n",
              "3                   CRATO             63102070                  Vila Lobo   \n",
              "4               SAO PAULO              3941020           Jardim Paraguaçu   \n",
              "\n",
              "  clientegeografiaregiao cep3 target  \n",
              "0                Sudeste  172      0  \n",
              "1                Sudeste   71      0  \n",
              "2                    Sul  924      0  \n",
              "3               Nordeste  631      0  \n",
              "4                Sudeste   39      0  \n",
              "\n",
              "[5 rows x 70 columns]"
            ]
          },
          "metadata": {
            "tags": []
          },
          "execution_count": 3
        }
      ]
    },
    {
      "cell_type": "code",
      "metadata": {
        "ExecuteTime": {
          "end_time": "2021-02-19T18:22:48.505693Z",
          "start_time": "2021-02-19T18:22:48.470797Z"
        },
        "id": "jwj_PCJcvBB0",
        "outputId": "c42a0014-3cb9-4842-f515-cca6ebe08b42"
      },
      "source": [
        "df['target'].value_counts(1)"
      ],
      "execution_count": null,
      "outputs": [
        {
          "output_type": "execute_result",
          "data": {
            "text/plain": [
              "0    0.941\n",
              "1    0.059\n",
              "Name: target, dtype: float64"
            ]
          },
          "metadata": {
            "tags": []
          },
          "execution_count": 4
        }
      ]
    },
    {
      "cell_type": "markdown",
      "metadata": {
        "id": "dSioVIayvBB0"
      },
      "source": [
        "# Listando as Variáveis de Modelagem\n",
        "\n",
        "Fazendo aqui porque dentro do pipeline não funciona."
      ]
    },
    {
      "cell_type": "code",
      "metadata": {
        "ExecuteTime": {
          "end_time": "2021-02-19T18:23:59.923408Z",
          "start_time": "2021-02-19T18:23:59.919638Z"
        },
        "id": "xmWMTpqCvBB1"
      },
      "source": [
        "num_features = ['ISeg', 'clienteidade']\n",
        "cat_features_high_card = ['cep3', 'clientegeografiacidade']\n",
        "cat_features_low_card  = ['marca2', 'linha', 'Parceirodescricaoreduzida', \n",
        "                          'clientegeografiaregiao', 'clientegeografiaUF', 'clientesexo']\n",
        "cat_features = cat_features_high_card + cat_features_low_card\n",
        "\n",
        "features = num_features + cat_features\n",
        "target = 'target'"
      ],
      "execution_count": null,
      "outputs": []
    },
    {
      "cell_type": "markdown",
      "metadata": {
        "ExecuteTime": {
          "end_time": "2021-02-12T18:07:40.667718Z",
          "start_time": "2021-02-12T18:07:40.665510Z"
        },
        "id": "gjwzshHYvBB1"
      },
      "source": [
        "# Separando em Treino/Teste/OOT"
      ]
    },
    {
      "cell_type": "code",
      "metadata": {
        "ExecuteTime": {
          "end_time": "2021-02-19T18:24:05.244898Z",
          "start_time": "2021-02-19T18:24:01.923941Z"
        },
        "id": "profBGgZvBB1"
      },
      "source": [
        "X_train = df.query('datainiciovigencia < \"2020-01-01\"')[features].copy()\n",
        "y_train = df.query('datainiciovigencia < \"2020-01-01\"')[target].copy()\n",
        "\n",
        "X_test = df.query('datainiciovigencia >= \"2020-01-01\" and datainiciovigencia < \"2020-03-01\"')[features].copy()\n",
        "y_test = df.query('datainiciovigencia >= \"2020-01-01\" and datainiciovigencia < \"2020-03-01\"')[target].copy()\n",
        "\n",
        "X_oot = df.query('datainiciovigencia >= \"2020-03-01\" and datainiciovigencia < \"2020-05-01\"')[features].copy()\n",
        "y_oot = df.query('datainiciovigencia >= \"2020-03-01\" and datainiciovigencia < \"2020-05-01\"')[target].copy()"
      ],
      "execution_count": null,
      "outputs": []
    },
    {
      "cell_type": "markdown",
      "metadata": {
        "id": "lzNTJ2NkvBB2"
      },
      "source": [
        "# Feature Engineering"
      ]
    },
    {
      "cell_type": "code",
      "metadata": {
        "ExecuteTime": {
          "end_time": "2021-02-19T18:25:02.083744Z",
          "start_time": "2021-02-19T18:25:02.077941Z"
        },
        "id": "agjXqTuKvBB2"
      },
      "source": [
        "# pipeline de transformação da abt\n",
        "num_pipe = Pipeline(steps=[\n",
        "    ('numeric_imputer', SimpleImputer(strategy='mean'))\n",
        "])\n",
        "\n",
        "cat_pipe_high_card = Pipeline(steps=[\n",
        "    ('categoric_imputer', SimpleImputer(strategy='constant', fill_value='missing')),\n",
        "    ('count_encoder', ce.CountEncoder(normalize=True, min_group_size=len(cat_features_high_card)))\n",
        "])\n",
        "\n",
        "cat_pipe_low_card = Pipeline(steps=[\n",
        "    ('categoric_imputer', SimpleImputer(strategy='constant', fill_value='missing')),\n",
        "    ('one_hot_encoder', OneHotEncoder(sparse=False, handle_unknown='ignore'))\n",
        "])\n",
        "\n",
        "transformer = ColumnTransformer([(\"numeric\", num_pipe, num_features),\n",
        "                                 (\"categoric_high\", cat_pipe_high_card, cat_features_high_card),\n",
        "                                 (\"categoric_low\", cat_pipe_low_card, cat_features_low_card)])"
      ],
      "execution_count": null,
      "outputs": []
    },
    {
      "cell_type": "code",
      "metadata": {
        "ExecuteTime": {
          "end_time": "2021-02-19T18:25:04.586826Z",
          "start_time": "2021-02-19T18:25:04.524220Z"
        },
        "id": "O7biHU2rvBB3",
        "outputId": "8e6d0e22-d42d-42ca-94b8-6d67ad19a071"
      },
      "source": [
        "from sklearn import set_config\n",
        "\n",
        "set_config(display='diagram')\n",
        "transformer"
      ],
      "execution_count": null,
      "outputs": [
        {
          "output_type": "execute_result",
          "data": {
            "text/html": [
              "<style>div.sk-top-container {color: black;background-color: white;}div.sk-toggleable {background-color: white;}label.sk-toggleable__label {cursor: pointer;display: block;width: 100%;margin-bottom: 0;padding: 0.2em 0.3em;box-sizing: border-box;text-align: center;}div.sk-toggleable__content {max-height: 0;max-width: 0;overflow: hidden;text-align: left;background-color: #f0f8ff;}div.sk-toggleable__content pre {margin: 0.2em;color: black;border-radius: 0.25em;background-color: #f0f8ff;}input.sk-toggleable__control:checked~div.sk-toggleable__content {max-height: 200px;max-width: 100%;overflow: auto;}div.sk-estimator input.sk-toggleable__control:checked~label.sk-toggleable__label {background-color: #d4ebff;}div.sk-label input.sk-toggleable__control:checked~label.sk-toggleable__label {background-color: #d4ebff;}input.sk-hidden--visually {border: 0;clip: rect(1px 1px 1px 1px);clip: rect(1px, 1px, 1px, 1px);height: 1px;margin: -1px;overflow: hidden;padding: 0;position: absolute;width: 1px;}div.sk-estimator {font-family: monospace;background-color: #f0f8ff;margin: 0.25em 0.25em;border: 1px dotted black;border-radius: 0.25em;box-sizing: border-box;}div.sk-estimator:hover {background-color: #d4ebff;}div.sk-parallel-item::after {content: \"\";width: 100%;border-bottom: 1px solid gray;flex-grow: 1;}div.sk-label:hover label.sk-toggleable__label {background-color: #d4ebff;}div.sk-serial::before {content: \"\";position: absolute;border-left: 1px solid gray;box-sizing: border-box;top: 2em;bottom: 0;left: 50%;}div.sk-serial {display: flex;flex-direction: column;align-items: center;background-color: white;}div.sk-item {z-index: 1;}div.sk-parallel {display: flex;align-items: stretch;justify-content: center;background-color: white;}div.sk-parallel-item {display: flex;flex-direction: column;position: relative;background-color: white;}div.sk-parallel-item:first-child::after {align-self: flex-end;width: 50%;}div.sk-parallel-item:last-child::after {align-self: flex-start;width: 50%;}div.sk-parallel-item:only-child::after {width: 0;}div.sk-dashed-wrapped {border: 1px dashed gray;margin: 0.2em;box-sizing: border-box;padding-bottom: 0.1em;background-color: white;position: relative;}div.sk-label label {font-family: monospace;font-weight: bold;background-color: white;display: inline-block;line-height: 1.2em;}div.sk-label-container {position: relative;z-index: 2;text-align: center;}div.sk-container {display: inline-block;position: relative;}</style><div class=\"sk-top-container\"><div class=\"sk-container\"><div class=\"sk-item sk-dashed-wrapped\"><div class=\"sk-label-container\"><div class=\"sk-label sk-toggleable\"><input class=\"sk-toggleable__control sk-hidden--visually\" id=\"54d2e6b2-6a13-4963-bcb1-cfa46e8c3d4a\" type=\"checkbox\" ><label class=\"sk-toggleable__label\" for=\"54d2e6b2-6a13-4963-bcb1-cfa46e8c3d4a\">ColumnTransformer</label><div class=\"sk-toggleable__content\"><pre>ColumnTransformer(transformers=[('numeric',\n",
              "                                 Pipeline(steps=[('numeric_imputer',\n",
              "                                                  SimpleImputer())]),\n",
              "                                 ['ISeg', 'clienteidade']),\n",
              "                                ('categoric_high',\n",
              "                                 Pipeline(steps=[('categoric_imputer',\n",
              "                                                  SimpleImputer(fill_value='missing',\n",
              "                                                                strategy='constant')),\n",
              "                                                 ('count_encoder',\n",
              "                                                  CountEncoder(combine_min_nan_groups=True,\n",
              "                                                               min_group_size=2,\n",
              "                                                               normalize=True))]),\n",
              "                                 ['cep3', 'clientegeografiacidade']),\n",
              "                                ('categoric_low',\n",
              "                                 Pipeline(steps=[('categoric_imputer',\n",
              "                                                  SimpleImputer(fill_value='missing',\n",
              "                                                                strategy='constant')),\n",
              "                                                 ('one_hot_encoder',\n",
              "                                                  OneHotEncoder(handle_unknown='ignore',\n",
              "                                                                sparse=False))]),\n",
              "                                 ['marca2', 'linha',\n",
              "                                  'Parceirodescricaoreduzida',\n",
              "                                  'clientegeografiaregiao',\n",
              "                                  'clientegeografiaUF', 'clientesexo'])])</pre></div></div></div><div class=\"sk-parallel\"><div class=\"sk-parallel-item\"><div class=\"sk-item\"><div class=\"sk-label-container\"><div class=\"sk-label sk-toggleable\"><input class=\"sk-toggleable__control sk-hidden--visually\" id=\"903ffee1-c3f9-4e08-b7e4-3ac55a973cfc\" type=\"checkbox\" ><label class=\"sk-toggleable__label\" for=\"903ffee1-c3f9-4e08-b7e4-3ac55a973cfc\">numeric</label><div class=\"sk-toggleable__content\"><pre>['ISeg', 'clienteidade']</pre></div></div></div><div class=\"sk-serial\"><div class=\"sk-item\"><div class=\"sk-serial\"><div class=\"sk-item\"><div class=\"sk-estimator sk-toggleable\"><input class=\"sk-toggleable__control sk-hidden--visually\" id=\"10a0afb5-848b-44c7-ba84-29827eb4de49\" type=\"checkbox\" ><label class=\"sk-toggleable__label\" for=\"10a0afb5-848b-44c7-ba84-29827eb4de49\">SimpleImputer</label><div class=\"sk-toggleable__content\"><pre>SimpleImputer()</pre></div></div></div></div></div></div></div></div><div class=\"sk-parallel-item\"><div class=\"sk-item\"><div class=\"sk-label-container\"><div class=\"sk-label sk-toggleable\"><input class=\"sk-toggleable__control sk-hidden--visually\" id=\"f3b28395-4b87-4eda-b635-fa7d82d43768\" type=\"checkbox\" ><label class=\"sk-toggleable__label\" for=\"f3b28395-4b87-4eda-b635-fa7d82d43768\">categoric_high</label><div class=\"sk-toggleable__content\"><pre>['cep3', 'clientegeografiacidade']</pre></div></div></div><div class=\"sk-serial\"><div class=\"sk-item\"><div class=\"sk-serial\"><div class=\"sk-item\"><div class=\"sk-estimator sk-toggleable\"><input class=\"sk-toggleable__control sk-hidden--visually\" id=\"67636fb2-efc9-4f6a-b51f-b1923709a683\" type=\"checkbox\" ><label class=\"sk-toggleable__label\" for=\"67636fb2-efc9-4f6a-b51f-b1923709a683\">SimpleImputer</label><div class=\"sk-toggleable__content\"><pre>SimpleImputer(fill_value='missing', strategy='constant')</pre></div></div></div><div class=\"sk-item\"><div class=\"sk-estimator sk-toggleable\"><input class=\"sk-toggleable__control sk-hidden--visually\" id=\"bfd00fdc-53ac-4806-92a8-64d1653375da\" type=\"checkbox\" ><label class=\"sk-toggleable__label\" for=\"bfd00fdc-53ac-4806-92a8-64d1653375da\">CountEncoder</label><div class=\"sk-toggleable__content\"><pre>CountEncoder(combine_min_nan_groups=True, min_group_size=2, normalize=True)</pre></div></div></div></div></div></div></div></div><div class=\"sk-parallel-item\"><div class=\"sk-item\"><div class=\"sk-label-container\"><div class=\"sk-label sk-toggleable\"><input class=\"sk-toggleable__control sk-hidden--visually\" id=\"cbcc89ee-cc3c-41f1-b9c1-5cd7d6d4aa8a\" type=\"checkbox\" ><label class=\"sk-toggleable__label\" for=\"cbcc89ee-cc3c-41f1-b9c1-5cd7d6d4aa8a\">categoric_low</label><div class=\"sk-toggleable__content\"><pre>['marca2', 'linha', 'Parceirodescricaoreduzida', 'clientegeografiaregiao', 'clientegeografiaUF', 'clientesexo']</pre></div></div></div><div class=\"sk-serial\"><div class=\"sk-item\"><div class=\"sk-serial\"><div class=\"sk-item\"><div class=\"sk-estimator sk-toggleable\"><input class=\"sk-toggleable__control sk-hidden--visually\" id=\"d5245b6b-ed79-459d-b93c-c7183f0ea577\" type=\"checkbox\" ><label class=\"sk-toggleable__label\" for=\"d5245b6b-ed79-459d-b93c-c7183f0ea577\">SimpleImputer</label><div class=\"sk-toggleable__content\"><pre>SimpleImputer(fill_value='missing', strategy='constant')</pre></div></div></div><div class=\"sk-item\"><div class=\"sk-estimator sk-toggleable\"><input class=\"sk-toggleable__control sk-hidden--visually\" id=\"3ab60457-ed7c-4bf9-b96e-60a8827c2619\" type=\"checkbox\" ><label class=\"sk-toggleable__label\" for=\"3ab60457-ed7c-4bf9-b96e-60a8827c2619\">OneHotEncoder</label><div class=\"sk-toggleable__content\"><pre>OneHotEncoder(handle_unknown='ignore', sparse=False)</pre></div></div></div></div></div></div></div></div></div></div></div></div>"
            ],
            "text/plain": [
              "ColumnTransformer(transformers=[('numeric',\n",
              "                                 Pipeline(steps=[('numeric_imputer',\n",
              "                                                  SimpleImputer())]),\n",
              "                                 ['ISeg', 'clienteidade']),\n",
              "                                ('categoric_high',\n",
              "                                 Pipeline(steps=[('categoric_imputer',\n",
              "                                                  SimpleImputer(fill_value='missing',\n",
              "                                                                strategy='constant')),\n",
              "                                                 ('count_encoder',\n",
              "                                                  CountEncoder(combine_min_nan_groups=True,\n",
              "                                                               min_group_size=2,\n",
              "                                                               normalize=True))]),\n",
              "                                 ['cep3', 'clientegeografiacidade']),\n",
              "                                ('categoric_low',\n",
              "                                 Pipeline(steps=[('categoric_imputer',\n",
              "                                                  SimpleImputer(fill_value='missing',\n",
              "                                                                strategy='constant')),\n",
              "                                                 ('one_hot_encoder',\n",
              "                                                  OneHotEncoder(handle_unknown='ignore',\n",
              "                                                                sparse=False))]),\n",
              "                                 ['marca2', 'linha',\n",
              "                                  'Parceirodescricaoreduzida',\n",
              "                                  'clientegeografiaregiao',\n",
              "                                  'clientegeografiaUF', 'clientesexo'])])"
            ]
          },
          "metadata": {
            "tags": []
          },
          "execution_count": 9
        }
      ]
    },
    {
      "cell_type": "code",
      "metadata": {
        "ExecuteTime": {
          "end_time": "2021-02-19T18:25:15.307861Z",
          "start_time": "2021-02-19T18:25:08.511148Z"
        },
        "id": "AWMXp2FEvBB4"
      },
      "source": [
        "X_train = transformer.fit_transform(X_train, y_train)\n",
        "X_test  = transformer.transform(X_test)\n",
        "X_oot   = transformer.transform(X_oot)\n",
        "\n",
        "name_transformed_features=num_features+cat_features_high_card+list(transformer.transformers_[-1][1].steps[-1][-1].get_feature_names(cat_features_low_card))"
      ],
      "execution_count": null,
      "outputs": []
    },
    {
      "cell_type": "code",
      "metadata": {
        "ExecuteTime": {
          "end_time": "2021-02-19T18:25:18.066680Z",
          "start_time": "2021-02-19T18:25:18.041832Z"
        },
        "id": "xdrGdtCVvBB5",
        "outputId": "6f73adbb-303b-41b2-8bf1-63183f9ca190"
      },
      "source": [
        "# pd.DataFrame(X_train[0:3], columns=name_transformed_features)\n",
        "# pd.DataFrame(X_test[0:3], columns=name_transformed_features)\n",
        "pd.DataFrame(X_oot[0:3], columns=name_transformed_features)"
      ],
      "execution_count": null,
      "outputs": [
        {
          "output_type": "execute_result",
          "data": {
            "text/html": [
              "<div>\n",
              "<style scoped>\n",
              "    .dataframe tbody tr th:only-of-type {\n",
              "        vertical-align: middle;\n",
              "    }\n",
              "\n",
              "    .dataframe tbody tr th {\n",
              "        vertical-align: top;\n",
              "    }\n",
              "\n",
              "    .dataframe thead th {\n",
              "        text-align: right;\n",
              "    }\n",
              "</style>\n",
              "<table border=\"1\" class=\"dataframe\">\n",
              "  <thead>\n",
              "    <tr style=\"text-align: right;\">\n",
              "      <th></th>\n",
              "      <th>ISeg</th>\n",
              "      <th>clienteidade</th>\n",
              "      <th>cep3</th>\n",
              "      <th>clientegeografiacidade</th>\n",
              "      <th>marca2_ALCATEL</th>\n",
              "      <th>marca2_APPLE</th>\n",
              "      <th>marca2_ASUS</th>\n",
              "      <th>marca2_DL</th>\n",
              "      <th>marca2_LENOVO</th>\n",
              "      <th>marca2_LG</th>\n",
              "      <th>...</th>\n",
              "      <th>clientegeografiaUF_df</th>\n",
              "      <th>clientegeografiaUF_mg</th>\n",
              "      <th>clientegeografiaUF_missing</th>\n",
              "      <th>clientegeografiaUF_rs</th>\n",
              "      <th>clientegeografiaUF_sp</th>\n",
              "      <th>clientesexo_F</th>\n",
              "      <th>clientesexo_M</th>\n",
              "      <th>clientesexo_N</th>\n",
              "      <th>clientesexo_X</th>\n",
              "      <th>clientesexo_missing</th>\n",
              "    </tr>\n",
              "  </thead>\n",
              "  <tbody>\n",
              "    <tr>\n",
              "      <th>0</th>\n",
              "      <td>999.06</td>\n",
              "      <td>28.0</td>\n",
              "      <td>0.001501</td>\n",
              "      <td>0.014723</td>\n",
              "      <td>0.0</td>\n",
              "      <td>0.0</td>\n",
              "      <td>0.0</td>\n",
              "      <td>0.0</td>\n",
              "      <td>0.0</td>\n",
              "      <td>0.0</td>\n",
              "      <td>...</td>\n",
              "      <td>0.0</td>\n",
              "      <td>0.0</td>\n",
              "      <td>0.0</td>\n",
              "      <td>0.0</td>\n",
              "      <td>0.0</td>\n",
              "      <td>0.0</td>\n",
              "      <td>1.0</td>\n",
              "      <td>0.0</td>\n",
              "      <td>0.0</td>\n",
              "      <td>0.0</td>\n",
              "    </tr>\n",
              "    <tr>\n",
              "      <th>1</th>\n",
              "      <td>599.00</td>\n",
              "      <td>0.0</td>\n",
              "      <td>0.000636</td>\n",
              "      <td>0.002982</td>\n",
              "      <td>0.0</td>\n",
              "      <td>0.0</td>\n",
              "      <td>0.0</td>\n",
              "      <td>0.0</td>\n",
              "      <td>0.0</td>\n",
              "      <td>0.0</td>\n",
              "      <td>...</td>\n",
              "      <td>0.0</td>\n",
              "      <td>0.0</td>\n",
              "      <td>0.0</td>\n",
              "      <td>0.0</td>\n",
              "      <td>0.0</td>\n",
              "      <td>0.0</td>\n",
              "      <td>0.0</td>\n",
              "      <td>1.0</td>\n",
              "      <td>0.0</td>\n",
              "      <td>0.0</td>\n",
              "    </tr>\n",
              "    <tr>\n",
              "      <th>2</th>\n",
              "      <td>498.96</td>\n",
              "      <td>46.0</td>\n",
              "      <td>0.001896</td>\n",
              "      <td>0.003222</td>\n",
              "      <td>0.0</td>\n",
              "      <td>0.0</td>\n",
              "      <td>0.0</td>\n",
              "      <td>0.0</td>\n",
              "      <td>0.0</td>\n",
              "      <td>1.0</td>\n",
              "      <td>...</td>\n",
              "      <td>0.0</td>\n",
              "      <td>0.0</td>\n",
              "      <td>0.0</td>\n",
              "      <td>0.0</td>\n",
              "      <td>0.0</td>\n",
              "      <td>0.0</td>\n",
              "      <td>1.0</td>\n",
              "      <td>0.0</td>\n",
              "      <td>0.0</td>\n",
              "      <td>0.0</td>\n",
              "    </tr>\n",
              "  </tbody>\n",
              "</table>\n",
              "<p>3 rows × 79 columns</p>\n",
              "</div>"
            ],
            "text/plain": [
              "     ISeg  clienteidade      cep3  clientegeografiacidade  marca2_ALCATEL  \\\n",
              "0  999.06          28.0  0.001501                0.014723             0.0   \n",
              "1  599.00           0.0  0.000636                0.002982             0.0   \n",
              "2  498.96          46.0  0.001896                0.003222             0.0   \n",
              "\n",
              "   marca2_APPLE  marca2_ASUS  marca2_DL  marca2_LENOVO  marca2_LG  ...  \\\n",
              "0           0.0          0.0        0.0            0.0        0.0  ...   \n",
              "1           0.0          0.0        0.0            0.0        0.0  ...   \n",
              "2           0.0          0.0        0.0            0.0        1.0  ...   \n",
              "\n",
              "   clientegeografiaUF_df  clientegeografiaUF_mg  clientegeografiaUF_missing  \\\n",
              "0                    0.0                    0.0                         0.0   \n",
              "1                    0.0                    0.0                         0.0   \n",
              "2                    0.0                    0.0                         0.0   \n",
              "\n",
              "   clientegeografiaUF_rs  clientegeografiaUF_sp  clientesexo_F  clientesexo_M  \\\n",
              "0                    0.0                    0.0            0.0            1.0   \n",
              "1                    0.0                    0.0            0.0            0.0   \n",
              "2                    0.0                    0.0            0.0            1.0   \n",
              "\n",
              "   clientesexo_N  clientesexo_X  clientesexo_missing  \n",
              "0            0.0            0.0                  0.0  \n",
              "1            1.0            0.0                  0.0  \n",
              "2            0.0            0.0                  0.0  \n",
              "\n",
              "[3 rows x 79 columns]"
            ]
          },
          "metadata": {
            "tags": []
          },
          "execution_count": 11
        }
      ]
    },
    {
      "cell_type": "markdown",
      "metadata": {
        "id": "S0FZ3cmnvBB6"
      },
      "source": [
        "# LightGBM"
      ]
    },
    {
      "cell_type": "code",
      "metadata": {
        "ExecuteTime": {
          "end_time": "2021-02-19T18:26:13.029694Z",
          "start_time": "2021-02-19T18:25:24.012240Z"
        },
        "scrolled": true,
        "id": "f_G4nmuhvBB7",
        "outputId": "538a6e51-3e07-4b93-b06a-27be403629e7"
      },
      "source": [
        "from lightgbm import LGBMClassifier\n",
        "\n",
        "params = {'task': 'train', 'is_unbalance': True, 'lambda_l2': 1e-05, 'random_state': 42}\n",
        "lgbm = LGBMClassifier(**params)\n",
        "\n",
        "lgbm.fit(X_train, y_train, \n",
        "         eval_metric='auc', \n",
        "         eval_set=[(X_test, y_test)], \n",
        "         early_stopping_rounds=100)"
      ],
      "execution_count": null,
      "outputs": [
        {
          "output_type": "stream",
          "text": [
            "[1]\tvalid_0's auc: 0.723535\tvalid_0's binary_logloss: 0.232631\n",
            "Training until validation scores don't improve for 100 rounds\n",
            "[2]\tvalid_0's auc: 0.740358\tvalid_0's binary_logloss: 0.254519\n",
            "[3]\tvalid_0's auc: 0.742906\tvalid_0's binary_logloss: 0.278196\n",
            "[4]\tvalid_0's auc: 0.745617\tvalid_0's binary_logloss: 0.30092\n",
            "[5]\tvalid_0's auc: 0.748008\tvalid_0's binary_logloss: 0.323379\n",
            "[6]\tvalid_0's auc: 0.752329\tvalid_0's binary_logloss: 0.34346\n",
            "[7]\tvalid_0's auc: 0.753769\tvalid_0's binary_logloss: 0.363973\n",
            "[8]\tvalid_0's auc: 0.756564\tvalid_0's binary_logloss: 0.381967\n",
            "[9]\tvalid_0's auc: 0.756936\tvalid_0's binary_logloss: 0.399823\n",
            "[10]\tvalid_0's auc: 0.759886\tvalid_0's binary_logloss: 0.415173\n",
            "[11]\tvalid_0's auc: 0.760335\tvalid_0's binary_logloss: 0.430779\n",
            "[12]\tvalid_0's auc: 0.760636\tvalid_0's binary_logloss: 0.444659\n",
            "[13]\tvalid_0's auc: 0.762441\tvalid_0's binary_logloss: 0.457569\n",
            "[14]\tvalid_0's auc: 0.762824\tvalid_0's binary_logloss: 0.47\n",
            "[15]\tvalid_0's auc: 0.763254\tvalid_0's binary_logloss: 0.481452\n",
            "[16]\tvalid_0's auc: 0.764982\tvalid_0's binary_logloss: 0.490615\n",
            "[17]\tvalid_0's auc: 0.765982\tvalid_0's binary_logloss: 0.499455\n",
            "[18]\tvalid_0's auc: 0.766816\tvalid_0's binary_logloss: 0.507895\n",
            "[19]\tvalid_0's auc: 0.767464\tvalid_0's binary_logloss: 0.515232\n",
            "[20]\tvalid_0's auc: 0.76842\tvalid_0's binary_logloss: 0.521926\n",
            "[21]\tvalid_0's auc: 0.769494\tvalid_0's binary_logloss: 0.527777\n",
            "[22]\tvalid_0's auc: 0.77058\tvalid_0's binary_logloss: 0.532736\n",
            "[23]\tvalid_0's auc: 0.770803\tvalid_0's binary_logloss: 0.53841\n",
            "[24]\tvalid_0's auc: 0.77125\tvalid_0's binary_logloss: 0.5434\n",
            "[25]\tvalid_0's auc: 0.771681\tvalid_0's binary_logloss: 0.547926\n",
            "[26]\tvalid_0's auc: 0.772143\tvalid_0's binary_logloss: 0.551685\n",
            "[27]\tvalid_0's auc: 0.772538\tvalid_0's binary_logloss: 0.555173\n",
            "[28]\tvalid_0's auc: 0.773105\tvalid_0's binary_logloss: 0.558111\n",
            "[29]\tvalid_0's auc: 0.773198\tvalid_0's binary_logloss: 0.56106\n",
            "[30]\tvalid_0's auc: 0.774396\tvalid_0's binary_logloss: 0.562242\n",
            "[31]\tvalid_0's auc: 0.774801\tvalid_0's binary_logloss: 0.56466\n",
            "[32]\tvalid_0's auc: 0.775127\tvalid_0's binary_logloss: 0.566864\n",
            "[33]\tvalid_0's auc: 0.775082\tvalid_0's binary_logloss: 0.568817\n",
            "[34]\tvalid_0's auc: 0.775412\tvalid_0's binary_logloss: 0.570279\n",
            "[35]\tvalid_0's auc: 0.775507\tvalid_0's binary_logloss: 0.571668\n",
            "[36]\tvalid_0's auc: 0.775903\tvalid_0's binary_logloss: 0.572859\n",
            "[37]\tvalid_0's auc: 0.776125\tvalid_0's binary_logloss: 0.574133\n",
            "[38]\tvalid_0's auc: 0.776979\tvalid_0's binary_logloss: 0.574463\n",
            "[39]\tvalid_0's auc: 0.777416\tvalid_0's binary_logloss: 0.575156\n",
            "[40]\tvalid_0's auc: 0.777716\tvalid_0's binary_logloss: 0.575677\n",
            "[41]\tvalid_0's auc: 0.778093\tvalid_0's binary_logloss: 0.575859\n",
            "[42]\tvalid_0's auc: 0.778485\tvalid_0's binary_logloss: 0.576289\n",
            "[43]\tvalid_0's auc: 0.778431\tvalid_0's binary_logloss: 0.576924\n",
            "[44]\tvalid_0's auc: 0.778865\tvalid_0's binary_logloss: 0.576744\n",
            "[45]\tvalid_0's auc: 0.779353\tvalid_0's binary_logloss: 0.577173\n",
            "[46]\tvalid_0's auc: 0.779591\tvalid_0's binary_logloss: 0.577513\n",
            "[47]\tvalid_0's auc: 0.77973\tvalid_0's binary_logloss: 0.577853\n",
            "[48]\tvalid_0's auc: 0.77998\tvalid_0's binary_logloss: 0.577858\n",
            "[49]\tvalid_0's auc: 0.780757\tvalid_0's binary_logloss: 0.577589\n",
            "[50]\tvalid_0's auc: 0.781254\tvalid_0's binary_logloss: 0.57716\n",
            "[51]\tvalid_0's auc: 0.781269\tvalid_0's binary_logloss: 0.577778\n",
            "[52]\tvalid_0's auc: 0.781297\tvalid_0's binary_logloss: 0.57821\n",
            "[53]\tvalid_0's auc: 0.781547\tvalid_0's binary_logloss: 0.57809\n",
            "[54]\tvalid_0's auc: 0.781991\tvalid_0's binary_logloss: 0.577708\n",
            "[55]\tvalid_0's auc: 0.781945\tvalid_0's binary_logloss: 0.577932\n",
            "[56]\tvalid_0's auc: 0.782332\tvalid_0's binary_logloss: 0.577554\n",
            "[57]\tvalid_0's auc: 0.782629\tvalid_0's binary_logloss: 0.577443\n",
            "[58]\tvalid_0's auc: 0.782804\tvalid_0's binary_logloss: 0.577348\n",
            "[59]\tvalid_0's auc: 0.783036\tvalid_0's binary_logloss: 0.577162\n",
            "[60]\tvalid_0's auc: 0.783135\tvalid_0's binary_logloss: 0.577255\n",
            "[61]\tvalid_0's auc: 0.783273\tvalid_0's binary_logloss: 0.576797\n",
            "[62]\tvalid_0's auc: 0.783336\tvalid_0's binary_logloss: 0.576864\n",
            "[63]\tvalid_0's auc: 0.783441\tvalid_0's binary_logloss: 0.576713\n",
            "[64]\tvalid_0's auc: 0.783603\tvalid_0's binary_logloss: 0.576584\n",
            "[65]\tvalid_0's auc: 0.783709\tvalid_0's binary_logloss: 0.576495\n",
            "[66]\tvalid_0's auc: 0.783821\tvalid_0's binary_logloss: 0.576277\n",
            "[67]\tvalid_0's auc: 0.784136\tvalid_0's binary_logloss: 0.576087\n",
            "[68]\tvalid_0's auc: 0.784341\tvalid_0's binary_logloss: 0.575726\n",
            "[69]\tvalid_0's auc: 0.784603\tvalid_0's binary_logloss: 0.575461\n",
            "[70]\tvalid_0's auc: 0.784666\tvalid_0's binary_logloss: 0.575339\n",
            "[71]\tvalid_0's auc: 0.785036\tvalid_0's binary_logloss: 0.574821\n",
            "[72]\tvalid_0's auc: 0.78534\tvalid_0's binary_logloss: 0.574322\n",
            "[73]\tvalid_0's auc: 0.785531\tvalid_0's binary_logloss: 0.574086\n",
            "[74]\tvalid_0's auc: 0.785556\tvalid_0's binary_logloss: 0.574059\n",
            "[75]\tvalid_0's auc: 0.785792\tvalid_0's binary_logloss: 0.573793\n",
            "[76]\tvalid_0's auc: 0.786054\tvalid_0's binary_logloss: 0.573565\n",
            "[77]\tvalid_0's auc: 0.786345\tvalid_0's binary_logloss: 0.57316\n",
            "[78]\tvalid_0's auc: 0.786359\tvalid_0's binary_logloss: 0.573155\n",
            "[79]\tvalid_0's auc: 0.786516\tvalid_0's binary_logloss: 0.572829\n",
            "[80]\tvalid_0's auc: 0.786608\tvalid_0's binary_logloss: 0.572781\n",
            "[81]\tvalid_0's auc: 0.786725\tvalid_0's binary_logloss: 0.572637\n",
            "[82]\tvalid_0's auc: 0.786813\tvalid_0's binary_logloss: 0.572489\n",
            "[83]\tvalid_0's auc: 0.786873\tvalid_0's binary_logloss: 0.572427\n",
            "[84]\tvalid_0's auc: 0.787025\tvalid_0's binary_logloss: 0.572233\n",
            "[85]\tvalid_0's auc: 0.787329\tvalid_0's binary_logloss: 0.571785\n",
            "[86]\tvalid_0's auc: 0.787444\tvalid_0's binary_logloss: 0.571556\n",
            "[87]\tvalid_0's auc: 0.78764\tvalid_0's binary_logloss: 0.571342\n",
            "[88]\tvalid_0's auc: 0.787665\tvalid_0's binary_logloss: 0.571246\n",
            "[89]\tvalid_0's auc: 0.787757\tvalid_0's binary_logloss: 0.571029\n",
            "[90]\tvalid_0's auc: 0.787799\tvalid_0's binary_logloss: 0.570929\n",
            "[91]\tvalid_0's auc: 0.787782\tvalid_0's binary_logloss: 0.570795\n",
            "[92]\tvalid_0's auc: 0.787884\tvalid_0's binary_logloss: 0.570749\n",
            "[93]\tvalid_0's auc: 0.787973\tvalid_0's binary_logloss: 0.570615\n",
            "[94]\tvalid_0's auc: 0.788104\tvalid_0's binary_logloss: 0.57038\n",
            "[95]\tvalid_0's auc: 0.788181\tvalid_0's binary_logloss: 0.570248\n",
            "[96]\tvalid_0's auc: 0.788171\tvalid_0's binary_logloss: 0.57013\n",
            "[97]\tvalid_0's auc: 0.788323\tvalid_0's binary_logloss: 0.569819\n",
            "[98]\tvalid_0's auc: 0.788364\tvalid_0's binary_logloss: 0.569748\n",
            "[99]\tvalid_0's auc: 0.788514\tvalid_0's binary_logloss: 0.569528\n",
            "[100]\tvalid_0's auc: 0.788604\tvalid_0's binary_logloss: 0.569451\n",
            "Did not meet early stopping. Best iteration is:\n",
            "[100]\tvalid_0's auc: 0.788604\tvalid_0's binary_logloss: 0.569451\n"
          ],
          "name": "stdout"
        },
        {
          "output_type": "execute_result",
          "data": {
            "text/html": [
              "<style>div.sk-top-container {color: black;background-color: white;}div.sk-toggleable {background-color: white;}label.sk-toggleable__label {cursor: pointer;display: block;width: 100%;margin-bottom: 0;padding: 0.2em 0.3em;box-sizing: border-box;text-align: center;}div.sk-toggleable__content {max-height: 0;max-width: 0;overflow: hidden;text-align: left;background-color: #f0f8ff;}div.sk-toggleable__content pre {margin: 0.2em;color: black;border-radius: 0.25em;background-color: #f0f8ff;}input.sk-toggleable__control:checked~div.sk-toggleable__content {max-height: 200px;max-width: 100%;overflow: auto;}div.sk-estimator input.sk-toggleable__control:checked~label.sk-toggleable__label {background-color: #d4ebff;}div.sk-label input.sk-toggleable__control:checked~label.sk-toggleable__label {background-color: #d4ebff;}input.sk-hidden--visually {border: 0;clip: rect(1px 1px 1px 1px);clip: rect(1px, 1px, 1px, 1px);height: 1px;margin: -1px;overflow: hidden;padding: 0;position: absolute;width: 1px;}div.sk-estimator {font-family: monospace;background-color: #f0f8ff;margin: 0.25em 0.25em;border: 1px dotted black;border-radius: 0.25em;box-sizing: border-box;}div.sk-estimator:hover {background-color: #d4ebff;}div.sk-parallel-item::after {content: \"\";width: 100%;border-bottom: 1px solid gray;flex-grow: 1;}div.sk-label:hover label.sk-toggleable__label {background-color: #d4ebff;}div.sk-serial::before {content: \"\";position: absolute;border-left: 1px solid gray;box-sizing: border-box;top: 2em;bottom: 0;left: 50%;}div.sk-serial {display: flex;flex-direction: column;align-items: center;background-color: white;}div.sk-item {z-index: 1;}div.sk-parallel {display: flex;align-items: stretch;justify-content: center;background-color: white;}div.sk-parallel-item {display: flex;flex-direction: column;position: relative;background-color: white;}div.sk-parallel-item:first-child::after {align-self: flex-end;width: 50%;}div.sk-parallel-item:last-child::after {align-self: flex-start;width: 50%;}div.sk-parallel-item:only-child::after {width: 0;}div.sk-dashed-wrapped {border: 1px dashed gray;margin: 0.2em;box-sizing: border-box;padding-bottom: 0.1em;background-color: white;position: relative;}div.sk-label label {font-family: monospace;font-weight: bold;background-color: white;display: inline-block;line-height: 1.2em;}div.sk-label-container {position: relative;z-index: 2;text-align: center;}div.sk-container {display: inline-block;position: relative;}</style><div class=\"sk-top-container\"><div class=\"sk-container\"><div class=\"sk-item\"><div class=\"sk-estimator sk-toggleable\"><input class=\"sk-toggleable__control sk-hidden--visually\" id=\"91b5fef5-4991-4775-b6a7-a6f4f000c453\" type=\"checkbox\" checked><label class=\"sk-toggleable__label\" for=\"91b5fef5-4991-4775-b6a7-a6f4f000c453\">LGBMClassifier</label><div class=\"sk-toggleable__content\"><pre>LGBMClassifier(is_unbalance=True, lambda_l2=1e-05, random_state=42,\n",
              "               task='train')</pre></div></div></div></div></div>"
            ],
            "text/plain": [
              "LGBMClassifier(is_unbalance=True, lambda_l2=1e-05, random_state=42,\n",
              "               task='train')"
            ]
          },
          "metadata": {
            "tags": []
          },
          "execution_count": 12
        }
      ]
    },
    {
      "cell_type": "code",
      "metadata": {
        "ExecuteTime": {
          "end_time": "2021-02-19T18:26:30.265270Z",
          "start_time": "2021-02-19T18:26:17.216068Z"
        },
        "id": "0hcyCM9pvBB7",
        "outputId": "28f3ff1b-357e-4ba9-a6bc-f535013704a5"
      },
      "source": [
        "from sklearn.metrics import roc_auc_score\n",
        "\n",
        "y_proba_train = lgbm.predict_proba(X_train)[:,1]\n",
        "y_proba_test  = lgbm.predict_proba(X_test)[:,1]\n",
        "y_proba_oot   = lgbm.predict_proba(X_oot)[:,1]\n",
        "\n",
        "print(f'ROCAUC de Treino: {roc_auc_score(y_train, y_proba_train):.6f}')\n",
        "print(f'ROCAUC de Teste : {roc_auc_score(y_test, y_proba_test):.6f}')\n",
        "print(f'ROCAUC OOT: {roc_auc_score(y_oot, y_proba_oot):.6f}')"
      ],
      "execution_count": null,
      "outputs": [
        {
          "output_type": "stream",
          "text": [
            "ROCAUC de Treino: 0.767138\n",
            "ROCAUC de Teste : 0.788604\n",
            "ROCAUC OOT: 0.775591\n"
          ],
          "name": "stdout"
        }
      ]
    },
    {
      "cell_type": "markdown",
      "metadata": {
        "id": "2W7wYk9AvBB8"
      },
      "source": [
        "## Feature Importance"
      ]
    },
    {
      "cell_type": "code",
      "metadata": {
        "ExecuteTime": {
          "end_time": "2021-02-19T15:59:00.041275Z",
          "start_time": "2021-02-19T15:58:59.814555Z"
        },
        "id": "qD4FntODvBB8",
        "outputId": "b1f9294a-dbab-4458-c7bc-19a93ba42474"
      },
      "source": [
        "lgbm_feature_importances = pd.Series(lgbm.feature_importances_, index=name_transformed_features).sort_values()\n",
        "lgbm_feature_importances.tail(10).plot(kind='barh', figsize=(7,4), title='LightGBM Feature Importance', color='green');"
      ],
      "execution_count": null,
      "outputs": [
        {
          "output_type": "display_data",
          "data": {
            "image/png": "[encoded data removed]",
            "text/plain": [
              "<Figure size 504x288 with 1 Axes>"
            ]
          },
          "metadata": {
            "tags": [],
            "needs_background": "light"
          }
        }
      ]
    },
    {
      "cell_type": "markdown",
      "metadata": {
        "id": "oEzg8dObvBB9"
      },
      "source": [
        "## Feature Importance"
      ]
    },
    {
      "cell_type": "code",
      "metadata": {
        "ExecuteTime": {
          "end_time": "2021-02-19T15:58:29.107046Z",
          "start_time": "2021-02-19T15:58:28.740893Z"
        },
        "id": "dRaZKOJRvBB9",
        "outputId": "8cb54088-cfca-46f7-8332-98211f78f436"
      },
      "source": [
        "xgb_feature_importances = pd.Series(xgb.feature_importances_, index=name_transformed_features).sort_values()\n",
        "xgb_feature_importances.tail(10).plot(kind='barh', figsize=(7,4), title='XGBoost Feature Importance', color='green');"
      ],
      "execution_count": null,
      "outputs": [
        {
          "output_type": "display_data",
          "data": {
            "image/png": "[encoded data removed]",
            "text/plain": [
              "<Figure size 504x288 with 1 Axes>"
            ]
          },
          "metadata": {
            "tags": [],
            "needs_background": "light"
          }
        }
      ]
    },
    {
      "cell_type": "markdown",
      "metadata": {
        "id": "0eFLzIS2vBB9"
      },
      "source": [
        "# Population Stability Index"
      ]
    },
    {
      "cell_type": "markdown",
      "metadata": {
        "id": "AcwMeDTMvBB9"
      },
      "source": [
        "## Função para calcular PSI de variáveis numéricas"
      ]
    },
    {
      "cell_type": "code",
      "metadata": {
        "ExecuteTime": {
          "end_time": "2021-02-19T19:01:18.740584Z",
          "start_time": "2021-02-19T19:01:18.732226Z"
        },
        "id": "HFYD0Hm8vBB9"
      },
      "source": [
        "def calculate_psi(expected_array, actual_array, buckettype='bins', buckets=10, axis=0):\n",
        "    '''Calculate the PSI for a single variable\n",
        "    Args:\n",
        "       expected_array: numpy array of original values\n",
        "       actual_array: numpy array of new values, same size as expected\n",
        "       buckets: number of percentile ranges to bucket the values into\n",
        "    Returns:\n",
        "       psi_value: calculated PSI value\n",
        "    '''\n",
        "    def scale_range(input, min, max):\n",
        "        input += -(np.min(input))\n",
        "        input /= np.max(input) / (max - min)\n",
        "        input += min\n",
        "        return input\n",
        "\n",
        "    breakpoints = np.arange(0, buckets + 1) / (buckets) * 100\n",
        "\n",
        "    if buckettype == 'bins':\n",
        "        breakpoints = scale_range(breakpoints, np.min(expected_array), np.max(expected_array))\n",
        "    elif buckettype == 'quantiles':\n",
        "        breakpoints = np.stack([np.percentile(expected_array, b) for b in breakpoints])\n",
        "\n",
        "    expected_percents = np.histogram(expected_array, breakpoints)[0] / len(expected_array)\n",
        "    actual_percents = np.histogram(actual_array, breakpoints)[0] / len(actual_array)\n",
        "\n",
        "    def sub_psi(e_perc, a_perc):\n",
        "        '''Calculate the actual PSI value from comparing the values.\n",
        "           Update the actual value to a very small number if equal to zero\n",
        "        '''\n",
        "        if a_perc == 0:\n",
        "            a_perc = 0.0001\n",
        "        if e_perc == 0:\n",
        "            e_perc = 0.0001\n",
        "\n",
        "        value = (e_perc - a_perc) * np.log(e_perc / a_perc)\n",
        "        return(value)\n",
        "\n",
        "    psi_value = np.sum(sub_psi(expected_percents[i], actual_percents[i]) for i in range(0, len(expected_percents)))\n",
        "\n",
        "    return(psi_value)"
      ],
      "execution_count": null,
      "outputs": []
    },
    {
      "cell_type": "markdown",
      "metadata": {
        "ExecuteTime": {
          "end_time": "2021-02-19T16:04:37.120764Z",
          "start_time": "2021-02-19T16:04:37.010623Z"
        },
        "id": "REmhKz-ivBB-"
      },
      "source": [
        "## Calculando PSI para Variáveis Dummies"
      ]
    },
    {
      "cell_type": "code",
      "metadata": {
        "ExecuteTime": {
          "end_time": "2021-02-19T18:27:55.128078Z",
          "start_time": "2021-02-19T18:27:51.769164Z"
        },
        "id": "w4g2EnVmvBB-"
      },
      "source": [
        "X_train = pd.DataFrame(X_train, columns=name_transformed_features)\n",
        "X_train['score'] = y_proba_train\n",
        "\n",
        "X_test = pd.DataFrame(X_test, columns=name_transformed_features)\n",
        "X_test['score'] = y_proba_test\n",
        "\n",
        "X_oot = pd.DataFrame(X_oot, columns=name_transformed_features)\n",
        "X_oot['score'] = y_proba_oot"
      ],
      "execution_count": null,
      "outputs": []
    },
    {
      "cell_type": "code",
      "metadata": {
        "ExecuteTime": {
          "end_time": "2021-02-19T18:43:21.170071Z",
          "start_time": "2021-02-19T18:43:19.197966Z"
        },
        "id": "Y3c35FQBvBB_",
        "outputId": "364c4977-96db-4fff-dbbc-f154db2a7acf"
      },
      "source": [
        "psi_df_dummies = (\n",
        "    (X_train.filter(regex='_').sum() / len(X_train)).reset_index().rename(columns={'index': 'variable', 0: 'freq_train'})\n",
        "    .merge((X_test.filter(regex='_').sum() / len(X_test)).reset_index().rename(columns={'index': 'variable', 0: 'freq_test'}),\n",
        "           on='variable', how='left')\n",
        "    .merge((X_oot.filter(regex='_').sum() / len(X_oot)).reset_index().rename(columns={'index': 'variable', 0: 'freq_oot'}),\n",
        "           on='variable')\n",
        "    .assign(psi_test = lambda df: np.where((df['freq_test'] == 0) | (df['freq_train'] == 0), 0, (df['freq_test'] - df['freq_train']) * np.log(df['freq_test'] / df['freq_train'])))\n",
        "    .assign(psi_oot  = lambda df: np.where((df['freq_oot']  == 0) | (df['freq_train'] == 0), 0, (df['freq_oot']  - df['freq_train']) * np.log(df['freq_oot']  / df['freq_train'])))\n",
        "    .filter(['variable', 'psi_test', 'psi_oot'])\n",
        ")\n",
        "psi_df_dummies"
      ],
      "execution_count": null,
      "outputs": [
        {
          "output_type": "stream",
          "text": [
            "/opt/conda/lib/python3.7/site-packages/pandas/core/series.py:679: RuntimeWarning: divide by zero encountered in log\n",
            "  result = getattr(ufunc, method)(*inputs, **kwargs)\n"
          ],
          "name": "stderr"
        },
        {
          "output_type": "execute_result",
          "data": {
            "text/html": [
              "<div>\n",
              "<style scoped>\n",
              "    .dataframe tbody tr th:only-of-type {\n",
              "        vertical-align: middle;\n",
              "    }\n",
              "\n",
              "    .dataframe tbody tr th {\n",
              "        vertical-align: top;\n",
              "    }\n",
              "\n",
              "    .dataframe thead th {\n",
              "        text-align: right;\n",
              "    }\n",
              "</style>\n",
              "<table border=\"1\" class=\"dataframe\">\n",
              "  <thead>\n",
              "    <tr style=\"text-align: right;\">\n",
              "      <th></th>\n",
              "      <th>variable</th>\n",
              "      <th>psi_test</th>\n",
              "      <th>psi_oot</th>\n",
              "    </tr>\n",
              "  </thead>\n",
              "  <tbody>\n",
              "    <tr>\n",
              "      <th>0</th>\n",
              "      <td>marca2_ALCATEL</td>\n",
              "      <td>0.015952</td>\n",
              "      <td>0.019944</td>\n",
              "    </tr>\n",
              "    <tr>\n",
              "      <th>1</th>\n",
              "      <td>marca2_APPLE</td>\n",
              "      <td>0.002008</td>\n",
              "      <td>0.013155</td>\n",
              "    </tr>\n",
              "    <tr>\n",
              "      <th>2</th>\n",
              "      <td>marca2_ASUS</td>\n",
              "      <td>0.000352</td>\n",
              "      <td>0.000004</td>\n",
              "    </tr>\n",
              "    <tr>\n",
              "      <th>3</th>\n",
              "      <td>marca2_DL</td>\n",
              "      <td>0.000175</td>\n",
              "      <td>0.000312</td>\n",
              "    </tr>\n",
              "    <tr>\n",
              "      <th>4</th>\n",
              "      <td>marca2_LENOVO</td>\n",
              "      <td>0.000108</td>\n",
              "      <td>0.001343</td>\n",
              "    </tr>\n",
              "    <tr>\n",
              "      <th>...</th>\n",
              "      <td>...</td>\n",
              "      <td>...</td>\n",
              "      <td>...</td>\n",
              "    </tr>\n",
              "    <tr>\n",
              "      <th>70</th>\n",
              "      <td>clientesexo_F</td>\n",
              "      <td>0.001956</td>\n",
              "      <td>0.000940</td>\n",
              "    </tr>\n",
              "    <tr>\n",
              "      <th>71</th>\n",
              "      <td>clientesexo_M</td>\n",
              "      <td>0.003926</td>\n",
              "      <td>0.003365</td>\n",
              "    </tr>\n",
              "    <tr>\n",
              "      <th>72</th>\n",
              "      <td>clientesexo_N</td>\n",
              "      <td>0.010179</td>\n",
              "      <td>0.000415</td>\n",
              "    </tr>\n",
              "    <tr>\n",
              "      <th>73</th>\n",
              "      <td>clientesexo_X</td>\n",
              "      <td>0.000081</td>\n",
              "      <td>0.000081</td>\n",
              "    </tr>\n",
              "    <tr>\n",
              "      <th>74</th>\n",
              "      <td>clientesexo_missing</td>\n",
              "      <td>0.021875</td>\n",
              "      <td>0.000000</td>\n",
              "    </tr>\n",
              "  </tbody>\n",
              "</table>\n",
              "<p>75 rows × 3 columns</p>\n",
              "</div>"
            ],
            "text/plain": [
              "               variable  psi_test   psi_oot\n",
              "0        marca2_ALCATEL  0.015952  0.019944\n",
              "1          marca2_APPLE  0.002008  0.013155\n",
              "2           marca2_ASUS  0.000352  0.000004\n",
              "3             marca2_DL  0.000175  0.000312\n",
              "4         marca2_LENOVO  0.000108  0.001343\n",
              "..                  ...       ...       ...\n",
              "70        clientesexo_F  0.001956  0.000940\n",
              "71        clientesexo_M  0.003926  0.003365\n",
              "72        clientesexo_N  0.010179  0.000415\n",
              "73        clientesexo_X  0.000081  0.000081\n",
              "74  clientesexo_missing  0.021875  0.000000\n",
              "\n",
              "[75 rows x 3 columns]"
            ]
          },
          "metadata": {
            "tags": []
          },
          "execution_count": 44
        }
      ]
    },
    {
      "cell_type": "markdown",
      "metadata": {
        "id": "HVmin6UtvBCA"
      },
      "source": [
        "## Calculando PSI para variáveis numéricas"
      ]
    },
    {
      "cell_type": "code",
      "metadata": {
        "ExecuteTime": {
          "end_time": "2021-02-19T18:45:46.835608Z",
          "start_time": "2021-02-19T18:45:46.826111Z"
        },
        "id": "nigA8ADNvBCA",
        "outputId": "366f35b4-8b88-4fed-9e77-d9aedb32f9bf"
      },
      "source": [
        "psi_numerics_test = []\n",
        "psi_numerics_oot  = []\n",
        "for col in num_features + cat_features_high_card + ['score']:\n",
        "    psi_numerics_test.append(calculate_psi(X_train[col], X_test[col]))\n",
        "    psi_numerics_oot.append(calculate_psi(X_train[col], X_oot[col]))\n",
        "\n",
        "psi_df_numerics = pd.DataFrame({'variable': num_features + cat_features_high_card + ['score'], \n",
        "                                'psi_test': psi_numerics_test,\n",
        "                                'psi_oot': psi_numerics_oot})\n",
        "psi_df_numerics"
      ],
      "execution_count": null,
      "outputs": [
        {
          "output_type": "execute_result",
          "data": {
            "text/html": [
              "<div>\n",
              "<style scoped>\n",
              "    .dataframe tbody tr th:only-of-type {\n",
              "        vertical-align: middle;\n",
              "    }\n",
              "\n",
              "    .dataframe tbody tr th {\n",
              "        vertical-align: top;\n",
              "    }\n",
              "\n",
              "    .dataframe thead th {\n",
              "        text-align: right;\n",
              "    }\n",
              "</style>\n",
              "<table border=\"1\" class=\"dataframe\">\n",
              "  <thead>\n",
              "    <tr style=\"text-align: right;\">\n",
              "      <th></th>\n",
              "      <th>variable</th>\n",
              "      <th>psi_test</th>\n",
              "      <th>psi_oot</th>\n",
              "    </tr>\n",
              "  </thead>\n",
              "  <tbody>\n",
              "    <tr>\n",
              "      <th>0</th>\n",
              "      <td>ISeg</td>\n",
              "      <td>0.011401</td>\n",
              "      <td>0.008674</td>\n",
              "    </tr>\n",
              "    <tr>\n",
              "      <th>1</th>\n",
              "      <td>clienteidade</td>\n",
              "      <td>0.000507</td>\n",
              "      <td>0.000507</td>\n",
              "    </tr>\n",
              "    <tr>\n",
              "      <th>2</th>\n",
              "      <td>cep3</td>\n",
              "      <td>0.008783</td>\n",
              "      <td>0.018591</td>\n",
              "    </tr>\n",
              "    <tr>\n",
              "      <th>3</th>\n",
              "      <td>clientegeografiacidade</td>\n",
              "      <td>0.003319</td>\n",
              "      <td>0.004445</td>\n",
              "    </tr>\n",
              "    <tr>\n",
              "      <th>4</th>\n",
              "      <td>score</td>\n",
              "      <td>0.002703</td>\n",
              "      <td>0.020085</td>\n",
              "    </tr>\n",
              "  </tbody>\n",
              "</table>\n",
              "</div>"
            ],
            "text/plain": [
              "                 variable  psi_test   psi_oot\n",
              "0                    ISeg  0.011401  0.008674\n",
              "1            clienteidade  0.000507  0.000507\n",
              "2                    cep3  0.008783  0.018591\n",
              "3  clientegeografiacidade  0.003319  0.004445\n",
              "4                   score  0.002703  0.020085"
            ]
          },
          "metadata": {
            "tags": []
          },
          "execution_count": 48
        }
      ]
    },
    {
      "cell_type": "code",
      "metadata": {
        "ExecuteTime": {
          "end_time": "2021-02-19T18:48:10.340909Z",
          "start_time": "2021-02-19T18:48:10.328871Z"
        },
        "id": "ldjcuv3qvBCA",
        "outputId": "35b1847b-432e-4b93-bb33-577d670a53dd"
      },
      "source": [
        "psi_df = pd.concat([psi_df_numerics, psi_df_dummies])\n",
        "psi_df"
      ],
      "execution_count": null,
      "outputs": [
        {
          "output_type": "execute_result",
          "data": {
            "text/html": [
              "<div>\n",
              "<style scoped>\n",
              "    .dataframe tbody tr th:only-of-type {\n",
              "        vertical-align: middle;\n",
              "    }\n",
              "\n",
              "    .dataframe tbody tr th {\n",
              "        vertical-align: top;\n",
              "    }\n",
              "\n",
              "    .dataframe thead th {\n",
              "        text-align: right;\n",
              "    }\n",
              "</style>\n",
              "<table border=\"1\" class=\"dataframe\">\n",
              "  <thead>\n",
              "    <tr style=\"text-align: right;\">\n",
              "      <th></th>\n",
              "      <th>variable</th>\n",
              "      <th>psi_test</th>\n",
              "      <th>psi_oot</th>\n",
              "    </tr>\n",
              "  </thead>\n",
              "  <tbody>\n",
              "    <tr>\n",
              "      <th>0</th>\n",
              "      <td>ISeg</td>\n",
              "      <td>0.011401</td>\n",
              "      <td>0.008674</td>\n",
              "    </tr>\n",
              "    <tr>\n",
              "      <th>1</th>\n",
              "      <td>clienteidade</td>\n",
              "      <td>0.000507</td>\n",
              "      <td>0.000507</td>\n",
              "    </tr>\n",
              "    <tr>\n",
              "      <th>2</th>\n",
              "      <td>cep3</td>\n",
              "      <td>0.008783</td>\n",
              "      <td>0.018591</td>\n",
              "    </tr>\n",
              "    <tr>\n",
              "      <th>3</th>\n",
              "      <td>clientegeografiacidade</td>\n",
              "      <td>0.003319</td>\n",
              "      <td>0.004445</td>\n",
              "    </tr>\n",
              "    <tr>\n",
              "      <th>4</th>\n",
              "      <td>score</td>\n",
              "      <td>0.002703</td>\n",
              "      <td>0.020085</td>\n",
              "    </tr>\n",
              "    <tr>\n",
              "      <th>...</th>\n",
              "      <td>...</td>\n",
              "      <td>...</td>\n",
              "      <td>...</td>\n",
              "    </tr>\n",
              "    <tr>\n",
              "      <th>70</th>\n",
              "      <td>clientesexo_F</td>\n",
              "      <td>0.001956</td>\n",
              "      <td>0.000940</td>\n",
              "    </tr>\n",
              "    <tr>\n",
              "      <th>71</th>\n",
              "      <td>clientesexo_M</td>\n",
              "      <td>0.003926</td>\n",
              "      <td>0.003365</td>\n",
              "    </tr>\n",
              "    <tr>\n",
              "      <th>72</th>\n",
              "      <td>clientesexo_N</td>\n",
              "      <td>0.010179</td>\n",
              "      <td>0.000415</td>\n",
              "    </tr>\n",
              "    <tr>\n",
              "      <th>73</th>\n",
              "      <td>clientesexo_X</td>\n",
              "      <td>0.000081</td>\n",
              "      <td>0.000081</td>\n",
              "    </tr>\n",
              "    <tr>\n",
              "      <th>74</th>\n",
              "      <td>clientesexo_missing</td>\n",
              "      <td>0.021875</td>\n",
              "      <td>0.000000</td>\n",
              "    </tr>\n",
              "  </tbody>\n",
              "</table>\n",
              "<p>80 rows × 3 columns</p>\n",
              "</div>"
            ],
            "text/plain": [
              "                  variable  psi_test   psi_oot\n",
              "0                     ISeg  0.011401  0.008674\n",
              "1             clienteidade  0.000507  0.000507\n",
              "2                     cep3  0.008783  0.018591\n",
              "3   clientegeografiacidade  0.003319  0.004445\n",
              "4                    score  0.002703  0.020085\n",
              "..                     ...       ...       ...\n",
              "70           clientesexo_F  0.001956  0.000940\n",
              "71           clientesexo_M  0.003926  0.003365\n",
              "72           clientesexo_N  0.010179  0.000415\n",
              "73           clientesexo_X  0.000081  0.000081\n",
              "74     clientesexo_missing  0.021875  0.000000\n",
              "\n",
              "[80 rows x 3 columns]"
            ]
          },
          "metadata": {
            "tags": []
          },
          "execution_count": 51
        }
      ]
    },
    {
      "cell_type": "code",
      "metadata": {
        "ExecuteTime": {
          "end_time": "2021-02-19T18:48:45.682197Z",
          "start_time": "2021-02-19T18:48:45.666027Z"
        },
        "id": "BFm_J0cnvBCA",
        "outputId": "57bf842e-0dea-48c7-f26d-94fc44c338ad"
      },
      "source": [
        "psi_df['original_variable'] = psi_df['variable'].str.split('_').str[0]\n",
        "psi_df"
      ],
      "execution_count": null,
      "outputs": [
        {
          "output_type": "execute_result",
          "data": {
            "text/html": [
              "<div>\n",
              "<style scoped>\n",
              "    .dataframe tbody tr th:only-of-type {\n",
              "        vertical-align: middle;\n",
              "    }\n",
              "\n",
              "    .dataframe tbody tr th {\n",
              "        vertical-align: top;\n",
              "    }\n",
              "\n",
              "    .dataframe thead th {\n",
              "        text-align: right;\n",
              "    }\n",
              "</style>\n",
              "<table border=\"1\" class=\"dataframe\">\n",
              "  <thead>\n",
              "    <tr style=\"text-align: right;\">\n",
              "      <th></th>\n",
              "      <th>variable</th>\n",
              "      <th>psi_test</th>\n",
              "      <th>psi_oot</th>\n",
              "      <th>original_variable</th>\n",
              "    </tr>\n",
              "  </thead>\n",
              "  <tbody>\n",
              "    <tr>\n",
              "      <th>0</th>\n",
              "      <td>ISeg</td>\n",
              "      <td>0.011401</td>\n",
              "      <td>0.008674</td>\n",
              "      <td>ISeg</td>\n",
              "    </tr>\n",
              "    <tr>\n",
              "      <th>1</th>\n",
              "      <td>clienteidade</td>\n",
              "      <td>0.000507</td>\n",
              "      <td>0.000507</td>\n",
              "      <td>clienteidade</td>\n",
              "    </tr>\n",
              "    <tr>\n",
              "      <th>2</th>\n",
              "      <td>cep3</td>\n",
              "      <td>0.008783</td>\n",
              "      <td>0.018591</td>\n",
              "      <td>cep3</td>\n",
              "    </tr>\n",
              "    <tr>\n",
              "      <th>3</th>\n",
              "      <td>clientegeografiacidade</td>\n",
              "      <td>0.003319</td>\n",
              "      <td>0.004445</td>\n",
              "      <td>clientegeografiacidade</td>\n",
              "    </tr>\n",
              "    <tr>\n",
              "      <th>4</th>\n",
              "      <td>score</td>\n",
              "      <td>0.002703</td>\n",
              "      <td>0.020085</td>\n",
              "      <td>score</td>\n",
              "    </tr>\n",
              "    <tr>\n",
              "      <th>...</th>\n",
              "      <td>...</td>\n",
              "      <td>...</td>\n",
              "      <td>...</td>\n",
              "      <td>...</td>\n",
              "    </tr>\n",
              "    <tr>\n",
              "      <th>70</th>\n",
              "      <td>clientesexo_F</td>\n",
              "      <td>0.001956</td>\n",
              "      <td>0.000940</td>\n",
              "      <td>clientesexo</td>\n",
              "    </tr>\n",
              "    <tr>\n",
              "      <th>71</th>\n",
              "      <td>clientesexo_M</td>\n",
              "      <td>0.003926</td>\n",
              "      <td>0.003365</td>\n",
              "      <td>clientesexo</td>\n",
              "    </tr>\n",
              "    <tr>\n",
              "      <th>72</th>\n",
              "      <td>clientesexo_N</td>\n",
              "      <td>0.010179</td>\n",
              "      <td>0.000415</td>\n",
              "      <td>clientesexo</td>\n",
              "    </tr>\n",
              "    <tr>\n",
              "      <th>73</th>\n",
              "      <td>clientesexo_X</td>\n",
              "      <td>0.000081</td>\n",
              "      <td>0.000081</td>\n",
              "      <td>clientesexo</td>\n",
              "    </tr>\n",
              "    <tr>\n",
              "      <th>74</th>\n",
              "      <td>clientesexo_missing</td>\n",
              "      <td>0.021875</td>\n",
              "      <td>0.000000</td>\n",
              "      <td>clientesexo</td>\n",
              "    </tr>\n",
              "  </tbody>\n",
              "</table>\n",
              "<p>80 rows × 4 columns</p>\n",
              "</div>"
            ],
            "text/plain": [
              "                  variable  psi_test   psi_oot       original_variable\n",
              "0                     ISeg  0.011401  0.008674                    ISeg\n",
              "1             clienteidade  0.000507  0.000507            clienteidade\n",
              "2                     cep3  0.008783  0.018591                    cep3\n",
              "3   clientegeografiacidade  0.003319  0.004445  clientegeografiacidade\n",
              "4                    score  0.002703  0.020085                   score\n",
              "..                     ...       ...       ...                     ...\n",
              "70           clientesexo_F  0.001956  0.000940             clientesexo\n",
              "71           clientesexo_M  0.003926  0.003365             clientesexo\n",
              "72           clientesexo_N  0.010179  0.000415             clientesexo\n",
              "73           clientesexo_X  0.000081  0.000081             clientesexo\n",
              "74     clientesexo_missing  0.021875  0.000000             clientesexo\n",
              "\n",
              "[80 rows x 4 columns]"
            ]
          },
          "metadata": {
            "tags": []
          },
          "execution_count": 52
        }
      ]
    },
    {
      "cell_type": "code",
      "metadata": {
        "ExecuteTime": {
          "end_time": "2021-02-19T18:52:22.837654Z",
          "start_time": "2021-02-19T18:52:22.824176Z"
        },
        "id": "S5iordsOvBCB",
        "outputId": "17392380-ad3a-45e5-8199-712402962ada"
      },
      "source": [
        "psi_df.groupby('original_variable').sum().reset_index().rename(columns={'original_variable': 'variable'})"
      ],
      "execution_count": null,
      "outputs": [
        {
          "output_type": "execute_result",
          "data": {
            "text/html": [
              "<div>\n",
              "<style scoped>\n",
              "    .dataframe tbody tr th:only-of-type {\n",
              "        vertical-align: middle;\n",
              "    }\n",
              "\n",
              "    .dataframe tbody tr th {\n",
              "        vertical-align: top;\n",
              "    }\n",
              "\n",
              "    .dataframe thead th {\n",
              "        text-align: right;\n",
              "    }\n",
              "</style>\n",
              "<table border=\"1\" class=\"dataframe\">\n",
              "  <thead>\n",
              "    <tr style=\"text-align: right;\">\n",
              "      <th></th>\n",
              "      <th>variable</th>\n",
              "      <th>psi_test</th>\n",
              "      <th>psi_oot</th>\n",
              "    </tr>\n",
              "  </thead>\n",
              "  <tbody>\n",
              "    <tr>\n",
              "      <th>0</th>\n",
              "      <td>ISeg</td>\n",
              "      <td>0.011401</td>\n",
              "      <td>0.008674</td>\n",
              "    </tr>\n",
              "    <tr>\n",
              "      <th>1</th>\n",
              "      <td>Parceirodescricaoreduzida</td>\n",
              "      <td>0.109123</td>\n",
              "      <td>0.343489</td>\n",
              "    </tr>\n",
              "    <tr>\n",
              "      <th>2</th>\n",
              "      <td>cep3</td>\n",
              "      <td>0.008783</td>\n",
              "      <td>0.018591</td>\n",
              "    </tr>\n",
              "    <tr>\n",
              "      <th>3</th>\n",
              "      <td>clientegeografiaUF</td>\n",
              "      <td>0.100312</td>\n",
              "      <td>0.085119</td>\n",
              "    </tr>\n",
              "    <tr>\n",
              "      <th>4</th>\n",
              "      <td>clientegeografiacidade</td>\n",
              "      <td>0.003319</td>\n",
              "      <td>0.004445</td>\n",
              "    </tr>\n",
              "    <tr>\n",
              "      <th>5</th>\n",
              "      <td>clientegeografiaregiao</td>\n",
              "      <td>0.040813</td>\n",
              "      <td>0.017046</td>\n",
              "    </tr>\n",
              "    <tr>\n",
              "      <th>6</th>\n",
              "      <td>clienteidade</td>\n",
              "      <td>0.000507</td>\n",
              "      <td>0.000507</td>\n",
              "    </tr>\n",
              "    <tr>\n",
              "      <th>7</th>\n",
              "      <td>clientesexo</td>\n",
              "      <td>0.038018</td>\n",
              "      <td>0.004800</td>\n",
              "    </tr>\n",
              "    <tr>\n",
              "      <th>8</th>\n",
              "      <td>linha</td>\n",
              "      <td>0.007676</td>\n",
              "      <td>0.014407</td>\n",
              "    </tr>\n",
              "    <tr>\n",
              "      <th>9</th>\n",
              "      <td>marca2</td>\n",
              "      <td>0.054748</td>\n",
              "      <td>0.148272</td>\n",
              "    </tr>\n",
              "    <tr>\n",
              "      <th>10</th>\n",
              "      <td>score</td>\n",
              "      <td>0.002703</td>\n",
              "      <td>0.020085</td>\n",
              "    </tr>\n",
              "  </tbody>\n",
              "</table>\n",
              "</div>"
            ],
            "text/plain": [
              "                     variable  psi_test   psi_oot\n",
              "0                        ISeg  0.011401  0.008674\n",
              "1   Parceirodescricaoreduzida  0.109123  0.343489\n",
              "2                        cep3  0.008783  0.018591\n",
              "3          clientegeografiaUF  0.100312  0.085119\n",
              "4      clientegeografiacidade  0.003319  0.004445\n",
              "5      clientegeografiaregiao  0.040813  0.017046\n",
              "6                clienteidade  0.000507  0.000507\n",
              "7                 clientesexo  0.038018  0.004800\n",
              "8                       linha  0.007676  0.014407\n",
              "9                      marca2  0.054748  0.148272\n",
              "10                      score  0.002703  0.020085"
            ]
          },
          "metadata": {
            "tags": []
          },
          "execution_count": 58
        }
      ]
    },
    {
      "cell_type": "markdown",
      "metadata": {
        "id": "QSz29f84vBCB"
      },
      "source": [
        "**Interpretation**:\n",
        "\n",
        "* PSI do score < 0.1: no significant population change\n",
        "* PSI do score < 0.2: moderate population change\n",
        "* PSI do score >= 0.2: significant population change\n",
        "\n",
        "Como ambos `psi_test` e `psi_oot` são menores que **0.1**, **0.002703** e **0.020085** respectivamente, logo nosso modelo está bem estável e pode continuar sendo usado com confiança."
      ]
    },
    {
      "cell_type": "code",
      "metadata": {
        "id": "oLXFa5-3vBCB"
      },
      "source": [
        ""
      ],
      "execution_count": null,
      "outputs": []
    }
  ]
}